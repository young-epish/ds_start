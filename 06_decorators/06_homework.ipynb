{
  "cells": [
    {
      "cell_type": "markdown",
      "metadata": {
        "id": "QY4qPJPpgyIS"
      },
      "source": [
        "# Домашнее задание: декораторы"
      ]
    },
    {
      "cell_type": "markdown",
      "metadata": {
        "id": "Chacc6YchldZ"
      },
      "source": [
        "## Импорт библиотек, установка констант"
      ]
    },
    {
      "cell_type": "code",
      "execution_count": 1,
      "metadata": {
        "id": "w8iKrWvwhrFd"
      },
      "outputs": [],
      "source": [
        "import requests\n",
        "import time\n",
        "import re\n",
        "import functools\n",
        "\n",
        "from random import randint"
      ]
    },
    {
      "cell_type": "code",
      "execution_count": 2,
      "metadata": {
        "id": "-LRkS0fSi8Np"
      },
      "outputs": [],
      "source": [
        "BOOK_PATH = 'https://www.gutenberg.org/files/2638/2638-0.txt'"
      ]
    },
    {
      "cell_type": "markdown",
      "metadata": {
        "id": "kARfL8ifg4MH"
      },
      "source": [
        "## Задание 1"
      ]
    },
    {
      "cell_type": "code",
      "execution_count": 8,
      "metadata": {
        "id": "hNHNWPhngrUl"
      },
      "outputs": [],
      "source": [
        "def benchmark(func):\n",
        "    \"\"\"\n",
        "    Декоратор, выводящий время, которое заняло выполнение декорируемой функции\n",
        "    \"\"\"\n",
        "    @functools.wraps(func)\n",
        "    def wrapper(*args, **kwargs):\n",
        "        start = time.perf_counter()\n",
        "        result = func(*args, **kwargs)\n",
        "        finish = time.perf_counter()\n",
        "        print(f\"Время выполнения функции {func.__name__}: {finish - start}\")\n",
        "        return result\n",
        "    \n",
        "    return wrapper"
      ]
    },
    {
      "cell_type": "markdown",
      "metadata": {
        "id": "tGlbUKjihL5n"
      },
      "source": [
        "## Задание 2"
      ]
    },
    {
      "cell_type": "code",
      "execution_count": 4,
      "metadata": {
        "id": "wugOZDLqhNe-"
      },
      "outputs": [],
      "source": [
        "def logging(func):\n",
        "    \"\"\"\n",
        "    Декоратор, который выводит параметры с которыми была вызвана функция\n",
        "    \"\"\"\n",
        "    @functools.wraps(func)\n",
        "    def wrapper(*args, **kwargs):\n",
        "        print(\"Функция вызвана с параметрами:\")\n",
        "        print(args, kwargs)\n",
        "\n",
        "        result = func(*args, **kwargs)\n",
        "        return result\n",
        "\n",
        "    return wrapper"
      ]
    },
    {
      "cell_type": "markdown",
      "metadata": {
        "id": "Sq1tv5fshTfv"
      },
      "source": [
        "## Задание 3"
      ]
    },
    {
      "cell_type": "code",
      "execution_count": 5,
      "metadata": {
        "id": "9nyvuxXkhVeb"
      },
      "outputs": [],
      "source": [
        "def counter(func):\n",
        "    \"\"\"\n",
        "    Декоратор, считающий и выводящий количество вызовов декорируемой функции\n",
        "    \"\"\"\n",
        "    func._counter = 0\n",
        "\n",
        "    @functools.wraps(func)\n",
        "    def wrapper(*args, **kwargs):\n",
        "        # Увеличиваем счетчик вызовов\n",
        "        func._counter += 1\n",
        "        # Выводим количество вызовов функции\n",
        "        print(f\"Функция была вызвана: {func._counter} раз\")\n",
        "\n",
        "        result = func(*args, **kwargs)\n",
        "        return result\n",
        "    \n",
        "    return wrapper"
      ]
    },
    {
      "cell_type": "markdown",
      "metadata": {
        "id": "uHn8Adfshz5q"
      },
      "source": [
        "## Задание 4"
      ]
    },
    {
      "cell_type": "code",
      "execution_count": 6,
      "metadata": {
        "id": "R7uu6WtGifNX"
      },
      "outputs": [],
      "source": [
        "def memo(func):\n",
        "    \"\"\"\n",
        "    Декоратор, запоминающий результаты исполнения функции func, чьи аргументы args должны быть хешируемыми\n",
        "    \"\"\"\n",
        "    cache = {}  # Словарь для хранения кэшированных результатов\n",
        "\n",
        "    def fmemo(*args):\n",
        "        # Проверяем, есть ли результат в кэше\n",
        "        if not args in cache:\n",
        "            cache[args] = func(*args)\n",
        "        return cache[args]\n",
        "\n",
        "    fmemo.cache = cache\n",
        "    return fmemo"
      ]
    },
    {
      "cell_type": "markdown",
      "metadata": {
        "id": "Zn5UQCa_izxo"
      },
      "source": [
        "## Тестирование"
      ]
    },
    {
      "cell_type": "code",
      "execution_count": 9,
      "metadata": {
        "id": "CHCJ64I8i2QB"
      },
      "outputs": [
        {
          "name": "stdout",
          "output_type": "stream",
          "text": [
            "Функция была вызвана: 1 раз\n",
            "Функция вызвана с параметрами:\n",
            "('whole',) {}\n",
            "Время выполнения функции word_count: 3.293375900015235\n",
            "Cлово whole встречается 176 раз\n"
          ]
        }
      ],
      "source": [
        "@counter\n",
        "@logging\n",
        "@benchmark\n",
        "def word_count(word, url=BOOK_PATH):\n",
        "    \"\"\"\n",
        "    Функция для посчета указанного слова на html-странице\n",
        "    \"\"\"\n",
        "\n",
        "    # отправляем запрос в библиотеку Gutenberg и забираем текст\n",
        "    raw = requests.get(url).text\n",
        "\n",
        "    # заменяем в тексте все небуквенные символы на пробелы\n",
        "    processed_book = re.sub('[\\W]+' , ' ', raw).lower()\n",
        "\n",
        "    # считаем\n",
        "    cnt = len(re.findall(word.lower(), processed_book))\n",
        "\n",
        "    return f\"Cлово {word} встречается {cnt} раз\"\n",
        "\n",
        "print(word_count('whole'))"
      ]
    },
    {
      "cell_type": "code",
      "execution_count": 38,
      "metadata": {
        "id": "ZE4Rfn-hh3k3"
      },
      "outputs": [],
      "source": [
        "def fib(n):\n",
        "    if n < 2:\n",
        "        return n\n",
        "    return fib(n-2) + fib(n-1)"
      ]
    },
    {
      "cell_type": "code",
      "execution_count": 45,
      "metadata": {
        "id": "Io94NyjiiXG4"
      },
      "outputs": [
        {
          "name": "stdout",
          "output_type": "stream",
          "text": [
            "12.9 μs ± 322 ns per loop (mean ± std. dev. of 7 runs, 100,000 loops each)\n"
          ]
        }
      ],
      "source": [
        "%%timeit\n",
        "# измеряем время выполнения\n",
        "fib(10)"
      ]
    },
    {
      "cell_type": "code",
      "execution_count": 46,
      "metadata": {
        "id": "W9B3e-t9iTUj"
      },
      "outputs": [],
      "source": [
        "@memo\n",
        "def fib(n):\n",
        "    if n < 2:\n",
        "        return n\n",
        "    return fib(n-2) + fib(n-1)"
      ]
    },
    {
      "cell_type": "code",
      "execution_count": 47,
      "metadata": {
        "id": "Sk6_4KQaidkh"
      },
      "outputs": [
        {
          "name": "stdout",
          "output_type": "stream",
          "text": [
            "128 ns ± 1.18 ns per loop (mean ± std. dev. of 7 runs, 10,000,000 loops each)\n"
          ]
        }
      ],
      "source": [
        "%%timeit\n",
        "# измеряем время выполнения\n",
        "fib(10)"
      ]
    }
  ],
  "metadata": {
    "colab": {
      "provenance": []
    },
    "kernelspec": {
      "display_name": "pp310 (env)",
      "language": "python",
      "name": "pp310"
    },
    "language_info": {
      "codemirror_mode": {
        "name": "ipython",
        "version": 3
      },
      "file_extension": ".py",
      "mimetype": "text/x-python",
      "name": "python",
      "nbconvert_exporter": "python",
      "pygments_lexer": "ipython3",
      "version": "3.10.11"
    }
  },
  "nbformat": 4,
  "nbformat_minor": 0
}
