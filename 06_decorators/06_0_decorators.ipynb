{
 "cells": [
  {
   "cell_type": "markdown",
   "metadata": {},
   "source": [
    "# Шаблоны декораторов"
   ]
  },
  {
   "cell_type": "markdown",
   "metadata": {},
   "source": [
    "Код внутри декоратора обычно создает новую функцию `wrapper()`, которая принимает любые аргументы через `*args` и `**kwargs`. Внутри этой функции помещается вызов начальной входящей функции и возвращается ее результат. При этом можно добавить дополнительный код по желанию (например, профилирующий). Созданная функция `wrapper()` возвращается в результате и занимает место изначальной функции. Использование `*args` и `**kwargs` здесь позволяет убедиться, что могут быть приняты любые входные аргументы. Возвращаемое значение декоратора практически всегда будет результатом вызова `func(*args, **kwargs)`, где `func` – это изначальная недекорированная функция.\n",
    "\n",
    "Применение декоратора `functools.wraps` к замыканию-обертке, возвращаемому декоратором, переносит в него строку документации и другие метаданные входной функции. Рекомендуется использовать декоратор `functools.wraps` во всех декораторах, которые вы пишете сами."
   ]
  },
  {
   "cell_type": "code",
   "execution_count": null,
   "metadata": {},
   "outputs": [],
   "source": [
    "import functools\n",
    "\n",
    "def decorator(func):\n",
    "    @functools.wraps(func)\n",
    "    def wrapper(*args, **kwargs):\n",
    "        # Что-то выполняется до вызова декорируемой функции\n",
    "        value = func(*args, **kwargs)\n",
    "        # декорируется возвращаемое значение функции\n",
    "        # или что-то выполняется после вызова декорируемой функции\n",
    "        return value\n",
    "    return wrapper"
   ]
  },
  {
   "cell_type": "markdown",
   "metadata": {},
   "source": [
    "# Декоратор измерения времени работы функции"
   ]
  },
  {
   "cell_type": "code",
   "execution_count": 1,
   "metadata": {},
   "outputs": [],
   "source": [
    "import time\n",
    "from functools import wraps\n",
    "\n",
    "def timeit(func):\n",
    "    @wraps(func)\n",
    "    def wrapper(*args, **kwargs):\n",
    "        start = time.perf_counter() \n",
    "        result = func(*args, **kwargs)\n",
    "        end = time.perf_counter() \n",
    "        print(f'{func.__name__} потребовалось {end - start:.6f} секунд')\n",
    "        return result\n",
    "    return wrapper"
   ]
  },
  {
   "cell_type": "markdown",
   "metadata": {},
   "source": [
    "Посмотрим, что делает @timeit:\n",
    "\n",
    "1. Запоминает начальный момент времени `start`.\n",
    "1. Вызывает исходную функцию и сохраняет результат.\n",
    "1. Вычисляет, сколько прошло времени `end` - `start`.\n",
    "1. Печатает информацию о времени работы.\n",
    "1. Возвращает результат, сохраненный на шаге 2."
   ]
  },
  {
   "cell_type": "code",
   "execution_count": 2,
   "metadata": {},
   "outputs": [
    {
     "name": "stdout",
     "output_type": "stream",
     "text": [
      "get_webpage потребовалось 0.479757 секунд\n"
     ]
    }
   ],
   "source": [
    "@timeit\n",
    "def get_webpage():\n",
    "    import requests\n",
    "    webpage = requests.get('https://stepik.org')\n",
    "\n",
    "get_webpage()"
   ]
  }
 ],
 "metadata": {
  "kernelspec": {
   "display_name": "pp310 (env)",
   "language": "python",
   "name": "pp310"
  },
  "language_info": {
   "codemirror_mode": {
    "name": "ipython",
    "version": 3
   },
   "file_extension": ".py",
   "mimetype": "text/x-python",
   "name": "python",
   "nbconvert_exporter": "python",
   "pygments_lexer": "ipython3",
   "version": "3.10.11"
  }
 },
 "nbformat": 4,
 "nbformat_minor": 2
}
