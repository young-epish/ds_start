{
  "cells": [
    {
      "cell_type": "markdown",
      "metadata": {
        "id": "AwrBpoKYuwCn"
      },
      "source": [
        "# ООП в Python. Часть 2\n"
      ]
    },
    {
      "cell_type": "markdown",
      "metadata": {
        "id": "tjHGWGuREEay"
      },
      "source": [
        "## Основные концепции ООП"
      ]
    },
    {
      "cell_type": "markdown",
      "metadata": {
        "id": "um7MLDn8EK9B"
      },
      "source": [
        "Объектно-ориентированное программирование (ООП) является методологией разработки программного обеспечения, в основе которой лежит понятие класса и объекта, при этом сама программа создается как некоторая совокупность объектов, которые взаимодействую друг с другом и с внешним миром. Каждый объект является экземпляром некоторого класса. Классы образуют иерархии. Классы, как и функции, создаются и используются для удобства и упрощения разработки программ. Более подробно о понятии ООП можно прочитать на [википедии](https://ru.wikipedia.org/wiki/%D0%9E%D0%B1%D1%8A%D0%B5%D0%BA%D1%82%D0%BD%D0%BE-%D0%BE%D1%80%D0%B8%D0%B5%D0%BD%D1%82%D0%B8%D1%80%D0%BE%D0%B2%D0%B0%D0%BD%D0%BD%D0%BE%D0%B5_%D0%BF%D1%80%D0%BE%D0%B3%D1%80%D0%B0%D0%BC%D0%BC%D0%B8%D1%80%D0%BE%D0%B2%D0%B0%D0%BD%D0%B8%D0%B5).\n",
        "\n",
        "Выделяют три (иногда четыре, добавляя *абстракцию*) основных “столпа” ООП - это *инкапсуляция*, *наследование* и полиморфизм."
      ]
    },
    {
      "cell_type": "markdown",
      "metadata": {
        "id": "57byHXhMDI6V"
      },
      "source": [
        "### Инкапсуляция\n",
        "\n",
        "Под инкапсуляцией понимается сокрытие деталей реализации, данных и т.п. от внешней стороны. Например, можно определить класс `холодильник`, который будет содержать следующие данные: `производитель`, `объем`, `количество камер хранения`, `потребляемая мощность` и т.п., и методы: `открыть/закрыть холодильник`, `включить/выключить`, но при этом реализация того, как происходит непосредственно включение и выключение пользователю вашего класса не доступна, что позволяет ее менять без опасения, что это может отразиться на использующей класс «холодильник» программе. При этом класс становится новым типом данных в рамках разрабатываемой программы. Можно создавать переменные этого нового типа, такие переменные называются объекты."
      ]
    },
    {
      "cell_type": "markdown",
      "metadata": {
        "id": "UmajC6hAEpxe"
      },
      "source": [
        "### Наследование\n",
        "\n",
        "Под наследованием понимается возможность создания нового класса на базе существующего. При этом класс потомок будет содержать те же атрибуты и методы, что и базовый класс, но при этом его можно (и нужно) расширять через добавление новых методов и атрибутов.\n",
        "\n",
        "Примером базового класса, демонстрирующего наследование, можно определить класс `автомобиль`, имеющий атрибуты: масса, мощность двигателя, объем топливного бака и методы: завести и заглушить. У такого класса может быть потомок – `грузовой автомобиль`, он будет содержать те же атрибуты и методы, что и класс `автомобиль`, и дополнительные свойства: количество осей, мощность компрессора и т.п.."
      ]
    },
    {
      "cell_type": "markdown",
      "metadata": {
        "id": "Vqr3QY1pEn8C"
      },
      "source": [
        "### Полиморфизм\n",
        "\n",
        "Полиморфизм позволяет одинаково обращаться с объектами, имеющими однотипный интерфейс, независимо от внутренней реализации объекта. Например, с объектом класса `грузовой автомобиль` можно производить те же операции, что и с объектом класса `автомобиль`, т.к. первый является наследником второго, при этом обратное утверждение неверно (во всяком случае не всегда). Другими словами полиморфизм предполагает разную реализацию методов с одинаковыми именами. Это очень полезно при наследовании, когда в классе наследнике можно переопределить методы класса родителя.\n",
        "\n",
        "Простым примером полиморфизма может служить функция `count()`, выполняющая одинаковое действие для различных типов обьектов: `'abc'.count('a')` и `[1, 2, 'a'].count('a')`.  \n",
        "Оператор плюс полиморфичен при сложении чисел и при сложении строк."
      ]
    },
    {
      "cell_type": "markdown",
      "metadata": {
        "id": "3HO9e-ZJdmsS"
      },
      "source": [
        "## Дескрипторы\n",
        "\n",
        "Дескрипторы позволяют обобщить это поведение. Допустим, у нас сразу 2 элемента, на которые мы хотим навесить ограничение, чтобы они не были, допустим, отрицательными. Можно прописать свойства для каждого, а можно сделать лучше!"
      ]
    },
    {
      "cell_type": "code",
      "execution_count": null,
      "metadata": {
        "id": "e3pT0PC2dbSs"
      },
      "outputs": [],
      "source": [
        "class Order:\n",
        "    def __init__(self, name, price, quantity):\n",
        "        self.name = name\n",
        "        self.price = price\n",
        "        self.quantity = quantity\n",
        "\n",
        "    def total(self):\n",
        "        return self.price * self.quantity"
      ]
    },
    {
      "cell_type": "code",
      "execution_count": 1,
      "metadata": {
        "id": "TlgYCPq8fanC"
      },
      "outputs": [],
      "source": [
        "class NonNegative:\n",
        "    def __init__(self, name):\n",
        "        self.name = name\n",
        "\n",
        "    def __get__(self, instance, owner):\n",
        "        return instance.__dict__[self.name]\n",
        "\n",
        "    def __set__(self, instance, value):\n",
        "        if value < 0:\n",
        "            raise ValueError(\"Cannot be negative.\")\n",
        "        instance.__dict__[self.name] = value"
      ]
    },
    {
      "cell_type": "code",
      "execution_count": 2,
      "metadata": {
        "id": "c5vVx7sNfGJh"
      },
      "outputs": [],
      "source": [
        "class Order:\n",
        "    price = NonNegative(\"price\")\n",
        "    quantity = NonNegative(\"quantity\")\n",
        "\n",
        "    def __init__(self, name, price, quantity):\n",
        "        self._name = name\n",
        "        self.price = price\n",
        "        self.quantity = quantity\n",
        "\n",
        "    def total(self):\n",
        "        return self.price * self.quantity"
      ]
    },
    {
      "cell_type": "code",
      "execution_count": 5,
      "metadata": {
        "colab": {
          "base_uri": "https://localhost:8080/"
        },
        "id": "9tgr4mvNy6Rg",
        "outputId": "bc024f76-f8a0-4b1f-f798-f28266670ea5"
      },
      "outputs": [
        {
          "name": "stdout",
          "output_type": "stream",
          "text": [
            "50\n"
          ]
        }
      ],
      "source": [
        "order = Order(\"apple\", 10, 5)\n",
        "print(order.total())\n",
        "order.quantity = 10"
      ]
    },
    {
      "cell_type": "markdown",
      "metadata": {
        "id": "dizc14rDfwO5"
      },
      "source": [
        "А теперь уберём ещё немного дублирования! (3.6+)"
      ]
    },
    {
      "cell_type": "code",
      "execution_count": 6,
      "metadata": {
        "id": "MTJIOjWJfyxn"
      },
      "outputs": [],
      "source": [
        "class NonNegative:\n",
        "    def __get__(self, instance, owner):\n",
        "        return instance.__dict__[self.name]\n",
        "\n",
        "    def __set__(self, instance, value):\n",
        "        if value < 0:\n",
        "            raise ValueError(\"Cannot be negative.\")\n",
        "        instance.__dict__[self.name] = value\n",
        "\n",
        "    def __set_name__(self, owner, name):\n",
        "        self.name = name"
      ]
    },
    {
      "cell_type": "code",
      "execution_count": 7,
      "metadata": {
        "id": "cE1ZffXQgllt"
      },
      "outputs": [],
      "source": [
        "class Order:\n",
        "    price = NonNegative()\n",
        "    quantity = NonNegative()\n",
        "\n",
        "    def __init__(self, name, price, quantity):\n",
        "        self._name = name\n",
        "        self.price = price\n",
        "        self.quantity = quantity\n",
        "\n",
        "    def total(self):\n",
        "        return self.price * self.quantity"
      ]
    },
    {
      "cell_type": "code",
      "execution_count": 8,
      "metadata": {
        "colab": {
          "base_uri": "https://localhost:8080/"
        },
        "id": "LhxBNe7ZgeVZ",
        "outputId": "193ab87f-00c3-4542-e413-150a5cadd659"
      },
      "outputs": [
        {
          "name": "stdout",
          "output_type": "stream",
          "text": [
            "10\n"
          ]
        },
        {
          "data": {
            "text/plain": [
              "{'_name': 'apple', 'price': 1, 'quantity': 10}"
            ]
          },
          "execution_count": 8,
          "metadata": {},
          "output_type": "execute_result"
        }
      ],
      "source": [
        "apple_order = Order(\"apple\", 1, 10)\n",
        "print(apple_order.total())\n",
        "apple_order.__dict__"
      ]
    },
    {
      "cell_type": "markdown",
      "metadata": {
        "id": "qDelGIarMaQZ"
      },
      "source": [
        "## Методы бывают разные"
      ]
    },
    {
      "cell_type": "markdown",
      "metadata": {
        "id": "fVBNIXVdDI6k"
      },
      "source": [
        "### `@staticmethod`"
      ]
    },
    {
      "cell_type": "markdown",
      "metadata": {
        "id": "abNc0aYsDI6k"
      },
      "source": [
        "Иногда метод объекта никак не использует его атрибуты (не обращается к self), а просто выполняет независимую логику. В таком случае такой метод называется статическим. Мы можем использовать на нём специальный декоратор `@staticmethod`, и тогда мы помимо прочего сможем вызывать его, даже не создавая объект"
      ]
    },
    {
      "cell_type": "markdown",
      "metadata": {
        "id": "jq5g8IM-DI6k"
      },
      "source": [
        "Попробуем это на примере нашего термометра. Предположим, мы хотим научить его вычислять выдавать температуру в градусах по Фаренгейту. В таком случае нам следует определить метод `get_fahrenheit` и хорошо бы вынести сам перевод в отдельный метод `celsius_to_fahrenheit`:"
      ]
    },
    {
      "cell_type": "code",
      "execution_count": 9,
      "metadata": {
        "id": "9KTyV7O8DI6k"
      },
      "outputs": [],
      "source": [
        "class Thermometer:\n",
        "    \"\"\"\n",
        "    Thermometer containing temperature in Celsius\n",
        "    :param temperature: temperature to contain\n",
        "    \"\"\"\n",
        "\n",
        "    MINIMAL_TEMPERATURE = -273.15\n",
        "\n",
        "    def __init__(self, temperature: float) -> None:\n",
        "        self.temperature = temperature\n",
        "\n",
        "    @property\n",
        "    def temperature(self) -> float:\n",
        "        return self._temperature\n",
        "\n",
        "    @temperature.setter\n",
        "    def temperature(self, value: float) -> None:\n",
        "        if value < Thermometer.MINIMAL_TEMPERATURE:\n",
        "            raise ValueError(\n",
        "                f\"Temperature cannot be less than {Thermometer.MINIMAL_TEMPERATURE}\"\n",
        "            )\n",
        "        self._temperature = value\n",
        "\n",
        "    def celsius_to_fahrenheit(self, value) -> float:\n",
        "        return value * 1.8 + 32\n",
        "\n",
        "    def get_fahrenheit(self) -> float:\n",
        "        return self.celsius_to_fahrenheit(self.temperature)\n"
      ]
    },
    {
      "cell_type": "code",
      "execution_count": null,
      "metadata": {
        "id": "_raF79i4uial"
      },
      "outputs": [],
      "source": [
        "def celsius_to_fahrenheit(value: float) -> float:\n",
        "        return value * 1.8 + 32"
      ]
    },
    {
      "cell_type": "code",
      "execution_count": 10,
      "metadata": {
        "colab": {
          "base_uri": "https://localhost:8080/"
        },
        "id": "SjXhCFEoNx_H",
        "outputId": "5695a3f1-576a-4788-df1d-6502a357a784"
      },
      "outputs": [
        {
          "name": "stdout",
          "output_type": "stream",
          "text": [
            "10.0 градусов по Цельсию равны 50.0 градусов по Фаренгейту\n"
          ]
        }
      ],
      "source": [
        "thermometer = Thermometer(10.0)\n",
        "print(\n",
        "    f\"{thermometer.temperature} градусов по Цельсию равны {thermometer.get_fahrenheit()} градусов по Фаренгейту\"\n",
        ")"
      ]
    },
    {
      "cell_type": "markdown",
      "metadata": {
        "id": "iyp2Jw9sDI6k"
      },
      "source": [
        "Наша функция `celsius_to_fahrenheit` просто переводит температуру, которую получает на вход. Она никак не использует `self`. Давайте сделаем её статическим методом."
      ]
    },
    {
      "cell_type": "code",
      "execution_count": 11,
      "metadata": {
        "id": "ovzIRBQKDI6k"
      },
      "outputs": [],
      "source": [
        "class Thermometer:\n",
        "    \"\"\"\n",
        "    Thermometer containing temperature in Celsius\n",
        "    :param temperature: temperature to contain\n",
        "    \"\"\"\n",
        "\n",
        "    MINIMAL_TEMPERATURE = -273.15\n",
        "\n",
        "    def __init__(self, temperature: float) -> None:\n",
        "        self.temperature = temperature\n",
        "\n",
        "    @property\n",
        "    def temperature(self) -> float:\n",
        "        return self._temperature\n",
        "\n",
        "    @temperature.setter\n",
        "    def temperature(self, value: float) -> None:\n",
        "        if value < Thermometer.MINIMAL_TEMPERATURE:\n",
        "            raise ValueError(\n",
        "                f\"Temperature cannot be less than {Thermometer.MINIMAL_TEMPERATURE}\"\n",
        "            )\n",
        "        self._temperature = value\n",
        "\n",
        "    @staticmethod\n",
        "    def celsius_to_fahrenheit(value) -> float:\n",
        "        return value * 1.8 + 32\n",
        "\n",
        "    def get_fahrenheit(self) -> float:\n",
        "        return self.celsius_to_fahrenheit(self.temperature)"
      ]
    },
    {
      "cell_type": "code",
      "execution_count": 15,
      "metadata": {
        "colab": {
          "base_uri": "https://localhost:8080/"
        },
        "id": "kIYky4o8PYxv",
        "outputId": "a4393349-662a-47e5-d7cc-1ffac5d1b64e"
      },
      "outputs": [
        {
          "data": {
            "text/plain": [
              "50.0"
            ]
          },
          "execution_count": 15,
          "metadata": {},
          "output_type": "execute_result"
        }
      ],
      "source": [
        "# Thermometer.celsius_to_fahrenheit(10)\n",
        "thermometer = Thermometer(10)\n",
        "thermometer.celsius_to_fahrenheit(10.0)"
      ]
    },
    {
      "cell_type": "markdown",
      "metadata": {
        "id": "h8l75EO_DI6l"
      },
      "source": [
        "Обратите внимание, что мы всё так же можем вызывать функцию от объекта класса (как, например, от `self` в `get_fahrenheit`). Но так же теперь мы можем вызывать её и от самого класса:"
      ]
    },
    {
      "cell_type": "code",
      "execution_count": 13,
      "metadata": {
        "colab": {
          "base_uri": "https://localhost:8080/"
        },
        "id": "kVSsW6SIDI6l",
        "outputId": "87439fc0-2b1a-41c4-d62a-f653708905cc"
      },
      "outputs": [
        {
          "data": {
            "text/plain": [
              "50.0"
            ]
          },
          "execution_count": 13,
          "metadata": {},
          "output_type": "execute_result"
        }
      ],
      "source": [
        "Thermometer.celsius_to_fahrenheit(10.0)"
      ]
    },
    {
      "cell_type": "markdown",
      "metadata": {
        "id": "YwHIhiokDI6l"
      },
      "source": [
        "### `@classmethod`"
      ]
    },
    {
      "cell_type": "markdown",
      "metadata": {
        "id": "ByG2zLQtDI6l"
      },
      "source": [
        "Бывает и другая ситуация. Когда метод не использует атрибуты объекта (не обращается к `self`), но использует знание о том, из какого класса он вызывается. Такой метод называется методом класса и мы можем обозначить его декоратором `@classmethod`. Метод с декоратором `@classmethod` принимает в качестве первого аргумента не объект класса (`self`), а сам класс (`cls`)."
      ]
    },
    {
      "cell_type": "markdown",
      "metadata": {
        "id": "cWBysNbCDI6l"
      },
      "source": [
        "Предположим, мы хотим уметь создавать наш термометр сразу из температуры по Фаренгейту. Но наш `__init__` принимает температуру в градусах Цельсия. Создадим новый метод класса `from_fahrenheit`, который будет переводить полученную температуру из Фаренгейта в Цельсии (при помощи нового статического метода `fahrenheit_to_celsius` и возвращать новый объект класса:"
      ]
    },
    {
      "cell_type": "code",
      "execution_count": 16,
      "metadata": {
        "id": "lPGs12jrDI6l"
      },
      "outputs": [],
      "source": [
        "class Thermometer:\n",
        "    \"\"\"\n",
        "    Thermometer containing temperature in Celsius\n",
        "    :param temperature: temperature to contain\n",
        "    \"\"\"\n",
        "\n",
        "    MINIMAL_TEMPERATURE = -273.15\n",
        "\n",
        "    def __init__(self, temperature: float) -> None:\n",
        "        self.temperature = temperature\n",
        "\n",
        "    @property\n",
        "    def temperature(self) -> float:\n",
        "        return self._temperature\n",
        "\n",
        "    @temperature.setter\n",
        "    def temperature(self, value: float) -> None:\n",
        "        if value < Thermometer.MINIMAL_TEMPERATURE:\n",
        "            raise ValueError(\n",
        "                f\"Temperature cannot be less than {Thermometer.MINIMAL_TEMPERATURE}\"\n",
        "            )\n",
        "        self._temperature = value\n",
        "\n",
        "    @staticmethod\n",
        "    def celsius_to_fahrenheit(value) -> float:\n",
        "        return value * 1.8 + 32\n",
        "\n",
        "    @staticmethod\n",
        "    def fahrenheit_to_celsius(value) -> float:\n",
        "        return (value - 32) / 1.8\n",
        "\n",
        "    def get_fahrenheit(self) -> float:\n",
        "        print(type(self))\n",
        "        return self.celsius_to_fahrenheit(self.temperature)\n",
        "\n",
        "    @classmethod\n",
        "    def from_fahrenheit(cls, temperature_fahrenheit) -> Thermometer:\n",
        "        temperature_celsius = cls.fahrenheit_to_celsius(temperature_fahrenheit)\n",
        "        print(type(cls))\n",
        "        return cls(temperature_celsius)"
      ]
    },
    {
      "cell_type": "markdown",
      "metadata": {
        "id": "0VcD9xRhDI6m"
      },
      "source": [
        "Теперь мы можем создать термометер из градусов по Фаренгейту:"
      ]
    },
    {
      "cell_type": "code",
      "execution_count": 17,
      "metadata": {
        "colab": {
          "base_uri": "https://localhost:8080/"
        },
        "id": "44fabdpzDI6m",
        "outputId": "343f533d-8684-4446-82d5-6646e992e254"
      },
      "outputs": [
        {
          "name": "stdout",
          "output_type": "stream",
          "text": [
            "<class 'type'>\n"
          ]
        }
      ],
      "source": [
        "thermometer_1 = Thermometer(10)\n",
        "thermometer_2 = thermometer_1.from_fahrenheit(100)"
      ]
    },
    {
      "cell_type": "markdown",
      "metadata": {
        "id": "bhVUAsxSDI6m"
      },
      "source": [
        "## Наследование, `super()`\n",
        "\n",
        "Одним из главных механизмов ООП является наследование. Класс может отнаследоваться от другого класса, тем самым получая доступ к его методам и атрибутам. Класс-ребёнок может добавлять свои новые методы и переопределять методы класса-родителя, но так же может использовать и все методы, определённые в классе родителе. Родительский класс в питоне указывается в скобках после названия класса во время объявления: `class Children(Parent)`. Причём один класс может быть ребёнком сразу нескольких классов. В таком случае они перечисляются через запятую.\n",
        "\n",
        "Попробуем создать общий класс `Person`, который будет иметь атрибут `name` и сможет представляться при помощи метода `introduce`:"
      ]
    },
    {
      "cell_type": "code",
      "execution_count": 25,
      "metadata": {
        "id": "ToR9XqnxDI6o"
      },
      "outputs": [],
      "source": [
        "class Person:\n",
        "    \"\"\"\n",
        "    A class representing a person with a name that can introduce himself\n",
        "    :param name: the name of the person\n",
        "    \"\"\"\n",
        "\n",
        "    def __init__(self, name: str) -> None:\n",
        "        self.name = name\n",
        "\n",
        "    def introduce(self) -> None:\n",
        "        print(f\"Hello, my name is {self.name}\")\n",
        "\n",
        "    def __str__(self) -> str:\n",
        "        return f\"A person named {self.name}\"\n"
      ]
    },
    {
      "cell_type": "code",
      "execution_count": 26,
      "metadata": {
        "colab": {
          "base_uri": "https://localhost:8080/"
        },
        "id": "qotM5ffu35o4",
        "outputId": "c7017562-89ad-4b5f-cc94-6c8443d8cd08"
      },
      "outputs": [
        {
          "name": "stdout",
          "output_type": "stream",
          "text": [
            "Hello, my name is Dima\n",
            "A person named Dima\n"
          ]
        }
      ],
      "source": [
        "person = Person(\"Dima\")\n",
        "person.introduce()\n",
        "print(person)"
      ]
    },
    {
      "cell_type": "markdown",
      "metadata": {
        "id": "sPuXprzcDI6o"
      },
      "source": [
        "Теперь создадим подклассы Teacher и Student. Помимо имени у преподавателя будет поле `discipline`, а у студента поле `marks`:"
      ]
    },
    {
      "cell_type": "code",
      "execution_count": 27,
      "metadata": {
        "id": "wh6BkdztDI6o"
      },
      "outputs": [],
      "source": [
        "from typing import Dict\n",
        "\n",
        "\n",
        "class Teacher(Person):\n",
        "    \"\"\"\n",
        "    A class representing a teacher with his discipline\n",
        "    :param name: the name of the teacher\n",
        "    :param discipline: the discipline taught by the teacher\n",
        "    \"\"\"\n",
        "\n",
        "    def __init__(self, name: str, discipline: str) -> None:\n",
        "        super().__init__(name)  # Вызываем __init__ класса-родителя\n",
        "        self.discipline = discipline\n",
        "\n",
        "    def __str__(self) -> str:\n",
        "        return f\"A teacher named {self.name} who teaches {self.discipline}\"\n",
        "\n",
        "\n",
        "class Student(Person):\n",
        "    \"\"\"\n",
        "    A class representing a student and his marks\n",
        "    :param name: the name of the student\n",
        "    :param marks: a dict of disciplines as keys and marks as values\n",
        "    \"\"\"\n",
        "\n",
        "    def __init__(self, name: str, marks: Dict[str, int]) -> None:\n",
        "        super().__init__(name)  # Вызываем __init__ класса-родителя\n",
        "        self.marks = marks\n",
        "\n",
        "    def __str__(self) -> str:\n",
        "        return f\"A student named {self.name} with marks {self.marks}\""
      ]
    },
    {
      "cell_type": "code",
      "execution_count": 28,
      "metadata": {
        "colab": {
          "base_uri": "https://localhost:8080/"
        },
        "id": "JOUBsYxASEm3",
        "outputId": "c3adf32d-8a10-4f03-f395-5515610c4815"
      },
      "outputs": [
        {
          "name": "stdout",
          "output_type": "stream",
          "text": [
            "Hello, my name is Evgeny\n",
            "A teacher named Evgeny who teaches Machine Learning\n",
            "\n",
            "Hello, my name is Liza\n",
            "A student named Liza with marks {'Calculus': 5, 'Machine Learning': 10}\n"
          ]
        }
      ],
      "source": [
        "teacher = Teacher(\"Evgeny\", \"Machine Learning\")\n",
        "teacher.introduce()\n",
        "print(teacher)\n",
        "print()\n",
        "\n",
        "student = Student(\"Liza\", {\"Calculus\": 5, \"Machine Learning\": 10})\n",
        "student.introduce()\n",
        "print(student)"
      ]
    },
    {
      "cell_type": "code",
      "execution_count": 29,
      "metadata": {
        "colab": {
          "base_uri": "https://localhost:8080/"
        },
        "id": "TOp8OfzJCq1o",
        "outputId": "9a3cd733-c10e-415f-8fb0-e028588258c2"
      },
      "outputs": [
        {
          "name": "stdout",
          "output_type": "stream",
          "text": [
            "Hello, my name is Dima\n",
            "Hello, my name is Evgeny\n",
            "Hello, my name is Liza\n"
          ]
        }
      ],
      "source": [
        "persons = []\n",
        "persons.append(person)\n",
        "persons.append(teacher)\n",
        "persons.append(student)\n",
        "\n",
        "for i in persons:\n",
        "    i.introduce()"
      ]
    },
    {
      "cell_type": "markdown",
      "metadata": {
        "id": "Iq8XEYvEDI6o"
      },
      "source": [
        "Теперь любой код, который использует метод `introduce` может работать как с классом `Person`, так и с классами `Teacher` и `Student`.\n",
        "\n",
        "И в то же время, ни в одном из этих классов мы не прописывали функцию `introduce`, потому что она уже есть в родительском классе `Person`, так что мы избежали дублирования кода и объединили объекты со схожей логикой между собой."
      ]
    },
    {
      "cell_type": "markdown",
      "metadata": {
        "id": "eQBhp8mHDI6o"
      },
      "source": [
        "Стоит обратить особое внимание на оператор `super()`. Все методы, вызывающиеся от `super()`, будут вызваны от родительского класса (классов) объекта. Таким образом, когда мы вызываем `super().__init__(name)` в классах `Teacher` и `Student` мы выполняем код из метода `__init__` родительского класса `Person`: `self.name = name`, то есть определяем в объекте атрибут `name`. А затем уже мы добавляем новые атрибуты. Если функция `__init__` в родительском классе как-то поменяется, у нас ничего не сломается, и эти изменения будут использоваться и в дочерних классах.\n",
        "\n",
        "Так же следует обратить внимание на то, что метод `__str__` определён как в родительсом классе `Person`, так и в дочерних `Teacher` и `Student`. Таким образом, дочерние классы переопределяют этот метод, и при вызове `print` или `str` от объектов дочерних классов будет вызыван их метод `__str__`, а не родительский."
      ]
    },
    {
      "cell_type": "markdown",
      "metadata": {
        "id": "qF8tj4_nDI6p"
      },
      "source": [
        "Мы могли бы использовать `super()` и не только в `__init__`, например, чтобы расширить функционал представления:"
      ]
    },
    {
      "cell_type": "code",
      "execution_count": 30,
      "metadata": {
        "colab": {
          "base_uri": "https://localhost:8080/"
        },
        "id": "Tf6BVeSWDI6p",
        "outputId": "077a8474-659d-48d1-956b-cdc4257b7a98"
      },
      "outputs": [
        {
          "name": "stdout",
          "output_type": "stream",
          "text": [
            "Hello, my name is Evgeny\n",
            "I teach Machine Learning\n"
          ]
        }
      ],
      "source": [
        "class Teacher(Person):\n",
        "    \"\"\"\n",
        "    A class representing a teacher with his discipline\n",
        "    :param name: the name of the teacher\n",
        "    :param discipline: the discipline taught by the teacher\n",
        "    \"\"\"\n",
        "\n",
        "    def __init__(self, name: str, discipline: str) -> None:\n",
        "        super().__init__(name)  # Вызываем __init__ класса-родителя\n",
        "        self.discipline = discipline\n",
        "\n",
        "    def introduce(self) -> None:\n",
        "        super().introduce()\n",
        "        print(f\"I teach {self.discipline}\")\n",
        "\n",
        "    def __str__(self) -> str:\n",
        "        return f\"A teacher named {self.name} who teaches {self.discipline}\"\n",
        "\n",
        "\n",
        "teacher = Teacher(\"Evgeny\", \"Machine Learning\")\n",
        "teacher.introduce()"
      ]
    },
    {
      "cell_type": "markdown",
      "metadata": {
        "id": "g1M-zCfGDI6p"
      },
      "source": [
        "Кроме того мы могли бы определить в дочерних классах совершенно новые методы, которых нет в классе-родителе:"
      ]
    },
    {
      "cell_type": "code",
      "execution_count": 31,
      "metadata": {
        "colab": {
          "base_uri": "https://localhost:8080/"
        },
        "id": "ht51qMWeDI6p",
        "outputId": "e51a362f-1140-44d9-fee5-512a5287dcb4"
      },
      "outputs": [
        {
          "name": "stdout",
          "output_type": "stream",
          "text": [
            "Hello, my name is Liza\n",
            "Failed disciplines: {'Calculus': 3}\n"
          ]
        }
      ],
      "source": [
        "class Student(Person):\n",
        "    \"\"\"\n",
        "    A class representing a student and his marks\n",
        "    :param name: the name of the student\n",
        "    :param marks: a dict of disciplines as keys and marks as values\n",
        "    \"\"\"\n",
        "\n",
        "    def __init__(self, name: str, marks) -> None:\n",
        "        super().__init__(name)  # Вызываем __init__ класса-родителя\n",
        "        self.marks = marks\n",
        "\n",
        "    def __str__(self) -> str:\n",
        "        return f\"A student named {self.name} with marks {self.marks}\"\n",
        "\n",
        "    def get_fails(self):\n",
        "        \"\"\"\n",
        "        Gets failed disciplines\n",
        "        \"\"\"\n",
        "        return {discipline: mark for discipline, mark in self.marks.items() if mark < 4}\n",
        "\n",
        "\n",
        "student = Student(\"Liza\", {\"Calculus\": 3, \"Machine Learning\": 10})\n",
        "student.introduce()\n",
        "print(f\"Failed disciplines: {student.get_fails()}\")"
      ]
    },
    {
      "cell_type": "markdown",
      "metadata": {
        "id": "Fe90ZXL_DI6p"
      },
      "source": [
        "Мы разобрали очень простой пример наследования. На практике деревья наследования могут быть очень большими, один класс может иметь множество детей и множество родителей. В таких случаях может стать непонятно, в каком именно порядке питон обходит родителей класса, чтобы понять, чью реализацию того или иного метода использовать.\n",
        "\n",
        "Чтобы посмотреть этот порядок можно использовать атрибут **класса** `__mro__` (Method Resolution Order):"
      ]
    },
    {
      "cell_type": "code",
      "execution_count": 32,
      "metadata": {
        "colab": {
          "base_uri": "https://localhost:8080/"
        },
        "id": "8p6-4LJxDI6q",
        "outputId": "f36b71fb-c9e2-40cf-d4dd-e01bf821ff76"
      },
      "outputs": [
        {
          "data": {
            "text/plain": [
              "(__main__.Student, __main__.Person, object)"
            ]
          },
          "execution_count": 32,
          "metadata": {},
          "output_type": "execute_result"
        }
      ],
      "source": [
        "Student.__mro__"
      ]
    },
    {
      "cell_type": "markdown",
      "metadata": {
        "id": "kqZvuIPPDI6q"
      },
      "source": [
        "Мы видим, что если мы попытаемся вызвать у объекта класса `Student`, например, метод `introduce`, то сначала питон попытается найти его реализацию в самом классе `Student`. Если там её не окажется, он попробует класс `Person`, а если и там нет, то родительский класс всех классов `object`. (А если и там нет, то выдаст `AttributeError`)\n",
        "\n",
        "Подробнее про то, как именно питон определяет этот порядок, можно почитать, например, [тут](https://habr.com/ru/post/62203/)."
      ]
    },
    {
      "cell_type": "markdown",
      "metadata": {
        "id": "Y_BMbaKezp28"
      },
      "source": [
        "![image.png](data:image/png;base64,iVBORw0KGgoAAAANSUhEUgAAAgAAAAEsCAIAAAA6nJx9AAAgAElEQVR4Aex9hXcbybL3+wu/9+7u3eyGl4KbheyGNsyxEzPFLEtmZhCYIWaQxWixLLJk2WKpv9PTcmcyo5Elx84m99qnT7u6+lfV1TUzVTM9oP+xWq07xN828efxeLxer8fjQc3t7W1Poj/Md7vdifoPmYeNoRD7DkPBb29v0w1GGLIqslQqeOwu5DqsiqyHifZ6vWQDEI2ZTFKp873EH8anZRuWSkKQ547NRqOQpZAZGEDuQjRdhI75xzl4sge2ZF8/HFgzRTDdgf4p/6drJ2WaOBBR+EnUHmymCTd9QibZEmxGkj2fjE+dxppTFEGBHUczr9e7u7u7ubn5P16vFxB/MeIvGo0CAGKxGJmJusg1wsRisWg0SuYnp5HO5JqZNJBl8ejYTkovBjDxmUbBfCyIOckJJjzm70sg/fvCPhKAZ/GRerB4wk1wgFE+zfSx2ekSB5hRukMcDI8NoxDpavvM/Z9kOulani4+ydBfXBfeSZDlOzs7/7O9vY3CJQrlKAGgGodRshj5gMf8hERy7yQUYWLSVWEkvYuJg0Tok8J8JIg1Yz6FQ2lShiP3UrqSN/FwyWEf2YvN+0g9WJy8P5CZhz4QVo4IrJ9CUGAf06RoRs10FWIlKQpiPIVgEqfAcJOCx3wmgoLHzaPG44EQgYej8PdtpiuI8RRi34HSBSD96Uqli8ezSC6IjlZcezye//F4PEiYnADwUY314mngLqZIipH7mkJRnrxJ1pYcmdAAxMSJjW48k37MpwyKL32YAAnNwOB/kDiYYZTp4ybTRDAAE0zIg/GxWgrBpI0Cw8108ViQQqSuhwmJ+BS1uMkkhQEUIrk2Cph8UFMGoiMRhwLDTSb8YfHxQBSCrp8CoDTpeMShwHAT9UZJf8nxSJA8ClaVkCAjyXRCMGaSkYjGXRQCB30c+qLRqNvtjl8BUNDHzWMPHHvg2APHHqB7IHmcpeM/Z8729jbjFQBa3yclvARr/biXDKYkJYxJkaCIY82IT1dCx5ORuBcLYg4mUBdu4hHpfITBqvBFAJ3PJEseBUulyKTDPitO6lM+FLPJW4FMH4pyyj7wMVPDth2WYRQ9WD+FSBGGpSh43MQACoEBFIICw00KDDcRADcPTOw70IE1f6TgYU0wuRn7Tj8SiQAA8C1epA1eAZBvAqOrg885ZaVuW5Kr2tSVHCOPPXDsgWMP/Kd6wOv1Mt4Epicc5AVyYMUYvK5E5tC9hnuTEGSpJDB8jsaE2TclkieCciPljB7PFw9Btg1PmZzhMROLpEiQNacocjAYHihdcSyYkCBrSwjATDKSTGNAij4k48k0WSeZJmPINBnDRJPxTHS6skeNZ7IzFT7ZNiY8GUOmmfBMfMphyATD/HTH+hg8WRbR2IxU9lIyGNF0hZhDBycXORgeeRv7/P0SEJoPvkaghEJsJZYkD0/upQBwFxmfcGJ0AIWDVJGZdA65l7yFED85HptKJyhqyZrp4OSj0FUdHedwLcEzPVyDj0jt4Rp5rO3YA1+6ByihH03nYxMAPnrJBNlTTHx6DCVLJaSRKnIXnUPuJQ+B+MnxZFMpNEUtWTMFiZt0kU/PQcYc1riHq41s1dFpJo9yTB974L/ZA6kmAIRLcgWAYxwTQfYyBZNKF5MI4tM1YA5dEHMQBjcPQOBRUon+lMsgsuynpNE0D2vEI53UkSo/LA8c6zn2wJfrAXSIUQ60BFcACPH5JABKsCZvAEoXpUmO1EiKAkirmfq4SC0Z/0/Rn48l/5QHjsc99sCxB5AH0ksAaQVHCpjscUoXOf9QurBU8tyDYeT4TlGF7g+TAdgFdGTqnLSUkO38p2g0tX9q9ONxjz1w7IHPxwPJEgCykoxIPSzSkeQ503txVKJ0YSkKn9LEMHJ8p2BQkwzAE0yITJGZlhKynf8Ujf1wdAaQM3qKoxxAJEXNx7BjDxx7gMkD5PCOMXAJCH0LCLMwLpWwiKXo0RZ1paKEEqfoImRV9BHJvWRZuknk3qOmyXb+UzSa49GNfjD96Uoxbamjm1dyzUdtz1HrTz67z6f32A+Huy1wYCerPXgCIGtBNN5g5C7M3JfAUmQkZuJongoHacAi+JQT88lKME0e9+NprPYfJJLPN2XDojEA4Ldh0b9YFADIicZAFH40Nv7V2JS1ETKxGKED6d2vJt5AB/QajUyvUzeFjKTrYeAw7RtkZQloBm2EZz/wwMH0x7cRHBh+zff95orrhlsN8b+U+mB++FJm9+ntTDsBkAMoeWNg0xETNxFBjghMADKfrpnModOU4Q7QpOtEnOSqyFLJkbiXLEKhMSYJQRHBTSYRDKAQdDwFQGnuBXoUOaIxEA6DKPEWeQxEoiASBrFwBIAgAJAJ/1BwSbMmEgk4ivrI7YmAWCTtWac+07Tsj2dluC2IzREFIIy2YCgGt1EwBsKwJwQLKUvEN91n/I+yW+LmYZmMFVKIQ9efokKKGbh5MHG6VNoJAFtAIbBqxMdNRJATAEohFADOKxiP9dM5uItC0HWmzqGows3kGjCMMsEkUmQRCp1ECndRRHATAygEBlAICgz7nwLDTXoCCIJoGIoBAINKEESjAQB2AAgQ8YUILSAcgzGGXEdgKIKxh1yjOJVWHY5BtakXyoh49FAURkNKHYrGQ2d6JtHmhUehjJ6WWgxOqI3sW0yHY3EPB4jNESa2Uowwzw/ALgB+wv8ABGJhXywC0/eX8od3SApxWPZT1OLmYelPVw82gEKkrocsSJf6jBIAOTHQjSZzUqHpU0WcVGRTwdC10TlkPdgeMpNCY8w/QiBjGIfeO6mEEZ8I6e8TAIxM8Pzf7AdKT0y7FdFtRbRbMc0W0G4BSq12RlXOKKVWE5yjrunjqpxRuoVawux0jVHawwp7mFyrHBGlI0KZKbIhiXKNK0bvRcy07N+wR7UO6GqVK6J1+vQOn94R2HBEFHagckYNntAuzArhGMza6KqOccsfdxydB3AEOLohyOd29FE+XQIgnyOTabpNZIsxEnsqRSKhWormFFUlhCVUlZCZUJzOZDL4k/GRSYzDxaKktYIwAKEwcQUA1zCI3GDzhIdFxvpxSeOYpHVK0TAmrx9T0kvTpCZhaZxQJywJwU2TmoZx1ZEWpnETGtk4oW6e0iYsTHgmPp4Uch1uMtlD93D9mLJhTNkyqmoZVTSOKxomZC1j4tax9fZRceuotHlc2TwuH1qQq+2uEEwAQcYtftzxSTywz3F3SDYwjXIICYBiYcKRKEwc1imyuInwZCkyJxUaq6IQqch+SgzFvH+wiWbNaABMADgHhAAIoAQAVw9iIBYDKquPMyZ707VUNCiuHNVWjhkrR030UibQJyx0JOIkBJcJ9Ex4Jn7VmDlhqRgxJizlw4aEhUl/QnD5sIEJz8RPaGTVmDktP1SNGmtGjNUjxqpxU9W4gTWmZY+pOaNqzqi2nK8p7FmpHlxY0ph98FPA8N4AvHlx/PdJPLDPUXZkNjCNe/AEwGQqfSTEoQR9SpOiDYtgGJmTCk1RiJupyKaFQZrTEsGTwlZ9DgSaArMlxO3c+A1DmAAixBVANALzQjAChPrtqlFlvkBbt7DdKgzXLvlhWQxQ6vrlUP1KkF6z533shV16TUciDh15MA7dQsRJd1wmPelaxVnw0/3AWfQx2ZNw3PpFf8Psbt3cbs0CLLXznvoFd+P8duP8dt3CTglPUzG48k5p9ob3tukX9igQ80762ffgQHFEljLFFqajG+EpUik9Bso0AfpICedMh5EVYhFsGZlDppNLkXuT02SdZJpJCmMQgNKkS2EAIuiAf5yzn2FEkPggAcDHftD6TyAEFpWuIq4ki7vBmt9lzfs5C8G6eX/dPLWunQvUzvnodd1SuG4pSK/Z8wEYQ2k1HYk49csRGCvp9UKofiFQn3JdM+evmdul14zjJtJcN+9vWAw3LAbpNZMexK9dDMHITtRxDpPfaB4mfB5smA/VLkRYy7BwVoK1y8i3Yc5ipJBnKOlfGxUbbDu+SAQ+BRSLHGeAf/z4OxwDmI7iJHy0cE0e/tMlABzfycNTVtJRF5oAvaYIYlk6PzmHrpnJZUgP/jQFaiIw+beFKcNR9FN6P4dm8vnGHxgnJQDiGZxoNBwDxFM0S2pn0aA4i6tnLYSqZwNEiA/UEUQqNWfWXzPnp9e1cwH2PNRGqdnvfKxZH72ma+DMQrWo1L6DREo1bURkw2HpT6gnoQfilsMEkKo/62YDnJkA612ocj5csRCuXAhWzwdr5iM185HK+Ui+wFLClY5JLTgBEDf2P4d98L/OBhwWDmvmTAqZju5kVwBkGcpvhuFhUicoM6QIUnrpTQqeKXPgBEDHH4xDsWRfJTgxkJEUJak0E04wITMVbR+PQZEfPgEEqTB8ghA+C0TcGIiCUBCsauyF/Wu5fH3FjLdmNsiZ8XHe7dTN7KRYc97tsN9BMKVmz3hrZryoJveS+WSajME0h9Cc0JL6d7u1s7v0GstS7EnIT6K/dhoaj2qyN5CefS1HoyfRT9aJ6Pp3cDr10z7OjK9qLlAxH6ia81XPBqpnQ9XvwmXvwoUjm0WDYt6azr7rj8Ui6Bru4/eQYw1fogfICQCHl/gVAAphaFYfmQDoriHHRzwwHYY5FHwSETryYzjYAEykog2BERILpkUknGBCZlpqDwZG0T8C4M1eIl5EiYf/w8QtxDCIRsMhsK7eLO5bLeBuVE1us98F2NO7qNRM7ZAL5tOJmpldemFN7+BC702dQx9uX07qymtm4pOl60wy95qZXTw11vRO8uHomhEH6af01k5766dg1qma3a2c3a2a3a1+t1s9E6yaCVXMBGEC6BdREwB6J/lg+8ex1BfrARRSyDUAIFkCYJppkrCYUISCT4ghMyn4JKHwY8IuecQkdPLRkwim3pVwiITM1HUeGElLAOgiYC8BxMKRUHRdbSnuXcofVFVNbLGn/dVTu5RSNblTNblDYaJm5dRu6qVq2lc17WPCo156nXBcJiaT8iR8JlUJ+UxTSDKvhHqYmKxJb+2EmzPprpz2VMx4Kqc91VOeauhkf/mkv1BgLeoX8VfhFQBc2Ysn9QPvHceCX7AHUEgh14ecAJh8QwnoTDDMp+CThMJPkACwVXSCPDqZpiOTcxJOMCEzuZ7D6o1HCRws4CoQOQGE19WWop7FvAFlxZiTNemvmPSVT1FL2eQunXnMOXQPVE/tssfdNRNbFVPu8ml3xZS7atJdPbFdNblTNuEr4lmK+9b4qzqHL/A+ARzWjnKs54vyADn04/CS7AqAHoiTc5i8QZFigmE+BY9txQBM0JFkDoZRCDKGTFNguEnGkOn/1HsA728Cx9/8gp99g/cAiBKJxNY0loKehew+Zdmws2oChv7Sqd0jLJO+0nRK2bQvrXKEliO3MBhfNuVPWFKxB0+wfGqnatxTOeEpnYKlbGqrcmKL4HhLx3YKhkxFvasfJIDjh4Dwgf1fRvwzCYAcMRG9r9tTF6EjyRymgcgYCp1QhILBzf/QBEB8TQxE9wI+vBOAvlGDnBOMgjWtLbd78XWfqkTgLBvffTu5Uzy1jeuiSU/JhJepLpmAvSUTnrfjKdVvJ3cIpJdel07svJ3codfYErJVTPTbSWj528ltQs8HNaOFH84Xa044a2Ky3pIJaD+yFtElE1665YiTrv2lY563457CSW8h9PxW6fhW+ZinfNRbMrKdP2gs7lnlrWw4dwPEbfx4ck+4nx8z/7M9kHYCYHIHjoAUgo6nAFCTDqNw6FIUAG7SkWQOhlEIMoZOU8BJnjVCCQDhsR66+L6chJc4CZn7qjoMALzrCx/+wR/33PvcGFoTCsbA8oYjp3spo1ddIHC9HdspGdsuGnMWj25R6pIxd/G4i1KXEJyScdfbUTelLhnZKh5zUuvRLchJq040bvG4i25h8Sgx4hjVErptZA5lRniOifWPQuOR/SVj7rejbjwXqJPgUOqEeph96y4e8xaO7+ZO7uZOegsnkM7tshFv8bAnb8BQ1L1ynAAO47j44nV86gSAYyKF2NeRFHySUIiQ+ypMEYDHTR1PRiaxkwyj0wkFEzLpskfAicLoHyNdAex9+RIlgFAMrGgdOd0rL3vV+TxXyai3cNhZOGKn10UjrqJRB7UecRWNuIqHPywjjqJRB9QAy1bhsBNiRhzFI7bi0U1YwwIxUNtegUpGHG+HHQSS6N0DoC4kUjjqyB9z5Y+58kadBSOwFI7Yi4btRcOb0OwRe1zJsLsYFjRuXCeyE41YOOooHLMVjtmKx5zxRAVznqdozFM86oFR/r2F7ryRrbwROBE0BBxxFFpIYGyFI3BozNmbYHyOdE/SOdirhaOu/FFP3qg3exyW/FF34aireNhTPOwpFLhz+/WFPSsCfAWAHu46gp3mWOXn7wEUUsj1+5vAyHpy3wECEA6gR0RQXIxHofBxEwNSJLDgRxJMwzGp/dzwcMEfLfrAH3yJ//BLmHguNApikUhsXWvP7RY979LmDNmKRtz5w678YUfKtSt/2FXA3yrge4iyVSBwFQgc+cOOHIEzd3grh7+dI3AXjrqJlGAoGdG/HTHl8035gs2CESccRbCVL/Dk8d0w/QicxdzNgiFLHs9WOOoqHHXlCZwlwztFXHfRkK2YbyscseeMON6MbmWNe9+MerJGPLnDcDh4d1RgKRixQymu9S3fWcTfKeLvlA5vvx12lQhg1ikSwGxUNOwpGt3OG/NkjzlfT5iyJsxF4/biYVcJf6tQ4M4e8WWP+AoFO4X8rRIBkVcEWwXDO29G/G9G/PkCTyHfUTBizxnezBPY84cdRaO2wrHN/BFL3rAFcYjcaSkQGAuHLYUj9vgcU/Ankcy2CohMkzfizh115424C1DWEbgLht05Andmn7awZ2VUaHDs+KMAfg/o+FNATIfhfzyfHN7xZD94E5iM+PwTAF6cwZOhEEyBlYlPET9wM139nxt+b/EHxn74czDE4yNREIFXALFYNByRaOw5XeInnRvZg5uFw1t5Amd6he/K47vyeW6iwJCdJ9jMGd7MHrZnD7vyRv25gt2sQUcez1Y0Yi7k6fJ4xlyeJVtgyx52ZvG33vDcWXxv3vBOHt9VJHC+HXaUCOz5fGc235kjcBUMu3OHXAWDriIeDMcFI1tZAscrvvMlz/Fa4Mnie7L50OAC/ma+wJItsGbxLQX8zWK+I1/gzeNv53Gd+VwbTDbDtjyeI5/nyuNuZfXbXw853ow434xZM0fMWUOm7H5zbp81h+vIHPZlDvtyud4iLpE2BJbCIUcO1/2Kv5Mh2M3nOwsFNji7EUcu4agc3mYO35QtMOeN2nOHt/IFRP4bthWOWAtgSnDm8tJ0psCZEy/Qk/l8Zz7fns9z5Qhc2QJ3Ru9GYc/aqNCwtRPACeD4NYADH9pftCA5vOOJHGYCwEo/JXGARPUpzfsix3r/ACh8cBy+FAYL8cOQRAIQa2ECeNyhzRqwFghcOTx7Vvolh+vI4dlzeJYcvimHr88S6LOGzRl8W87wbq7A/6bfk8f1FAmcOQOWnEF7jsD9ZtidObyVObLzSrD9grudKfC85llz4JWBpUAAY27mwNbrQXc2fyuHZ8/l27L5jiyBI5PvyhI4Yb7hOwv5W3ncrexBz2uu5w3PlT3szB7ZzB6x5I5asgVmGN9HXZkC++thW84I0cuH4Tif68jnOvOHtvJ523lD3hyuK4e3WTBszRdsZvE3X454no+4s3iOQoEtn68r5OmK+OZ8vv31iOvNiLOQZygc0mcNWbL4W7mC3VyBN0fghr7ib0LzuO43Q57soa0criOXb8sROLN53myeN4vnSOjPbL4DFXLvGy6cKTFZZzbfkceDiTOPC9PhG57rVY+2oHv1OAF8kYfhYRv9n5kADttLx/ri8R5GfSLokxMA/BxEOCLW2rM7RY/aNZn95ly+4w3XdrCSzbVm84xv+Lo3fO1rgTZz2PiSa3014HozuJM75Msd8OT2beb0mbJ6DPmD5jcDupc92owByxueK5MP88Eb/uZrvvk11/KGa8/ibr/hbb/mbmVybZAjsGQIHM+59mdDjgyeM5fvgOf1/Zs5/Y7Xg9svB7dfcrdf8rde8e2Zgs0MvvXFkOUF3/ZyxPlSYH8psGcIXC+HNt/wrG8GdNl96vxBTWG/PrfLkN+1WTzgqBhzNCzt1M5784YtT7jWp7zN10Ob+TxzzpAmh6vKHzLk8DZf8e2v+La8wY28AXXWkOX1EBz39eB2FtedzXdm8eyZg5vQ5iEvwXe9HnJkDjleD+284e685jpT8efrITju66HNN1zba57tNc/+hmvPGbLlDNmyhyCdOeR42a3J71oZWdNv7cCfPkNLQMdXAP+dB/lxAvjv3O4HmjW6CCAlAJQM4G/Bh2NijTOrS/SwTf2q15jNtWUObmYMpV6sGUPWjCFzxpA1c8icOWTM5OoyudoMnvYlT5/Btz3vtb/s2crl7r7utmX1GOqmXTyxd1Tq4a/b22Z01TxtSb+uoNec1WfNHrJnCZyZvO0XQ1svB7fe8Fxv+JsZXH0mF0b/l8Pe58Pbz4a3XgrsmVzLm0FjVp8pe8CWxfdm8gPPeYFn3N0XXJgJXguCLwZ9zwc8L7jbz/k7z5DCAfOrXkXFhK5DaB1UOLkyZ9+Ks3HEWtql6pjfmjWDKT2omnC8HDC+5G1mD25mDxjzePocriEHzsvxlL/9lO/O5lpzh4x5Ajs8Hx/yZA5sZQ060Pl+NteWMwQTQBZ35w1v+xXX9bzf+bzf/XJwO2PQmYo/M7m2vbKZyd1EdNYQNCZr0JY55Hgx6HjWqcrrXCYnAHQv50D7xLHQl+2BLz4BHK/2fNIdkHQFQIxLLAHtJYA3nev321TPewyZg9ZXaRfLq0HTnhRBD+lecHVP+gyZfNerAdeLHvvrfltWn4k9u7XgAIYwsASBLQo024Av8lZxdTkd6let6oxu06sB20uu+9mA83mv5Xmf/mW/9uWA5tWA/nmf8XGf+cmA9emQ+dmQ8cWQIYNrzBwyvxm0ZgxYX/TZnvY6n/TCmJsx4Mkc8Gf0+5532552W572Ox732p52m7IG9Q3ztlk70AKgA8AAgBmAVSPonLANCz0bfqDwgIYp24su5Ys+fWa3PqNDndmrzuzTvO63vhzcesTbfsDdetlnzujdeNWjfjNggEG5bzOjz5TZp8vsVb/qUkH7ezZf9dkzeFsveY5nA/an/a4XA+4Xg44953zg25cDFlTIvRlDm68GrS9gsb0atL4esLwesGQMWF8N2J722552KHPb4RWAcyeEFvGIH4z/pPvR8WCfiQf+ExLAcQ74dDsTcwIQqR1vOtfvtSqfdule9Ztf9Juf9VtTLuZnAyZYoIjtWZ8D1v3WpwPWx71WGJEHt573mJ91qopG9cOmmA6AFTsYlXpmNyJCB+iTRosFppwhfR7f/GbQ/LzH8KTX/Bou+luzBvUZfbrX/fq8QX1WtzqzR5PDNeTy9ZkD6id92sf9use9G896NFm9qoJ+beGgJX/Qmt1rfN1peN5uyO7fzOnVZveooFpi2admwqTwARMA8l0wrt6cVLskLiCygTFRULBkN+4AhR1weJqnzcJXPer8flPxoKmAq88e1GZ2G590mP7utt3vd7zut+YPGvO56txBZUa3+nmnKqNXncvVFvE0eQOKvEF9Zs/Gs279s37z8yHL0wHz037b8wF7yp5EPjc/g/6PbwKYcvpMaIs86dt81KHI7jhOAJ/uoPmcR/oPSQDHOeAT7WRJE8DrDuHdFsXTLt2LfvPTPkvq5Um/6Um/8Um/8Wnf5tNe59Ne15Ne15M+55M+5/NB96Me+4sB99Mu/b2mtdIp3ew2UAPAFdvzmt/lNi82zDhLJ12vhgwFE1bOiq98ciuzZ+N5l7pk3N6w6K6ZgQ/1FwpsrXNbrdPmjkX3oCw4KNmtfbf5ZghG/6fdMPg2Thm5QveoPDS4ttMwZirqkeX2qNhTttYZY8ecuVu007Lsbl+0z2yE7QCo3aB/2VjUNVvQudQwZW5f8jVN2fnLDv0OkG2CumFVVo+0fMrRsRbmKcGQKta64inlm150qB52b2QP25uW/FxFdFQXbVtxFnI3Xncr3o4a2kVerirAVfobZp0lw+aMPt2TPt2TAf3jAeOTXiPMhan580mvGZWnfZYn/ZYnfZtP+ywvek0vek2I86jP+rBdCRPAqvH4CuATHTWf8TBffAL4jH17JKYlTHUJmUcz/PubwIT+90tAIrUju0vyV73kSbf+eZ/pSa/5cS88f0+p9Jkf9xkf9Rsf99oe9zoe9zhRedTrfNznetRjf9i5+WrA9qhNnMOTznnh2su8ydc0pshvXc1okd1r19zr1tbJolNu0COOFvap83pkbStbom0wYQTFY842IVBsAb0X6H3AGAC2MBA7QOvibmaXMrNN0r3sVtqBMwSMu8DkA2pXrHNKXM5bG5Q6ZK6I0Q9P+dc8YFrr0/mAKwomhPaqQVVGs+Rliwqe2nfqMno1LXNmbRCsO0EFT1o2oZ9wAkUEKIJAEQCaKBhV7Bb1rmb3rXdLvDIP0PuBIQZE26BxzlE+bBhSRYS7QBUGqgBYsIG6d84XXcon3dong4bHA8anfUTsTtuf5sd98U3wrMf8rNeItsiDHuu9VnlW+zJKABH4TO/xewBHcqx8EUrJCQCHkS/+MdAvwvUHMxJvJLJ4QiYZcHg0/BYEKWTEE0AkEhNqHG+6JX/WiR936R73GB71WNIovaYHvfoHvfqH3eaH3baH3bYH3bYHPdYHPdaHPfbHfc77ndan3ZbHbfKMXnGf2isJATsA8i0wtOIp7dc+6dI87Fa1ykPCIODJYoWd0qw2Yd+6Wx8Di/Zo5aStXwbsUeAKA4kVTMt3ZGbgBmDZCsoG1XXjBqEFmLfButrCm5cvaZ2OEFC4gjWj68Mqty0CnFEgcoFhpXdU5kCblw0AACAASURBVNrYBdZd0D+jz2tTPW3WP+2Ept7s1D3q07SsOJR+uDDFGVfXLtpGrWBCF+tdMk+onPogULpB66SSPS5b3QKbYbCosIys6Wc0vtY5e9vittALhB4wInXyRbYxeYAzYX3dq30MHaK7171xv0N3r32D8Iw59fpRr+lhr+Vh7+bDXsvjHtPjHtOjHsvDXsu9DxMA/HIJ8YTX4e0hx5q+JA8cJ4AvaWuh19zoFn+CBLD3mCBjAlhT2193if+oEz3o3HjUrX/QZbrfnXox3O/R3e/RPegy7QlCzt0e3Z0u3f0+y70Oy/12y5NOw9N2RcmInqv2iz1RGwCbATCrDNZNW7O717tWN5U+MCIF+W3yl83rHWuejQhY2txhjasGxNv6HSCxhBsnNvI7VjsnNuwR4obtsKp31qDfAVYfmBbrm6ekw3KXwQeU24A9qR2U75r9QLEZa5g0FPSLW+cMSi/QeUDLqOZJvfx+i/lhj+NGl/mXTtWdQUXDshUmgE1QOrCa2bXEmtI1T+kah0XcFbV2G15b9M/pOGMKkRs4omBWbGrlLbWNyUu6xA2TdskOkHmBYNXaMSarHZTlt4ufNCtg3O8y3u22POmxPemx7bkldZcipOV+t+Vhl+lhl+F+t+lut+XvLvOdVtnr9iXBGlwCOk4A9KPpv4pznAC+sM2dMNYnZB7uxNBrX+jjz6RzRvgdYXhBEImtauyZ3eLfa9fhgkyn7m6nIc2iu9upu9dhuNdhuNupu9uludOtut2juNWtvt2tu9+1ea/N8qjN9KhJ9ahemNsrrRqVjWvcm0HgiIF5E6gWyHoX9UoPGJEECrtkL9tlTStuGJEtnvpxCXcdLtBPyTxv2oVPaucq+0VqD1Bsg8EVC2/VZArA03y1F6x5gTwCrABIPYA9vTkgi264wbTY9bpl9R57tmpsQx0Aul3QMW163KS802K62715o0v/a5fiTq+YPaPT+oHUAcr7VjJb3zUvWOb1MaUTbHiAC8C00TauKuheHpLuGAPw+kNmiXDnjUVtwsqhjUkt2AgCow+s6QLtYxuFndJHjYq77cY7nZbbHeZ7HZZ7bea7naY0/Wm402m602m502mCXoVbxHS7y3Sr03irWZbZuixYM7p2o8cJ4HAPky9O23EC+MI2WcJYn5B5uBNLkgDAXgLI6BL9Wiu806b6u137d4f+docxxfJ3h/HvDv3ddiMqf3ds/N2pvt0tv9Utv9Or/atdfa/T+ner+U6D7nHrxqMmyS3Wwq369YfN631rW/oIWN0GnClt/6pB4oY3h1+3LzxoXalf3VYHwIpxt3FYxF/bNAfAhDzwslV8lz1f1idUbAPJNuhZNnIl1o0QMPjBotnP0wG+HkxugN7V7UKeoV8WM+yCSbHzVbvoJmcxb0gl9AKdH3DXnC/b5NdrRH/Vim63yO92yh+2rTbN6LVeILGAOq6oeca45gLabSDSR4S6HUsAaLZA05g+o3WtYEjduehat8J7CUo76JixFXfLq3gq3rpH6QBGL5CYQcuk42mb5u82w80u618d5lstxjutxr9TduaHPjff7jDebdf/3bFxu8N4q9N4o914s0ma0QKvAFy7UfjFkeMloMM9VL4obccJ4IvaXMSHd+gWf+IEgM760dUAsSoVvwLI6BJd46zdalHcalXfbN+42aZPvdxp1d9pNd5pMd1pNd5u099s19zsUN7olN/s0f7RorrVbrrTYrpRq8watLFmd/J4xtv1kr+q3jXNbGjDYNkLqif0/StW5TaY1rpK+uey+tcH1BELAMv6UPXQWv+K2eQDK4ZwKVf1rH6+YURhjoB1DygXiNsWdcoAXPTvmBK+apl91bJa2Scp6lh/063pkQFzAIyLnc87JH9yVp+2S8cMwAaA0AqqJ4wPGlce1i3kD2o4085Kgb5/2bGxA9b0kaZhGVfq1QTBkiZU1zXbOjSn2IzovaBtypzVI8/uU2a2LJV1Lwl1O/YImN0A5QPqrOa53OaJrlGhwhJwREH/su9Jq/JGs/bPTvP1DtOtdvO9TmvqnsTIG+36G+3GG+36220bt9s0N9v0N9r1f7Tp/2wQv2o9TgD0w+i/kXOcAL6wrZ4w1idkHu7EyFcASRLAL+zVG83KG83Kv1o1f7VspF5uNetvNRluNZluNVluNpv+atH/1ar5s03zR5vmeov2z2b9zWb9jTpx/ohVYAFjJtA6v9k1u7FmtJtjYHoTFAzq2mY2VU5g2Im9U+hGVS6xBzgBWNJH347KOkVmRxjYfaF5rZu3alnf8MCFeBPI75eXCVSrDmDcji7K9R1Tyo6ZjfE128CcpYhr6hFHzT4wJrY9bZf+1Sh90CxpmLXrfMAcBLOWcI9ws3/JNKvyr+nA0Lyrf9mhgitOoGFM3it2K4NAZgOCOcWsRGf1wXsAbVOaUoGqXeTtWrEPLBqE+i17FCyYQMuctWPR2j6rHllWbrjC5gDoXnY9aVdcb1Zca9X80qL+vUl9o1mbuicR8s/WDaLo/2zduNmiudmi+qsFcn5v1V2vF71sWeStGY6vAA73GPkctB3gI5LEORy8x4fDyPFTQJ/DpkxsA95I5O6ETDLgkGj8czDoS3DEl4GIp4LCkdiyxv6ia/0qa+2vJsVfTao/m7XpFN2NJt2NJv3NRuONRvONJuOfzfo/m3XXW7S/N2lvdpiuN2381aT5nS3M4OrHt4AwDJRBuG6u2QFL1mDD8vbd2rXCHs2UKmYOgA0f0IaBzAdUu2BEHckf0zStm82BiCsQNIeAIQCf9VwxAvaU7UHT+qPmtW7RjtQBmVo/UOwA5RaYVkWKeJbaOZ9kCwwKtx40S242K//irD5rXu1dMq87gDIMFCGg3gW6HbBuAPVDGw1T1mUP/BRE8YCUNWmYdwKNH6g9QOcDG7tgfRPUTWiqp82TDrC+A1R+oAuBdQeM/g2z9plNIA8AdQCofWB6I1ozYbnfprjeqvytfeO3diKOv3emjvDqPvX1Ft3vrbD81qr/vRWBtddbdNdbdL81667XwgTAXzW5dsPHS0CHdGh8LmoOPwGgmaEQQw40aKTPZd5foB3pOjBd/GG75H30R1cAe78KD0Ix4IuBpQ3Xyy7JlWrhH43q602aPxq1qFxv2kilIPCfDXEpoqn+ozFefm9Q/Vqn+L1OdqtVnSGwVyz6W6WxDkmocWW7cNjwoFlyg7P+qFmZ1W9oXPS1rAUa18IV01usOW/xmO1Fv7pl3WMIAaHRLRDb+0We1qXtIr75fpvqzwbZ9XrRoy558bixRbjbo4h1iCO1M65invl+i/IN31E67sweMtxrVf1VL7tRJ77JXn7aLCzk6RqWdjol0U5xpGHOWzxgeNkked2lLZtwl426nrTIHjVJyiZc7cJY+2qoacHbsrRbOW7P6FQ865CXjDua16NdUtC86i8ZNj5tl77oUZXNuJsloEUSrVsJZnENjzrVN5oUvzeofmvRwBP2Fh3MhXE3ImKf+o8m3bVW3dVWw9VW07UWwx9NuutNuj+aDH80mX6t3/idLcpoWRlds8CPwUXDMRCNpvYmADm4HPbe9V4feRRywHmPOAwKj5KiMoynEKmIk0WY8GQMmWbCHxafHtipPwiDRqLjkJWHZcd/oZ50HZgu/pBdSrwDHP/12Bg89w8SJQbgbwP4AVjQuV50ii9Xrf1Wr/y9QfNbo+b3Ju3vjRuU+rcG7W+NmgR1IxShl2v1ql8b1H80b/zRvPFbo+bXBvX1Ft3tTv39ro0HXdq7beqbjbI/OOLf2aI/6+Q3G1V/t27ca9c/7DLcbFTcapL/VS/5u03ZIoluxMCwzFnct/aseflRq+JWM1R1pV55tUHxa6P0eov0Trv8fqfqYYfqfovydqPsj3r5jVbdrQ7d9WbV9QbimqZR+Ued5DeO6FaT/G6b+m6b+l6r6i4B/pOzfrNOdqdF+3eT5nqt7HqN6Gaj4mG77mGX4XaD4u9Wzb1W1Y0G6c16ye1mxYN2zf0O7f0O7a0m+fVa0fVa0a0WFXpu6nbbxo1W3R+N6t/q1dCBjRvXGrWoQE+mXH5t2rjarL0Mi+5qk+63Bu3vDdrf63W/NRiu1en+YK1nNC2jBBCLwjweA6FU9pZPE5g+5SipzBphyFaR6VQ0pIInY8h0Kvo/BkMP7McJ4GP8mYYs2sypC6SLT11zSkjywyIEHSFCP5INguiSzvaia/1S5fK1Oum1esUvDRqibPzSoLnWqMP01Xrt1Xp1olpN8Kn1Lw0axEfE5VrlJY7icp3iKkd8hS28yhFfq5P+3qBCQfNarfIXjuJKjey3euVVtvQSS3iJJbzRpq6XgFU/aF91PG1Z/qPq3W8c0bV61ZUG7eUG7ZUmzZVGxeU6yVXO+jX2+m8c0e8c6W+18isNqgsNqh9r5T/Wyi81qK42a640qS/VKS7VKa42KK7Uyy+wxZdqxFc40l/q5L/Uya/Wyi5yJFdrZb80Kn9tUF6qlV5mSy7XyS6zJYh/rUn1a6P8Uq34Mkd0tU5yuWb9V47kj3r5H/Xya7Xyq2zpZbbsCkd+ha24XKu8Wq/+pUl7tXHjSoP2SgMkfmlIq2iu1MthaVBdjV88KX6tU/1ap75Wq/qteuVV08LomsntDcSiwdQTAFomPur9EIe/lHbLg4KO7toioUWfZlIJh07OPE4Ayf1zhL3pHkjp4g/ZdJwA4Nef4ZODBIP4oWAQDoHwss76vHPtYuXCL7UiGPhqlZfqlJdr1ZfrVVfqNIg+QH21Xnu5XnWJo7pYq7jEUV2qU16pI1JCreyXephpYLKpU16tVVzlKK9ylL/Way6xZNfqVdfqVVdrZVdqxb82yl9wreyl7Vye+l7T2h+1wmu18su16gu1mp/qND/WKi/UwVh5rUEGS638Wi3Uc6le83Oj5kKD5kKT9kKD5qc61U91qp/rlT9zlBfr1JcbtJfqNRfr1Jfq4dQucOQ/s6UoPVyslV+qU1xpUF2uV17gyK41ay/VKS5wZJfqFJcb5BfrpJfqYZKAqYIDh/u1Dtr/C5yXKp7eauEcL9drLtaqLtSqLtWpYa6q1xCeVFHqPT8jb8fry3UKuAnqiAxUBwf6hSNDLrrCVl2tXHnetDgstLh3w8QVQDQW+4x+FPIf3s8P+bD53NUdJ4B/bAulu6Oniz/kiaEEgOoIWgqKAhAifiw+GI4GlnWWZx2rP1XMX+YIL3IkFzmyS7XwfBbXl2vkFzkyMicV+hIL6rnKURJn/cpLtfJLLNlFluQyR3Sldv1KrRieYrNguVQDT6Iv1Uh/rhIh+jJbcrVOcom9/gt75WbDyl+1C7/WLP1SI4QYtuJnjvpinfonjuwCB568X2KvX2SJLrJEl1iyyzXKCzWKCxyYwGDwrdVeZKsvstUwbdSoLtSofq5R/cRS/sRS/lyjushWX6hRXKqBlwJXa2UXqtd/rhJeZkuucKQXqtcvsyWXasSXaqTIpCscOTLy1zoFvEapFsFSA2dxqUZ6kSWBFwEc+eUa+YUa2YUa2c9s2UW2/CJbDideC7tSrC/VSi/Vyi/WKmDiJGRROvmJrfq5cuVR4wJvfdPpA5Fo/H7+Ie8tH6HuH97PP8LyL1H0OAH8Y1st3R09XfwhTwx9CwIlAHQ/GC7+h0A0BKLBcMy/tGF+1rH6Q9n8Bfb6TzUSFLYo9YWaeDij8C+y4/EORT1y/VM1VHWJo8CYn1nSn2vgusrPHPHPNZKf2VJ0FnyRLf+pRvozC0a9SxwFpGsk8Iy7VnqBvX6JtXyFtXyJvX6BLf2Zo/yRo/2Ro/2BA0+xL3BgZoJ8qE12AQZ67SWO6meW9EKV5GeW9CJbicqFGgXKBD8TOeDnGs0FtvYCG6YHuHTDlqFlnMtsmKIusWRXOcoLVZLLNUQiJPLKVY76Clt1oYrwDwd64wJbigP9BQ70A7QB1Rw4lwsc5Y8syIFIWrkIs1eCAqfDlv3EVvzEVkC1HPmPtcofatXnahTnK5buNyxy121O/xeWAI563eao9R/yIXkY6o4TwGF48UA6UEBnqukqD5YAUtdPH/EDDrHmAzloCQh+A2IvAcRCIRBc3LA8aV89X7bwI0v8fbX0e7by+xo1uZxnqZKVGsX5RAXqYSvP1yjOVsvOVsu+Zyt/rFX/wFF9z5afrZFCJkv+A1vzPUdznqU6XSU/V636sW7jPEt1plpxjiU/y5Kfr1F8z5afY4m/Z8u/ZyvP1ajO1GjPsjdOVatPlEsR7AeW4scawmCO9nzNxvc1GrSq8xNL/EO16EeW5Kca6Y8syfdVoh9Ysu+rpT+wZD/WyH9iq35iq35gKb6vlv9YrThfIT1fIUW54Ycq+Q9Vygts7Q9Vyp9Y6h+rVd9XKr6vVP5Yrf6JpfmhWn2mUn6OJYcOqVGcZ6nO1aigrziac9XK82zoN1hzND/Uar/naM6yoAcSFuQfSv1jjfxHluxHluwHVGokP9RIzrFlZ9iy0zXSs+Vz9xrmeOubLn8sGoUb8rP6Y9rPmfiHZfxR6z8sOw9Xz3ECOFx/pqGNKTQz7YhM/ORDMo2SXIrei1eAYBdxDyCeAGJhEIP3AOY37I/bRWdKl89XSc5USc9VK8+ylLg+U604W6VIUqNgTa9RiD9bLTtdFQ/3Z6tlJyvEZ6plp2vgEKdrlGeqFadYirMs1Vm25lSl/EyN+rty6clq+fcczSmW4lSl7BRLcbpKfoatgl3Vqm+rlCdZapgGWCpoYZXiXKX0TJX0bJXyTLXyVLX2TLXyZPnq9yzhTxzpDzXic1XCs9Wi89UiWNdIzrAkZ6rEp6vF51jSsywYx2EoryHyTbXsTKUcKiTUnqmUn6lUnK1SnqtWnWepz1WrzlQqzlSqzlapz9WoseXQLSw4i9NV8tNV8rMsOK9TlbKTFVLURAA4FvTqBzXhVRmlPlstO18lIYrsbLXkPDR+/QxLdLZGfIYlOlc6c79+WrBu8vhCIBIEMfijzjCvfx5/CfdzvBsfkY1Hrf+IzP54tfsnADIC0ZRRE24wCua4mdwDn8CHHzME+v4z8evh0RjAy8ZRmAOI2OGPRue0zmddijNlwtMVstMVsjNV0jNV4nOV4iOqYQiGQ0hxjRLMmUo55qDes9WyM9XQntOwwAiLCsxSleLzleLvK9a/r1g/X7l+vkIKM0ElkS2qxGeqhWeq1uOFJTlbTYR+luQUCyo8xYIXHyi1fFclOVkt3ivSk9XkIj9Z/WGpUpysRja8tx+mH+IS53SlhFREpyvj5UwV8iTy6j41mte5SjGR2GACO1e1CqdTLTxVuXzu7cTTxomRNe3Ozg6I+kA0ANMAzOqf4u9j9sNPYd9Hj/FlTTBheI+/CUzvO04AH717JFbwCXaajxkCJYAwiEbgM+PxBED8nGwUhCMgCgJRMKfZetQqO1GwfLJEfKpceqpi/UzFWurlbKUwYTldvpq47EVGFCJPVayfqhCjQgTQ96FzL4bCwHqKKAhwtlJ4rkJ4vmLth3JYzpcLz1WIzlaIUPw9WSE+WbkeLxVi2NwrJypE35VLTlRITlZIT1XKTlfJT7Fk31WJvq0WErWIXH9bKT5RJf6wln5bKT1ZIabYeZYY/YOa7BN6L8E5U75OLqfLhEQRQVeUS09WwIGgcypXT1aunaxcPV21du7txLOm6VGhzrvjA7EATADR0HECSHxkps/9mAMt/dE+VoIe5OPvAXg8HjQT+MHYWHytMOGK4Zc14Y912NHIfwIffswQRAKIhkE4jOI94QTiggD9PAy8G7Co237cLv2ucOlUieh0hYyIyOtHV5PiPhzlZLkQFfKIe6EfJgOUG3BMP0Ukp7Plq2ferpx5u3K2dPVsqfAsEUxPwUAv/a5c8l25lF5OVxFrSuWykxWyU+Wy0xXy0xXyM5XykxXib4mE8b6GHJg26DURlOPp6hTMBPR0ReeQrwwS0Dj/xe2vVJ6oUv+7Wn2iSvltlfy7Ksm3VbITLMm/K9a/LZ661zDLW7fAn4SMhkEk/MmiP36T4GgOo89C68ccaJ9+AvsnADQfFPqPrwCOaAt9gp0mlSESbl903zdCnP5HcAKIwa8HwKfHiXvCu6HovNrxtE1yumD+VPHS6dK1k+Wi79Ip35atH6ycKBWSS0Il35WLvi0To65vytdQ+bZ85buyNeL0WXymVHS6TPRdqfjbMvE35eITFZIT5VJ6+a5c8m2Z+GSZBJZy0ckyyXdl66dK10++FX6XwH6ojUgkEqKG1w2ET2BN2AMB2LBvy9YJPpMfMPgDAunf0xPv+qZM8u8yxdflqn9VqP5Vofh3ueSbcvG/y8VfV8D6RNG7uw0LXLHd6Yef8Qh+2vX/VPbDIzrKPo3aL2uCjAlge3sb+SshguzKL2vCZMs/H/oT+HDfIZID0IIPURNB/4MEEPOHQ4sa67PWlTN5Y2cLpk6/XThRKvy6TJx6+Xe5JGFh1iD6uuyD8m8ixjHWpdgY0Vfloq8qhF+VQ/ET5dJvymQn3kq/fiv5V4n0/96K/1+p+H/LRf9XAcu/ytb/Vbb+VdkaUVa+Ll356u3yN6VLJ8qWT5QtfVu6/G3Z0qmy5dPlq9+Vir8rldDLt2/Fe0VEELA+USqCMTrRlJnni+1PQHxVKqKUr9+Kvn4LmV+Xrp94u3bi7co3b9e+ebv2denaiYIZIgHAH78MAhAg7uZ/snvAyXezz+eQPLAlX9YEE4b39L4G+mVN+MDb9UgFP4EPkw+BepmuAIi5kz4GRzwSFCESAfEeUTQKQisblufNMydf957MGjxTMHaiYObfhXOpl2+K5r8pmku9/rrg3b8LZ78pmP134eyJwrlvit7R6jmCA2tIFEAwgZ/5qgiV2a8K5/6VO/t13tzXuQtf5y9+Vbj0VdHyV8WL/ypZ+t+S+f8tmf8/onxVPPdV8dy/S2ZPlMycKJn5tngKlqLxb/NHv80fPVUwfqZo+mTBu5P58+9LwRykC+a+y5v7Ln+WKDO4PlEwg237pmjuROH7uTN7DM40xfJNwSwcomDqRMHMd/kzp/MmTudNnMyf+i5/5l/Z4ydec++yJ7grRscufAMYfdTvOAEc1gGe/EA7rFEOS8+hJQAcQSjEYRl6WHoo5u3bPKxxk+tBZiTHfGRv8iGwHxKPgh8CJb0IhkgQjsRC/lB4d91gyOmZv1TMvVDMvVjCu1IyfDWdcqVYcKWYR68JJXx6TYB5V4t4V4pRPfRLMf9qCZfgDJH4vF+K+bCrKA6+XDJ08e3QxRLehbeCiyUjl0rGrpZMXit992vZ7NWy6UulkxdKRn8oGTtZOP5t0eTJwslTRVOnCydOF06cK5o4XzT2Q9H4hZLxy2/HL5eOXSkZvVw8cqVo5GrJMGG5gFTH57JnOWFbyfv6Q/vh3BGSpCGu7XKx4HKx4CqUTaP8UsKFhZj7b0XcPwq5vxYN/1I8erlw5PdiXkHL1IxQs7PtBVE/fJsPZoHjp4AS7/vpcpMfaOlqO2o8YwLAN4HRfNA9gCQ3gXEEoRBHPYF09VPM27eZrv6D4ZEZB5NNUSr5ENgPibXREwD5vbBwIBzxGZyu7gVVYf9yXs9Cbudsfvt0Qdtk6qWwY5JcitonYWmbwqWwfep96SB6EeaDepwQRHVcQ2E7VPK2HZWJ4o6Jok5YCjun8jvfFXQtFnQv53atZXWsvWheulc782fV2K9lgsuFA7AUDF0u4sNSPHK5GAb6m+zZB3ULL9tWc7rX8rpXCzqXCtrnC9pnoW0dk+8tJKwt6JjKb5/Mb5+ApWMsv2OsoH0CFYzEE4xPeW/iCFDQMYNKUedU8kL2XuGef9DcS9omS6AnZwrbZwva5992vuufEKp0lmhgl3gMdBfEjh8DTbzjH4Cb/EA7gMIjFdknAaC79rhOmAAo9uFQggkKAGuj85NwmNyKR0lI0BUmhCVZ+kgXTx/xP4QTP+EnZkNeL4jCu8CRSMjp2ZbrLQtizdSydHJJMrUkml5MtUwtCaeWVyeXV6eIMr0ofLconF0Qzi6IUHm3AFVNLcEyuSyaXBYizDsCSapXCRrWM0vr75YlMyuyySXJ5KJ4dml9YXFtfmFlfmFpcWllcXV9fmV9cnF9clU+NC9rGROXDqw+b5r9s2r0WtnYjarhR6UdGWWtGVU9z6sHH1Xz71YN3ygf+f0t79fioXus0dyOeTZf2DUtESzKp5Zl08vrc8trc0vLc4trswvCmfn16Tnh9KJoZkUysbQ+sbQ2tbw6vbI2swqtmllYm1pYn16STS0TBfpKQvhK+G5xdXZhdXZx5d3i6vSiEE52STK+LB1flk4vi6Hs0vr0Ipz7vgX5CtVoQ0wRA00tSRZESoXW4HBuBQM+4gHQMIhFEh4CCZlof0bHxdHt20z68fFIGZoJT4Gh4JNkXkx4PC6dSChCZyJO6nYyaWDip6sZT4QekOE9AHQFgPuQy44TANlrTFviv4qPdoxYLBYIBFwul9lsNhgMRqPRZNQzFaNBRykmo95o0BqMGqNBYzRoiaIz63VmvQEVo96AigH+6QxQg9as15r1OotBjwoazmY2bZqMRoNOr9PqNjT6DZ3BYDCbDAatatOos1uMdovZZt3ctLn0FrtcvymYEzbxZvObeM+qe++W994p77/LEryq5XLaBto6+7oGxzt4M03cheq+ufz26Vf1o8/rhh9U9N8rbntR2VHayusZW1iSbmgtNrPVYrUYLGajyWA0G02bFqvZaNJtaKxWs8lkMOg1Br3GZNSbTQaLyWw2m41GXIzQY4RPzHqtRa81GzRmvdYIp2nQG0wbRsuG0UR2KcV7CZuEoxJXFovF5XL5fD58ODPFjiSBkknksHZ+Jv1MJjHh6fakjkSyyfEJ7UnITEUb3drUOcntpOtBeGQqxeAvKQHQJ4Y46bqDSc8xP7kHIhF48ojeFAmFQgHiLxgMBgO+1EvY74v4dyL+nbB/JxjwBQI+fzCwC0sI3ZVgUwAAIABJREFUFX8Q6g0GfBDpgyXsh/rD/jgBx4J/4V0fIRwIBYPBSMAf8e/EfN6I3xsJ7AYCAW8gshUEthBQesCIYpszoXzeMP6gcuhOScfjiq68+gF290jX8Ixgcm55eVkiXteo1NoNvUKtX5VqJxYlA1NrjUOz5e0jmay+x2WdD0u7X9XyWTzx0JpF64g4d4E3AtzB2JY/uBMKBMOBUNAf2PFGfL5YIBQJBH2+wM6u3+P37wSgf8LEfFENZ+3fhab7kQth7Q+E4gVOn+pPiPfvMjn5vZYPKb8fDhAKhdCGw2fElBBAPojQ9k1YJ983yCLJkfReJEvnJ+TggRL2Uphpacb+oSjBTSa/YQCFSHd0iniSZrqayU6jzOI4ASTxc7wLu49C7C/5TyPS3VGS2xsl/pBO9M5gfGeKRUDSEosSH6NHGPiKcRSWSDQWiUZi0RBRgnCFAn5sKAp/sDoC4HcoYiACS4xAxuDnjPcGgotR8A+h4q1YBETC4XA4BMB2BBi8YNmw07tkLB1cf9Yw9Tdc2+E/44wUdUw38Bd571YXVkUKhcKg1zgd1m2PI+jzhAPekM/r3XY5bHajaXNFpJhalvVNrbMHFrIaRu9XDN2tEDyqGS3tWep+p1k27Bh9YCsGdgEIRiORSIh4cQK+PQ0L8exsiOiCZkeJT/FEgvBLDJFgLIJcGX8sJxqDc4azjoWIAqeJnEau308f+4Eg0Bah12h74ZoMoG9ocm9Cmi6COHQwE5KJjzQw9WI+ZSDMT0KkqBlrSI6nhE4kRbGK3sTKD5FIbid9IGwVXubBmOMEgF3BSGD3UQhGgc+mI90dJUXDqUfCh/HofZxCsZDcS3xbIv5FMhjp44EvRryltPeMCvGYCuleNIryMXgDgngVjfgmHZEsYF6BET8GI2kQAB8AW1Eg3wZjGl/DlCqvY+ZRRe/twtbH5d05jfx63lL3hHBiVb2mNCr1VqPV7try7Ph2/eFQMBqJwh88CMI7pZEdEPREfW6vy2612qRK4/SadnBW1Tgszm+bu18l+L2Ye6NC8KZ9tn1WvaLbMm0FfGHiEVniYdlIGISC7z1EbALCcpQG4Ce1QyAag9ntg+cyw8SnGnZAdAeaQXYapuO5BT+ki4nE241pd31vHEmOAqY3SdgPyNSRH4iRGkgDiZGYpAyUGPQhN0XNWIgyBL2JkZigYygcjDxEAg2RukJs0nECSN1pXzySvNVTmUyK+EQ7H45EqRDx94rj7xZAy4hfm4FPKBIl9sFzijgRxKcAT/3RJy3D6Ltm6CeLdwHQb4NFrZsrtLJGFK9aZu687b1b0vGS1V/cwm/kvhuaWl0Ua4RyncZg2XS6PbuBQDAcjkBjAu/fkEKW+EBkF4R3QMAb8e+4XR69ySHbsC8rbPx5dT1fWNS78ogzcqu4+1FFb37jSBN3aWbdqLX7nX6YgeDvLqKAj01Hlyuk2+moB71fTbDR7+34YPSP+mBuY4z1CT2cyuaFuRbhMEEWw1ufiSCD6TRZit6bnJNoj2KUwAMxIkgdaWnGS0B4CDpB0h0nEzoT9aU7Ol05EyddzXgixwmAyaWfgo83A4VgGpsCw00mPIWP8PjuH6WX0sTK992hMfK9BnKk25cmvioRJmoYkCA+CqJRGPWiREEn+EQEjH+EDsEQlrTsA0N/DGwHgc7ln1U6midk2a3TDyqH7pZ0PGf1FbUO1/VPd4/Oj80JhVK1Tm922OxbTteuFy7aw4WRGPyNFH8EJgA/kQOC6IsXMMGEQTQIIgG4IBMNhXd3t11bdrNtQ2OQSFVTC2s9o7PVnaO59cNPKnl3S3lPaybyOua7F3XLui17CGoLRkEkQjw/CyM2oZBooSsVNH0ik4XgiT8q+CH9fX1IAbzfEowUunPzwcLdh9h9t/uH8MNsoT2KrpHJJCZ8Qg1MSuhgnAASdtFDJ4Il0Z+6nUwjMvHT1YzwyFSKwcdLQExOPnw+3gwUgmkkCgw3mfAUPsIfYgJIqB/uT3glnkKgOEVmEueg6IOje6ejRFxH57XolBji4Wp4DIb3YAyGRfjiUgwtmBAsH4Ar7xYvkJi9w8uamv6Z1zX9j8q6HlX0Pmf1lbcL2vkzIwuiOaFcrNgwGK0uh9O75Qr5vCDkJ1ZgiBV24owYrcMEiTN3GLhxZoKzJQJ3hPiEctgH/NvhbaffabeZdBq1cnFVzp2R1PGEea1zj1kjt0sH75f3FXZM9s7KlzV2gzvojcQvBeJJDk8BD0H8whp8PysK74DEYjF0EQRHpoR4uidJXsU7Bp0gbzJ85GMiYS+ZiWikls4/LA6TfjwdykBMeAps34CeLv7z8VvqHkBzJHuSMguYAMjfAsJfA0U4siTWRXdcck665ibXllYv3f59xbEIxVN0QTKSTNORZA4TknyORsZjmiyYkMZIRGAMmY+ZSWZHxpBpsh4yTcYkpMlgIpoHQGwXfpoYRjwY66LENQCqYRv+hUHMT6zqB+JfqCYWzYMAeMJA4QhNKLfqJ9XZnQt3K4fulve+qO4rbBhs6BvlTswtLq2JRCKtVru5uel2u30+XygUep8IoX4i4eB7EfH1FjgqGgtlor1FKuK3EOAvYvpBxAcivsjOtt+15TCbtWrNulQ2ubjWPjxf0TWZWSt4UD50r3Qoo36SIxCPim1yR9gRAn4iRZISHrrCeJ/YcBKCiS2y5wCAbpDE5ZBTUI2dTGamQmNBRKQicgBMwl2LaUQMxrbhEZOIYCkMTp2gD0SRTag8IZMiiJtMliNA8l6ct/a1kzIcxic0FQ9K6f0PTwDYm9hZqRDYWcnBZI+T6dSlyMhUNJAxdJqsDdEIQ+aTpch8Mk3GkGkyhkyTMXSajCRodLdzl1j3COOYGwbAH4YlECbu9UJoFMSCwaA/GIWrND4AHEEg3wwMC01Vg8sv6kduvO298bb/fjW3oGOqWbDEmxHOr0nlCpVZr3NaTd4th9+3Ew4FcOhHp9Fxe1AaiOcA+EtnxEJN/FIDJ4APlunhIzrEYzzhKPCHwl7PzpbdtQkf/BdKpBOL4p5xEbt/Oat24l5J38289idV/dXcZd6aTrrpt+7AKUQAiBKf0yAe9YFzhytCsfhNCH+Mcv1xtAmAtl0OjUEJMUgv2jHoY2AwHUDnJFdFV56Eg8dNgjlwF5PlB1CYrp1MQ2M+ReF/SwKgTDv5lsDOosNQVxIAXYTC+UgNaU0E5T8mAyj8Q28ymIpX/OGTkdEofCA0FIsGo/Bb9bj4IyAUff+cjNHln1g31PBXXzZN3mUJblfw71Vxc1rGKrunesaW3q3K1xUbGoPFbN9yeHZ3AuFgKAKfGv1wKQVN8IM0gPIPugkBV+o/+MVE4kT9/S1r4meR4f1ZpBcufUVBOBz2+Xa2nC6r1apUaFeE8pGp1ZaBmeJG/vOq3gcVvQ9YQ69bJmtHxdMKu3Eb/hoLOqUPh8PoHgb6QifMNLFoNEI8CksseaFtl9CHeBdKd5OlLoiRCQ2gj0vGJxRBgCSCTF2p8+lIxEloDxOYzGeymYwh09gJZOa+9MGkkqhNOF88F0rvPgmAvhdic+kEk014bCbAR/LpllBGTNikSyU3I118Em10e+hgynaiA75cDvwuJRGGY7EI8QBoOAYfoQ+HQAQu+sTgyb6fWOW3eoHM5Bt8J2H3TT6v6r5d2HyruPsxZ7ioZ7FuVDS0oHgnUss1RoPRarM53B6vPxAKIY3E6TY6f4eBm2AmzAfQjeSO+HIQXCOCLyDANxHe5yH0hA966hQpjxKmB4Nh/65v1+PetJpVKpVQrJhalnaMLJS0jryo6b9d3Hn7bddLzhCHuzApNmgcfvfex5nhoj9xL5p4CSC8d2UQ/1gbZT/BWxzvipiTIsGkkCyOlWOC3EunMYxMMMGY+PS9HWtjEqHzmThJVDGJ4LiHZJPAyF0fORBZ1cfQdGfi6SCCrDylBEAWwJOkE2QYmU7LiWTBFGm6JZQREzbpUsmHSxefRFtCe8h4CoDc9aXTMQAXeVD0JBIBDKFREIzEghF4MxSG/q0o0G2DWdVO84g8p3H679K+22+7nlR2FzZxmwYmuZNL08viZbFaojZpzS7r1q57N+jzhyORCFzJIc7Rsf5I/NlSeCsZM98vxxPn2mgJfi8r7d0hgDchiNeyiJSAcgTSgMaI0zF4pRKELxHA4g0GHe4tk828saERr4sWZ+fGxmbr+6dyGvkPy3vulvU/ZA/n9Sz1LBuFloArAK94oMERHwjtEAo++E4n026Ad8V0dwYmhWQ9WDkmyL10GsPIBBOMiU+PWVgbkwidz8RJoopJBEdMJJsERu76yIESqqJ7hgzDNB6ayWDMpyg8SALAo6ZI4LFTxB86DHsnuWaKaxCYwsSqKPzkmpP30v2DR0kuSOk9RJMomg+xSX4BKgjPf6PkW6DOEJBv+vjL2vKud88rB+6V9P5d0pfZNF3cPdc0vMqbXV9YFclkMotB73bY/bu+YCgCz6D31lXiL9x+eE5PPr9HdHw6ew3yo5kEDz2T9EECwB5AQjhboDvYaAooB8DfXYwGAn7vtnPTrtPqlMqlNcXAzHrt0EJh57tH7OG/Snr+rhh40zjcNSlcUhic2z68WgXTFf726pHdBMZzIROUnQfvgRQ+WYRMk/EJReg7ORLHgmRt5K7U+XQk1sPUlZzPZDOTVJK5MImQMw3CYCWYSCJLFsf45P6n9O6fAJIPn0ovsiwV5NFhUrGB4hpkTELm4dqZcAi8OVMfK5U5pq7tKJCEhSjKheALs3un/M4g2HCDSZG5ZVSUWy94UNz+d2HLk4q+3OaJ6r657vHViUWJUGlUGTZNmw632x0J+IkT5yDxWE4AqiE+cgm/qYCTQfwFWuJ8Pf6Jhb2PTRAn/jiUE+fy0b2vT8Sfr6ROH6Hf18RHKeBVQpj4wDLSDL+1GYlEwhG4eBSIgG1/yOnZsdhdKp1pWaweWRC1jSyWto+9YA3cL++5VdL5smGUPSodlTmktoDVB3aIuyD4uR+mDXqAfQNNJ7lC6pQP2k6yP9NVYjDdNjon+SzoypNw8LhJMAfuYrI8LYVISep2YnxCEWwSpfe/KwFQJk/ZHthHmE/n4K5PQOAtmuJY++BxXNlP3fso9x6JTopRHecmguH1kz08adC9yAqXPNBJtx8AZxhIrYGBWVVpx/Tzsr77RR0Pittf1wyWdYw38BcHZ2XvxBtSld5gNDtd29veXX+AeKATflAoQDyXuQNvHMAXqcLwOfq9qwG4odGnF4g3ud6/bAUzQfxNY/zEJ/GUJrwPQXqj4f19gQSzjQH4A+vwhm4IvkAGH2lFNqA0ACXCxJtlfvSKWTDs8/mcW64No0ms0EyvyLomVisH3mW1TNwp7/8tr+1B5VBZ/8LQik5s2bUH4+8So6sKlNIIG/ZuasMrA1g+yHZESoPng7QSt5/4h769QeaQTyEp/AM3Ex5lTIcSBtP33iQiWOoARtIHoihJqDwhkyKIm0yWI0DyXqzkwERCU/GglN54AkBcBEKPzeGXBhGTLIZ1UUwkY3AXfrydrBD3JiTwiBQiIRgzyWDMTE5gEQRDzSQiFHwSJKVrX80U/MGazOYR4Tj2PnyjMIHfJXofpYkzaPgJMyKE7S2tEA/Cxz9iE4KBlYgyKEKhl1qJz5mh6B8ifngkHpSJt3yJh2v2bqUGiLu7jgjQw4+1+bpm1DkNI3eL2m/ntzx625lbx63tm+mbWJlcFK+K5doN/ebmptfr9fv94XD0/QShxWg6xOfj4jTp9D/uwb08FAfgZrwb+YFovHdOys7H2ihfboAKkGZ0nwB+xC4WDYT83t1tl9tptlokSs3smoT3brWZO1vcyH9W1nUrr/leSXd+50LbjFZsCRs9wEM8HorfGY7Bq5woiMYioSh8Tw7lmChxFwG9sEZsF7yehn76a28L7hlEmjCaJmLQ65Sd8B8IfL+bpTa5dPGpaT18FA7yKOujAahXALgPzwoRZHPoHNTLlADIqsh6mOh08Xh0LMikmcKn4FGTgiE3/z97b+HeRvIliv6l97277+7u23d399v7o8lMOHHITDHJMkPixCgmy5JsyQIzsyyLmRnqfaequ90WOFbGnjg7Virt6urCU4eKThXFZ3+63v/NnK9PfsOvFUuB3Y0Mo4TMCMETAXCFJ2BRQPZiXvIO4J54QhzsdcJedpIDvSIKPIi2x4lAL84mKSMKOcyzMOtP5FE0j4I55EqhHReSrLo6p/WvOYLHbV9edEw1jsi4c0tTyg25YW9l7/zw3GFzef1+fyIezWWTeFMnSB3yK4tm9Md79xdzaoB+rpDN5JLZTCKVjIRDPo/HdXp2vrZ7vGDYnVaucWf174cUv3UK/tE2+5orHBSZlg495jDyZ1AMc3noGYZPYy+Yr2MWDHDHEXN5zFZa0kH4C52WyCwqCGDFZFnkuXdw/AMrVJGOKtSh2vgVsrnz4G8LAFIFJh5pWGnzSkPYCYvawWRSFH7rr0xBN2cQTBKm/tenLYp/8yaQhDeP/30xK1aebG+n1WSG7FnTC3SBwBrywMSp7TSMbguHkpg5BxYDQQWUz+SSeBcMZieMWlxA2WyaGGyLIuQroJMwUh9GJzTnteNLz3rFv7VPv+6e6RiXfBEtKZbWjeu7B4dn5+cXbo8vHIlFk5l4ppDA+V4pDoOSru5P8Jc10QSwwop7tpBPZzOpZDLtDURPrN6NI4dq43xucb9fYGqeUD3q/PqPjsnnXEE3zyRZc+w68644GLhOU+weH0gA26VZlMki+AdHybIY/MDR8zkwkwenrEEW0Pap8REH2NeKPViK/wTg+xFVrEhHFSpTbfwK2dx5MKkn+4kQutEIoKhqldhZWUAwTLP0K/tTWX9Rude/snO4PibzlUlCQsgr87XUUxS/NEKlkKKci14rpbq9cIYr0xvMWarf1VKIlYL0pXkyZsYc9x+bF+OEJGeidALngdkJPBGfwTMYMYScKbTlCAtXTrr5+reD80+7hI+7BTX90s7Jpcn5TaXxYGX7+Pjk3HZhjfg98ZA/HY9ks1lsnZk6Issu9A8H3VXwVP92VQAgOPqQT2OXhat00tloIusKxs3OyNaZZ2nLLFreH5QZmieVL3rnfv04+bxH1Da5PK07Wz4J2pPUvFAGc3Zg8bkMyudhHyojAGA6CO9ezSewXKDEADVjVqIKVN+ghxQ/KwTYrJ/hxsUCgLEFRKbsy7a1EhEymbJTkci38mRnW+pnF1H6tWwIk4R8Ja9lY7IjlG3mNalA48Y/Jk7RKxN+Zx7Cpi+zZ4/3qVDgsrScoJY38SInMxQAjZKOwE5POBw27k+YfhyhIEL2LDqNosXj5Oj8SeP40rOOmUctozWcL+0T4k8y05xmR712trpv3T1xnFtd/kAonUzBum4OXwxD66dUOVehd9mMn8FH2bCjJS5GBjKNhs/94iZksvlIAkYD53bv7snF8sa+0rQDC8Vzmjf9wl8+Tv/KEdWMqce0Z8qj0FEQBXLA8eHHLMzAoC2Ty6ewOQmyOs3uPhD8zJoNSXnZm0y3kjxZTwJ/VsCD9yeGQEUBQO4EJlyJLQAqtbUS/yrLGZlsb+5hLxezU1WqDwm/eUwmHyYJOwfma6mnKH5phEohJCH5ymRSFlyVcvjucFzKDQQAwwVg9ySjNjLzyTCJfcky2AKA8BWs9acQ8hfQSSS/ZA7xNh1dou3XA+q/Nc7+1jbXOCQbnFPzVAalaXN15+TgxG51hnzhZCSeSWKF9lLNJ9s3CWvLgbKMyy0GwB8DveJSv+u9zFoL5MNI01wum4ZtRSifz+ZSiaTXEzRfODcOzxc3jwTLu31i/dtR6S+dM3/v5NUMK3uFG+JV264j4YzlI2mY8sGL7DAjVECZHDzhbB2Z/8FPKCiHF/ZT+IlBTZfOVAM8xb8HAcBApFp8qzY+U9DdeUiV2M8yU0D3QQCwWSSbdV4PGnaq62MyX5kkJOSbZRXFZ/L5poedM5PJN1GEHZPt/2ZxTAQqFa1+svn2JcNlswDMfMEsAQ5k4tNMHrObyzUEsHkP+1IQiheQK4YOnBnVXmBMeVL/BW7OetTJezkgaJ9SfpYbpMtb+vXD3QPLudkW9noT4UAmEU+n03AcAE9VJOh5DLzaiy9IycdRIYoKMZjsLvl9E3olKe5FAFmnhXn4QgEUHeqyTHKeIIuySbgJOZNPxDP+QMTidO6dnRt392WGjUmlseOT/B1X8Fvr1PMuYfu04bPuTGWOHoYKvngmkwPLQuDwbZRknEEkQQ5l8eUGMGggSwUYEGUFAAm8BBTJ8/L9z+ojdHTz1lcb/+Y5/56YbNbPkE/xFBBGHaxV0PcHlRZZqXlMpuwkZQNJBIo9lfvDzuGGfnY21SZh1+eatEwR18Qp+4kkZJfCDimbhHQEUyLbUyl+UfhlkpsJAGyOBt/AC9P4wE3IRiBmtw95pZgC7IUHl0HIEc1u2ULSldMh4Wr9yMKLbvHzHvGbfmnX7NKneZPYuLm0ub95eGKze0L+WCIUy0fDKB3BRvBzedriGxiBwMsGlwIAJWgBAHv/ye8adCpq/r16ZfQqAj1mOR1XEq+75NKwewr2emZz+BxZJpuPx+OBgM/hsh+fnqxu7c3r1mcUK5xJ1YdByZMe/j+6BW8mdP2qQ+2R98QTD2TopWBcBmz5hx6kDlqTEcHVnV2VZMAl5Ki+vgz4M/oYOrph46uNf8Nsf380QjvsZ/EIgJRRFKNSwaSdzNfvpkwGXt+dA1OHSp6iqlaKdtfh7Jay/ZXKZcdh+6uNT0xckidN0pfED8uS5BgtYbGoQC5hYS7tIhGwQKKkQhLfhB7KoTNvbvnQPyLfbvmy+KqX97Jnqm6A1zkhGRNqBKqVRdPe+t75icVpd/kDQbDUls3mcxl8hIrM8MBZLapleBEB67DQPFI9ah6DVI8NAeKvBIcfFV5aQ7qeDLSpBhKZyghUXGGyVRcmgsiQCOCfR9l0Lo3NzEUC/rOzs52Dw6XVrRmVfkCgbZ5QveiX/e2j8Fm/ulOwJ9nyb7uybnwtJQEc9DXZ8kN6HYZ3YH2DTKmV1I2pJPFApWhs+VEQ/bnLrYQPtxVeCTrX5F+q318ZAZAcHwRAJcj+zvBKHVMp29uKf70AIOyAUDt5AgPKo2S2kMpR+/sx3sCuc7iCMYNsYbRmDs/qTj9OLr3qFT3tEjzvEdSNSPv5S/ylNc367sbB8bH5wu3yh4OxVAJs8udy1KiCkkO4bbCuAI7ck473NcLkNTAgZvMMno0qD4lKcPtR4WVriRuImTsl1SghysiAUq2cTLhRx+1gMqyA0tl8GuwLhSN+m9u+az437JllxsMviq2eOdPLftXfPor/3j5bN66cXjpcPQ/aIiiYhrtlqEwoAYBvYigkoZ6YuVOAomf8aLn7IABuB4PK4sMtBlaq5TVF3C8BQCrKbkZpCPvrd/vvKNvvrs8fnJDhuWXLJbPSeWJFOVfIZNlMv5DOZjLZfBZvLoGruFzxhY2LT4rN1gn1K674Wa/49aCsZXx+gLfI02xqt463Tyxmm9PlcQcDvnQ8htJpYlYZbvvCS5MpfKzpCteDjUZ45yIsPpP1Z2rLCrmpkbVcUbYF9zyQgJ91ogLPrREuz8zMsABCDEngVXd6qojwa9jvn8tHEnFfKOz0Bs4sjo3tA9Xy+hfZcveUsm5Q/JorftEjezOkHpAdzG/5D9xZHzY4msvl8CYr2DOKsPVpZngHJRCzGZR8YsYBANUrcuKeg/mhet+CAFuzJ/4fPAVUypdLQ77VqBt9v6Nsb1T2PYhUiYxzoJaDMlisjRKtHE8ik0NG9nB+4yLEWzrg8pY/9Atfds++5vDqhmXds/rP8xsK465p5/jA7LQ4PE5vIBSOplIp2NlCLuCFnelUQeyyaLbOTH2wRwCXAoA633QPwPidVQDo0yMAus0MHAgjZuBPfQeTD3hUREZI9HoMOcUFy+YZYOixSNTjdp6fn+0dHevWd4SLGyNCU8Oo6vFH4W+dkjdDCz38FfGK+dAZ8ydBrkLmBbDAR2QPkbQswcOw/ocRwHd29T1Pdh8FQCnIGNFU+um7Q/7kAuAK3FjSAHg/5gvUlSl4zyCeNIBNKdlsPhDPn/jSS4e+kYX9ugnt037ZM66kpl/a+kk5KtSKNGvatf31rX2z2exx2yORSCKRSKVhOwrhaKQoYmGNmmiiOeCVKrFe6CSU7smqLCvSz+e9ZKlM3UnTCP9ltxoiUO/kxG+CXIwMnUMGBHifDwA5j9LZTDwZ8/s8Nqvl4ODItLEj166Pi7RtnxfeDSmecKQvBhfaZlanls9XzVF7FCaF4OpNvNhOVgMY+Yrpji0DmJo+eP6bQODeCYA/DK4PAuAS1Fd5KnkDS5h4h3gaITDak0GeaG7b7Octbrd9nn/ePfNr5+zjHmHjV22veP2rek9qOjRunZ6YbV6vPxwKpBPhfCaOChm8fxTYF+w6z8PmTWyBKJcrZPP5LNllBHPi9Gz4Ja9jmB7toStchnXSn/77/qW2cuK9sNRpaDB3iq04APAK2KBDLk/GVtl8OpFPJ1KxsN/nObdY1/dOlMa9afVWL3/1/Zj61w7hL+1zr/skvQKjctt2Esg4Y/kovmaZyIA0MQ8B6sCDAPjvi1T4OCpQHNb7GD37xy8C/wEg/7MLALaGyfLncpR5HzInkEbIH8sdulOi3XC/xvZuwvArR/Skc+5tv6D7q2JcpBUvruvWDw5OrRd2j8cbDIejyWQ6nYGVYlauxA+Hn64yFNYriX19x1M5/ncQAGzg0I1mQYMNKBghwYwZOLw/qqyMxJlc5pBHhXQ+l8ik48lEIpEIh6NWm2tn/0S/vi/RrA3OqRtHJI+7eX/vEj4f07WLtuY3LNvnbmc4E8UDgsqzQGWOhtH1f/j780GAzfrvlwC4awZ91/n/XlxgOASdERNAPHRwsXp8GV7Ox2Rieka8AAAgAElEQVQCH5kXOkfyFyYEENjp9KTQniMu1O21T2qeDCz8laN81Ct/P67p4eknFCaFbsO0sXdmttourF6PKx4Gyw25TBY2jtKnTpnZDFAoib7PZm20H48DcH3K1fkyjKrnf3sBQFtpJca6KZPdZG2Y6jdmhYCGMCzYUwMBYiAaz92R5YRslrqdOBLwuxzOw6MT3equWLsxKl9tmtQ9GZz/pUf8vGuq64ucv7SzduZ1xQtJfEAsibcM0VN0tHRhYctl19zIh28vqBCTlEKXVSHSQ/BtQ+DWBADhp6XPait83/hyaYv+iBoCjeXx9gyK2TFz6AzlU6TCGqOTK0EA4Gwygv07FOkWsGU22FsDWj4E0q0jO0FgzieFkC+DDjwF+baXK9t7M7b0qFf+S7eghsvr+Cz+JF0Wa7eW1g7WD8zmC6fb44vH46lkPJtJEbsFdFlULdgVqRYT/nvE/y5soRklAR8FRAoTCFgIE6ZZMQnDujkdxI5A9XIuX8jBObJIJOL2BI7M1rXdY7VpZ0ah7ZtWvh2UP+6RPOrkvRmWDcjWVfvO01AhiChLc9SAAEYhBC0BxWDajuwXgvJhjJLPZUqrR+MAsR9OoSLGE4jL1JMUQcszks3D884hwBYATGHfMwVEs5Liv0ymN/R8F8HcMO/viVbcHvr9e/KqKg2zSwQ4NUUnDHnQZI5zxC+X3L9MKXkwwgwGInNEBsAzB7Pz1NQ85vv+NDIHkfEkNKs7bZtcfMER/trJe8IRffi01MM3zi2sqAxr63snJxa73e3zBkOJRCqXA5rP5zLA/S/n8a+wqjLV+TMF3Qd8pnEW25nA1iZSqVQ4HPZ6vVardX9/X7uyNavZ6xNvNE6oX/eLfuuaecnldfGWZ43Hu960LYGi9HVAmPHnUAYYPTZdAey9qI0MT2c8uMPZrP9yHonEYdQaBsP/TDjyI9t6awLgthpRhEy3le3PlQ+missLaaHyDDGRxUCsVrGHBdRGfRINt5Z8hdtp83AtIqWIwTxyDhYPsS2dDEKhPHJm0H4IyQ5iAyrzyyHVo07+o/av77hz3AnplGhhYUm/urG7c2w5sbqdvkgwloqlssksGGxg/R6YPgsYLO99wGdGADCTvMC+8/lsNptKpUKhkNPpPDk7XdvantetTioMnV+Vz7vn/t4++0uXqPaL4ZPWYrJmrQkUwdNKWHnPgG1wbKOCHNAjR0bYG71YMCjjZdC51FMm9kPQnUGgagHARia2/7ZqeB8I5rba8t35EHPBzBWMkM/lRA4tDPBf5ugQPdDGmtnlnA/M6jBkCZeCkLNE+CIRsNOZRduO+JzxvG3W+IQr/6+22ed9indDiu4pzazStGRY39pct57seR0XwRBm/ek8ObRFxv6XDAUvUd4FPnw3DO9Jwh+Fz5ddcxUQTDjTWel0Oh4LJaMut/3o8HB/Y/dQtXI0Id9sndDWDCr/3sr/rVNUN6YaX9jVH3sskUwoD0tEWAzAJlT40ThG9PerBcIb4fKMdl/K9EkInfBBmaAhcfd/CT4wWEEKvG4KiMGbIs9tVZVke1u5/aT5FOj9l4R941aQc0P4YBSlv1OmEeiDo7DySi++koOmQKTYojAYckvnUBrv80si5MuhkzhSn0b7pOsvuby/NY7+0jz2oZ/fO6X+KjdJlrb0m0c7h6dms8XjdiYjwXw6kc3BMILUh02ujJluBtTE0DHz+if3/Ch8/ma5DM0XCoVcLpPLJtLpcDQS8nh8ZxbH9v7FovFIqNqalG98HFc8bvn0f2oHHrV9appSC7ad+xHkzqAEwdICSuHriGksZQ7xUSNERjwwugijkZTVWrBouTK6/JOj0J02/0EA3Cl4vzNzevbmUnnHg2/WnR7AioFIWMrUVQEAM7RYMcMRCwWUKqBwHlkjaPkkPLV8Vj+lf9wn/Wvb1yddU02j0sE5NX9hddG4s7Z5cHJqcbu94XA4lUox+EE29hDmTp6VWMyDAGD3eiUoseP8EH9RxbJZ6ooFcv1AOBx12D17h+falT3J0sYXual7Rv26j/fXtolfOIL3E5qJpUPdsc8ap5YHsLlWhJeC6BPOBANx2xhMZOb62ToEjlK0QvAgAP4gpGAInF3ewwiADY0f7ycrtzmUJY7W9DGLZ0kA4Pj4h8PApjJe9QUFzRvJHDvjmh3PqPzo3Yj2r+2iv7fP1gzJe/jGr6ptsXZLY9rZPTh1Ot2RQBA2dMZj6VQincml8mADLpGlJE0lWBTVgq5Ipeh/ovAiPvvDW07qwzzJAI6aYizAdcKpVCaTyWSz6WQyHoqEvcHQsdWxvHMiM+7PLm71Cwy1Q9LfPs78pX36zej86MIO3FPvTQYThTQeB9DKAbYeTukLcIKByAAGT4j6Qiv7NPdnPv/5EIjpkSLPbSFMUbbsV+h9YgCALuxBANCQ+GF/6XE0PjmLBQDo/IyjCYSOBmbVqOEAoTTqQhWEbOH01rlXYjzo5+vecQW/tHx92iWsH1/sndN/UqxKjUeGXcuBGYwzh0KRZDSST8UL6QS2GI9vjMIW39LYxgAbSwgCMeChKJ11+Iv59Cf3FAHq3kKD7CJjOHCukM3mU9l8KpKMhhIJRyB8ZPVsHNkW10/5yo2B2aX6McVvXTP/aP30boA/IjEtbJwfOmNebHc6RaxLww5RslEUH2HDxlxx82l2T69UXYoBgtY0ct9bWN1Fxdgcme2/rbLYeRb5ywsA9pWQTAw2CyA1Y/K6rYr+wfncn/qTmtDNz2JjLzFUiBNqAqsM+KgPsQVD0wic98RxYK6GLAinsmDdJZhCB86ccjvAEe/WjC7+7SP/UcfMuwFhz6RsSqaRLxlMWwc7h2azzeXxRyLRZDKZzmRy+SzW4nDuRJCQPMkAn9ba6DrivwzLKPJcifTwcv8hQHYZYBFOJmqItpEq5JL5fCKTjSZTwVDMYfccH5g3Ng5Uhq0vEm3bJ0lNP/9R1+wv3YK6Sf2o5sRgjl1E4DK4ZA7GEwQrsllyfRth/djOK7nnmaxm5XMwd4T3sUF8IjnuP8R+8hqyWV8RY4cRABEARay/KB4DgUrhTIT77LnKeX9YTa9WgwiAKCMACCFRlImN99JGwHL5Amhq5AxXNIccEbRhjgj0512zazWDqkfd8t+4indj6h6BYUq1pjRtbu7vnp0fO512v88Ti0QzqXQ+i6+bYltvwGBg8XRGayuGDysORe0kpDjew/s9hwCr29h9SrYT4GuB4PqBZDQS9no9Due5xb62e6ow7n5Z2OiYW34xpHjEkTzpkzZ+1Y6pdpePvOeBbDANVqSIhVFKuQfuTm5zwBnnM9S+NFrnIEVTe5rvOcR+8up9pwD4qXl9pS67D426KgDwsUlmygefscRsGrcAC4AMvi83RY7sIxRNo1NHUrlmH5JuvxvT/L1H9Ldu4dN+cevkwrBEK9WvG3f2dk7OzqwOpy8YjCZSmXQuR5tgI3dEUU9yFS2mz9JBOhUC1WCziUqAfQj/WSBwyf/Bh4/7glaOHb3rjBwdz4KJoaw/knB4w2dW986xdXnjcG5hpXd2senzwm+94r908h/3ybvF27Jt56495onm0gWUysKOhqulkEVjeuqyUMjmsMMBPwvcft56fkMARCIRwhaLnuxkP2/j72HN2QKAnANgrPJeTpLCCV5YTyP6fgQhdxIdeTJwFdfCDndS+5YjfNI594QjrhlTdYlMX7R7C5vHK0enxxaL3WkLBHzxJGzoBJuRcA0ILQDwOX4o5VIG0KsLoMARxwwCLrf3MTLgHsLzoUpVQYBloDsLhkHyWdDNKZdHlK4ATDyD75AE266ZQjQa9/kCdofn8Mym3zqRGA4HpBsNX5aecSWPe4QvuYKWcfmsenP91OOK5MIZuIMeJjNzlA1Tdg3hhmR6Aoqe4WR/f/DfMgTYnLxIA76yCPwgAG4Z8BWyKxIA7NkeMNCJL+klhAhXpSOw1LZjT8rWHIPCjcbxpae94ie9gpp+fvtn6WfJssKwZdo53Tq0Htu8Vl/UG0lFktlMjprXRfkYpuLLqxYZVs6iPWx5uJCC1YgCtjwM6v/lr0ISRk5cxnzw3XsIECvTWNKDvo83mDE9SVmipif0YU8PGSbCxH06U4gk895IxuIKHZidG/vmxZVdnkLHnZR/6Jt91jX9ol9W91nzVbWrWr84cqb8acDeFNnXnIctarmS7WxZ2H/w8LtbCFQnAEBhLDH6cbcVvJvci2Td3RTyPbmyBQAGNWhbcLKrgD2YYJIIRfLIGkqZjl1zS7s9M7r3A9IXncKnXYKmaS1HZPqqXpcbtla39k5PzS6H0+v2RKPxdAZUfWK6Kw+D+kQhG8N6PQgAwsdJBPIkIbgNeMmZXMoI+5FuJgAom//fA4SHND8IAuwpR5of42k+MiYE3k9P4GBvHmWSKJdGeMEWLgfNoWQqF41G/W7PxbllZ2dv0bglWtoclqzWfdY87hE9apuq6RVyeUbFmm3PmXbFUQxfQcMcLYSF4Dy53yyXzVNG5X4QNP4UxX6PACBioBQ895arlq3q/axtsQAA48kwKIaxNgJqccbQsSevWLv4rNhp/aR8zeE975yu6eW3fFYNig28xVXN+u7umfXc5fEEgtFoOJOOF7IJlImhfBLfrws38BLdjmbxzO5NIHAoi6Z9tnbPRGYEQLmvBNLMxBHe/1EK/YeQ+wwBuqfJX6INZPC90Fd29zPdT/V5ASRBLo2yKZRN5hKJdDIVjiQunP6tY5t2/Vi4uDEuWWma0L3sVz3pFr0dkHVNaWfUu6unPmcsH0rDDCO1PEBtZCPj1Cvaxn0G2w+pG8O+izw3rwyTkGj27IRlpoAI6y8VAOxc2FlU8hchT6VodxdebYUr1QQ3hD1IJn5qmEyaidNScUpCqOkXkj/hv2QOlKha5DauBEKBFDL7M/pD76Ryp2NC85YjfPFx5nX3bOsn5ZDEOL24I980m04cp3aX3e3yh0PRZCKdhYM8hTy+3AmMdsVRLgE3yuJKgL6GjTqQKX8y+YutQ7POg9CzsWW3gZK2sJ80lNgmf+mwh78/BQRwd5I+ZYaDjPEGqq/JBk38QhADnx/KY/UihREsg1epcslULhxLB8Iplz96em5f27Mo1i4mlIc904aGYdnLzumnbRNNI5JxqXFpx7Zvj/iTeL8QYCHsZ4ZxasmPqsOVgQiJhEmMzF3e/FmS/z0L+Ib8Y/hYkefmrWASfo8AYBIz2jS7e9iLlkVqI4Nb7Pi37mdvaLz1zEmG2KhmFm/NJ4euYLcbObHF2MwBC8yFNAIrDGlyGyKAK5vCU+oJUMxB+yky6QPviQIKInScQEZ7SrrlGlFs1Y/IX3XNvOycqhsQcCZVX+QmkW5bs328eW4/8Xit/kA4mUzgq7iy+EovrMqzyIOevaErD6UQ6w64RyjLoxT2sEDGnAa4MWKxSr5xmtKIDIKVfnoIuREESCeyorJ69Yqack04s2+HHYc9F0T4LS7kst+ZcWU2h+LpXDiS8PmDFvPF0eHZyvqBSLUyOLfYPDb/iiv9tUvwZkTTI9gUrbm27Wl3HMQAlEXKg6VoisEQPGTuKE3hYTGOiwedtHIDaE4faPiGnyVI2K374X4KmLBYDoKttD6sLr0FL4Evw8ZJjldGACSoaATA0CeTkvQQqW6JAMDrBxjiRQKAINPP+KQFADmYRfbJgNoCe2zwfD29hwci5LJJ0nAMTHIQJoEyCbwSC32cLVC3cuMlV1jgXTLHPuvOm79oX/UJX3bPvu8TfJxQDAm0U/MrcsOOafds98xqdro9oVAkEY+nU6D153OwzRqXAR3B8pdCmJkLYgsArIGxKIP2/qglOQa7CBI+PKuAAE2KTJJSVsIOKcWQ7w7BWjxlCShXyKfT2WQilgp7oz6H03qxs3+yuLo/p9kZEK+3TxteDyqeckQvOcKWz6qphW3TsccVgyXiDBEorFbkCyiZhRtnmPPweJ6RXr1gN+Ymfozb391GhspuKwemyri/LpuI9TSYImOEMdOht+K5qQAg8ZgpoLICgNUGat6DJQmo2rLiYIuyAEjS1T/Xk9KhiltVgI1z5BtsZMCtBYEAnnw2k0qn00AeNPJBcoxKoPXnkT+NDrwZ0bq9V7j2gSuu+Tj7uu1rYz9vYHJ+Rm6YX97Ubx7snp5bHG5/IBSNRsFYG74FnBRUDSQva0BPAcHwJY/ok8BXN378AQLggdffCj1/fya3S4mg1VxSND6lns/mM/FkLBgOOb2+0wv76s6RyrQ5o9ByJ6V1fZMvuyae9Uy/H5f3qfaku94jbzaQgtUvoB74T5aX4Do7lEvnwHQdhfVwFUGWaMpVPDGgLmvIru2P8LP7jYg0Sqck5PkzCQAyiwdAvOKYFpK5rVt7YlGUw+zj1vKkkAP+VMqTxj5GoDEe0n3ktGMWZTOAvoUCyqThkAsZJ8XS+WgGb4jG++EiWWTxp5f3HRPy9aZP81jl5zX2CrtHpBNzOqlmW7d2vLFvPrE47W5fMByKx6NAANkMymahgmQ3PyFgXGcCk2+1gukgUDfyoHLlLu/mpS0LMWSGc7vDB6NS3GEZD1mXgQCDBsRzDc5XooUy4UX0yNxvAatSuWwmm0jEw0Gvy3pxfnB0aNzalWjXRkRLDZ9kT7n8R1zx0yF5j3CVrz/duoh4YrDFCJh9Lgdbj/IZlIdL6NLpbDydS+aoswX0QBbhofk3nmTFqzJ1l2kRhtzdhePsKRIumlQAzYzhLlhdLNOL3x1EFK8i9avMFFBRPIZci1ICv8A/VoWKMKzi3Ba7kTf3w4Qjoo6Q3DzV748JGMlwSXZ2+TxKxsFwZx6viuF9nHZfzrBrPbCFQmn6LAxCcYSsCbTqLPA2/e2inVfDariC8eOXxv7Zoal5ntw4r91a2TrfO3GdWnx2VzgYSWeyYF8FduQSXGHu9sL7pplaEJgwr6Ue6B1mKzceUsNeD3zUgFKrmDS0pGN16J14GYy6k9z/fJkSzfFKu5k+JR5KP6NmG4o+3uIrua6e7P0nGj2mnVwhnUjH4F5Kl8N9cHyxvH4kXt77pFhv+ap61if6Syf/EUdSP7E4tXi0dhZwhwtk7Ey2SzjcIdPG3vremT9BnSqghtk0ut5i/f+YrICbUCeuie5/da6LWrPDdH+lU3/vSxFjJ9l9vwBgyPiqYKBlADWOAxlAmku2OTLrB5SkJ/L+Zk+8kkltl/w9+VSVlhLVmBEz+IFZZxYWeNMxrKfkC9hagzuGRNqjzs8KienIHCyECiiMkDOJDGfhMfV+3aT+t775v3SIn/YpWr4sDvGX+fOGBd3a6tbB3rHlwun3hZOxZCFFjmfS0/q4n5ihIkyZkvVnphVZPNFUCZ6QHLCNWboALQNWnPCujksZgIshDSSYcXfPqwhzd+X8WXK+mQAg3J/sX6BmmSvhzA3DK1E0WbYlmVCaUz4PelIyk0tkwsGYzeY7PHWt7Vnky7tjEkPLtO7FyPyv3XPPemYaR2TjkrXlA58lhDxpFMijdXNwcHZhaEaxafZEEIrB3GV1P4ZSbtiuO42P9Xpa8SfHaNgrHeDH5IlZYnXt/Fbs2xMAhE/gHQCUGCDSmJYJMBUCm02wo8+1wlZ33HdkUHbNk8QsfeI5ChiaAcbj3P6AJ0yV5KAhUBa1E6iAzV4lUT6C4JKMRCGfzuDzuopNR8OwtHFwTrpyuudHRntmYtnSMG142i/9pWPut66ZuhHpIH9pWrkqXlxfXNndO7LaPYFAJBxJRuPpVDKbSWMYwSl8fCyAnl4lGJPAhwTiZA8SA43roQr4BBsn8P1ieIBJyOBygMni+izvt7Dptr8/SIXvhigRAESuQyakF9nDVuAplwIAbzih6IjBomvosao4EJnsSSC4SyYt8awN7JLDu01ziUwiFAm6vU6L9fjkfGnzUGTcHZMb2ibkL3pm/9E2+4S78ObzymdTWGVDKgviSHZe984M8FQ7F15YEIAy8Jz+TZ7QduAY9+SJ+TshZ4rXE45f8rzsSdLi3/+8qQAgJTEESXN1+EtVooIAIHvCoPfJJmJqMEAygElnskBU0lR60IBFH1ZOqcgkCfNkJ2QC79qDhRnMRRYKoEVji2yFDEyjJ/P5MEIxhFJpLAqM5lDLtP4v7dN144p+2XqffPvDZ/U/unh/aZ9+yuHVj8tHRMvCxQ18BaPZfOH0+cORaDIaSyTTiQzer5/DoyWyCkSe+Kh+Ds8tZQpwX0syhxL5QpoNSbafDaJLP0wfgQAjqg3hBJSCdhWtfogAYBDsal0e3m4KAUYAAJtjuD/bQwkFQqDF5HaJJzQBVhtCtvNf4iHYLScXml7Wh9ofQSQRyIY8yqaz0VAk4D23WfctF6a9E4lhe1y+1japfcpR/Eez8L86F15+2WqXWZoEB4+5kiecmTHV5rEfdtnRlqwYk1aVPd/bqGqBUH186Cs2sdPslXQQ9P7t0uNNBcAlo6+EgVdxi6koGRKSZyoL+x3BtgGIXrop7IR/gJ9CeDaBYP/1RRelgoVd6BJyTDeJJ/TxLGc+izKJfDyF7Thvu5PdorW/cGT/0S3/a7/6b1zFLz3Cp72z9YP8/mm5QLmsMayvbe/vH5ktdpc/EInFEmCcOYcXjjF4MJCAPgi7z+NLAfDZTDhsgAdT1Mi9anhilY/sWIWjCrSDrdZkcwTd0czWLzrg4e9PAAE2fhcJAKIi5xBKZAtkETVDkO16Evg9X0HJJzucEzSikTluanmTzfKwJlyIppPBeNjp9ZxabFv7p0vGvVnFytCcvnF4/hlH9qhH8Xeu6j84yv/VLv7HJ+OXLa8zAVnB/RjZDKlprgDzzGVrTfVf2W8/JBDDn5wfIpa+kvigA3NGGpvjxuMVkKvQn7f1q04AXCcG2IDDtSMBySzMaaWI7WJs/YPwGjhiTtuZvM8eao0Mj1OZehJ+DJv3sbYfRjCtH8ZTP3EsDGIIHYXynxYP/94t+b/qef/0ceHfuEt/GzG8n17lyrZ42h3dxtHOofnYfOENRoKRZCwN5wCoKXk8zwPWnvMw58MUiocaYJWNYdYpbBWOLK8VxWSnKuvPIiiRiK4ornmMjFww5pFNTIT1g/1RZpx3W3j3kM8dQ4ARAFgJpZUtBLvRcnngx0TqE3SNY65cFk9uL7DAGBclk4/00BkkA8HDGEIRmpRgXQvBxv9YPBkMxW3OwM6RQ7txIVw2c/ibNWP6v/Ut/mvXwv/4OP9PXN3r2U2D2R/OXOoxDI0kaRop8txeu65Q6Hdmi+/dS1CXQAEQIpiNJBhihD3aRGuGGdv7LwBAOyYCgOjIrlDW7EoeOpKHruyOLbtrz+27qnMH7nxZVymfspEP3Plq45fN59CVPXakjh2pI2dm35XbcRewy+24M7uu5J43Z7IkvujOXo3o/t9W6T+1Lvxrj/7fevV/HTa+mlzrkOx8WTyUrZ5pt88Nu5bNU/e2JbBtjWzbYpu2+MZFYt0SX7fE9x3ZQ3v2yJE7cmaOXdljV/rYlT50pw9cqQNnhna5fWdh34n2nYWy9azU3gNn5sSdPnQkDpyZfTfadaBdNzrwoH1X5syX9sTAiARMzOJRzi2rHHfM+B6yJxAg1EdPQVBQYab7bL7ksTN66E7vOFO7zuyOO7d3l/S4587suZOM23cnidtzp3ZdyV1XcsuZ2nAm1x2pFUfSZE+s2mKb1uDOhXf3wrtj8eycB9aOvYtbTrHJNiw/rJ8wPR1c+q+ehX/rUPxzp/x/tkr/tZXfLVjR7Hu2XVnitpyZHXduy5nZ9eRL3b47X217K/GNWwrPHHky+87kviu360HbTrTrQQeewr4zceFLxIkNF0oJo/jqbeH5t0cA7BjXaYKM+YXL+TWQVEl8PeG8YX+UrxsWrAyJNjn8zV7RTg/l9rDnJ3v2inYG+ZvE9Qm2ucJL1yfe4op3midXfu1R/Gu98J8apP93o/J/NCr/Z6vi/2mW/EsL//90SV4OK5smdd08E0ewSp4c4Ua3aKtbuN0p3OkS7XYLd3sF21w+uD7BDnZ7fQJwXMEBdntc8IPrFYLrEVUBw17R9qBobYC/MiDY7BPs9PJ3uYK9fuEOd9Ywo9pYO7HHsJKIFQ0wIXebKgcLc8lEPyvgwXtrEKAFALOvH/oQtLECsvtTPCXYYxgUrPTy17v5G30Sgjw7VWFRVZTbLd5hHE37wAQ44l2OeLdXtMMRbjGuV7TJEa1xBKscnpHDM/byTRzeSsf0StPE8q89sn9v5v97q+T/axH/c5PgX1pF/6tZ8M8NM//eMPVhbLGDB0TUKzmAPCUHXYKtu2vRLeYM9Cjc6Bes9Ak3e0Xb3cJtrni3X7TRO6uV6vbOXVGyx4m6lw3Pa90WorDZO5PnlW2g7BjXCAC8xovHnVcFQBYhfxJNKdY7JtS9gu1+xTlHccGZd3bK7R0Ke4fCec+fH+WOj3LbR7mDXc9OuZ0rtfRJz4njys6J48jOe+UXHMVFq+Dk5dj633p0/9Gx+L8/Lv1bu+rfOxb+rU32vz8q/jGw/HZmv1Vu7Vhwdiy4O1WeTpWnY8EN/nlX57yjc97RrbR3yc575JYembVHZu+Runqkni6Jt0vi75YGuqW+bpmnW+bqljm75fZuubVTYcXVuyk8u+VWruykX3LYL7P0yS56pBccmYUrOe2eW++aVC+snwTSMAIgAoBZk2Dw41Y8D8u8twLGm2VCtrtAn0Zz6NgZHZxb7J7WDcoP+xXnneLzHoXjjunR2SF3tStc7QoPOLmvXe7rAOfpknt75O4emZ0js/bLLIMy85D8vF9x0aXydagDHUpP57yDM2/vnbd2y87bhcdPB7T/2S77zzbFv7fI/qWB/2/Nov9sl/ytU/F8yFQ/fdAmsHTL7RyFu0tm65G7gDoIjVx9dsrtnfJ7xHkwPZ71yU64CuAe3XJr77y1V3rcNWMamF3aPHKn8An9XA7M5LFE+806/9pYbOH5syAAACAASURBVPbORPx9AuDSFg6MVhJ5uKX2k3S9m7c6vuT6bIqPrGQGDNnhldzwauYnciNrWcaNrmbHTJlxU+qzMTlBu8/G5GdjctyUGtHHuZpgu9RRO3Py8tPW06HVxwOGX/uWf+nV/jpgrPmy2ypzcJdj/cZ0ryHTv1LoM+Wxyw0Y0gPG5JAxNWJIjK0kwZlSY6bMmLEwZkQjRjRsgOeIEcGrqTBmyo2sZMZMqZGV1MhKFcAcM6U+m6ITxuiXlcznldy4MTdhSn/SR0dUF92zRtnqiT2SSYDFUNauvVucd8SIxgiAa7QKBiMfPL8PArCHgUzGBlJoxxbtmdJyxTsThuCXlfSwPj1kyN0tPa7khlcKwyZU5ACljYVRQ37MkP1kSH42JCb0sa/62CdDcsCIuCbUv4KGTPlRY3rUkBjUhntVnib+6cuxzWfDa0+HTE+HTM9HTTVjptrJnXaJvWchMKCNja9kR43pAW1s1JgeXwE6Leuqope7ZlNjptQnY2xiJfF5NT26mh5ezYyvZ8cN4QHFSe+MfuXAFUvhcTjMAlFr3b8PHy5T35oAABSjTgEzxtCgrvEcsgQKI+J1rmh/TB8aXckPriGusTBszI4Zkzd3o4ZEWVcph7KRRw2JauOXTTJqTA6uZAdXssOm9KgxzeQJ/lVoWv9yvHcpxFV7e5W2HtnpR9Fhm9DcxDe38Mwdkov+Bc+oLjpuSo6vpEdMmDZWCiOraHwl/8mUnTClJkwpqL8xPWpMlnVjOBw/02MGcNW2d8yYHDGkRkxAloMGNGJCI/p4v9LezV8Tr5yeB5IxvBZNTyLf6s4DjH5sAfAgAy4p8pZ89MZrAHMett2BGbUkQoEs2rJGP04ucWUn44bo2GphaAUNr6LRu6ZHGpMZYiF4O27MEEez6dyYKTdqzIJUMBawapL9Ykp9MaU+6aNDS4EOmaNZeNEsvGgRWTvlrh6lp1tq61N5uGr/oC46Ykh8Ws2MGpPD+vjntSzQlyFR1l1WoxoudHepRvTxYVN6mFYHR9bRsCHWKzVzZozGfU8YCwCMGsBU8eLc7SDKrQoA2OkP5rzxEVM40ZDD+3/OfZkB4WqH6HBgKdyvzwyuogEjhXCfDCADbvIc1ydGDfHSJ06bKH2OGuKjhihOAqmIK+KSTDj2xHESeI7rweHXxNhyfGw5PqIHx2QyYkgNrmT7V/JDJkoGYDYNwmBgOTVkyo6sZIaMieHl8IjON6Zzjyw5+9VerjrAVQf6NMGhxfCINjJuiH7CUm3EkBoyZIYMuSFDZmQ5OaaLjmojo/rUiCFFyQATGRDEx1biY8YYdokxIxZmmPszAgDDBxo7aqCelWA7akxDoUboiwF9AQSAIdOncrXOrgpXzqyRNHVqH+Vzmdu/3aWI+z8IgNuhZlYubAFAtg5m8P4xXwKtX4SbJvU985YhXWTIkOvX/xH0iNEVUPeTMfbJkMAOCH9kGTtMAsPGLKaC/JAhN6rPjOtTY8vJUV1sfDny2RAb1yeGdNE+TXBAG+nTJnrUkQFtZHg5NqAOjhoSI/rYqCkxpI8SN2pKfF7P9GtDI8Y4OEOCetLy4FpWDvyEruGlf8xYhs+Ucp5KFHd9+LA+OWTKD5oKvYY8x5AfWkdDxlSP3NL+xaDbdUXg7jXYCJTPg7n3W1THvi0ACFKVjcfCN7aXOmFInVrKFay++JB8p1Vw1KMJDRiy/br0wHJmaDk1tJwY1iWqecZw/Bs9h/ThIX1wSB8eXob4w7rUsC41pMsMLKeARy9T5Y7qEqPa1KguMbwcG9JH+w2xAX0MkizH+g2xfkMCIugS/QZwOB9IOKBPkHwG9PDKdsP6JCswNrwcHV6Oji6HR3XRoeVEvz7Ta8j3GvJ9hszQcmxMHxldDg8vRweWU32GTJ8+O7CcGYYSSRuZnGNDy2UdE4HyVAnPxIA+N6DPDeqSUO3lVI/K2zK3xTecOYJgmJ1so2Z37X32E6Fy1zWstpRq499y/cmEMbWaDxuyw+mc6dTdzNtolloGdMFhfXxgOTuoz901PQ4bIsOG0LAhMkLoC5MkQ480VQKRDusy8MQID4SmjxEa6ddn+vUZijb1GUxBmGwpAixLIExgAlPQJb1Q9MviBiwqxhyD8A3Wcwj7b/aslrMlBnXJQX26X5ccMKT7jdkBU6bfkGiXnrdOGrV7ngg56wwaNawB0OtzV5CFUaquhOKXaxSssoz9yhoAya5svNKScAg28wPHlPBWwlzO6osOynabBMddmmDfcnpAmxjSxqHBtBvQJhjHBJZ44oO6m7r+5Wi/PtSvDw0uRwZ10SFtfEibHNSmB7Xpfl26bznZr0v2L0MdhrTJkSVwQ7povz7CNUT79NEhHTiOIc7Vx8lXrj7J1UOFIR8dJC+tzIA2NqCNDerixHP1GRleCg9qI726dKc+36nP9yyn+3SREV1gVBsY0oX6l+NcfZqjz3GXM4O6+JAuWpr/t0Iu4ckGHQPYAS1GMgrm8SEtrudypl+XHsSaFFeX6FB6mnkgAJyBGD5NDXrHz3IG4I9htdWWUm38CjT1vcEsAVAogPmnWCq7cuKu5202SC/6AfciA9oExoE0G21u4L8pMQ7q4lXTozY+pIsAPerjffr4kC4E9KjPcJdzw0uR4SWgo14dTPQPaiMD2lifLjYAHsoNAvkwrrSemPx1SYoPYHIGhlCBrjGzKs3kmyHl6bESYIErLqf6l6L9y3GoiT7Vp4+3SczNk8alPU8shbdkwFXJP5sAyGazF97IgHSngXfYqQr1Lqf6FmODS7H+pTiXdr2LMcYxgcUebZRbhQtztWGuLtS/FO5fig4sxgcW4/1L4CBbbbRXF4UI2ihAHCJE+5cgSa8O3MAihHB04IYWwfViPx0TatK7FGE7pm7sQOLnLIa5muCAxjegDnCWEl3adJc23aNN9C0FBxe9w4u+gaUAVxvl6JLdugxHm+JCPaN9i1fyL822KKQYXNfCljSkbzHSB8Ul+zWRwaUYZynWNu9qntvhG84fBEAljlstQ682fqVyvzO8RADE0zkiAOolFi7gXghIT5vkLiUroVDZ8CL0Y14ZQrjqKU+PfYuxivSoDWF6BNIbWAoNLIU52hRHmxrUhAY1Ic5Somcp2bcY6V8M0ZQS6l2i3NWiMd+gyeGyLZiZEPIvfVI54FQM0yiTbQkfuIRDaYk4hGF0RZ6+xdiANsHVAFOCSuoSHG2kVXT+cwiAq0OM4hEAEQB1cwcflYEebaJXHelbjHA00SLXo470qMuEU9EWw5xqXM9SuGcJknA10T41OK4mytWQTII9S5eOZIs/BUmqPnW4Tx3uXgLXpw4PqCGrnqUwVwOvJJMeTej6+vRoQozrVQcGVN5+lb9HHelajHVp4j2LUe5iYEDjGdB4+jSBnsVo51K8Q5voXEr0LEavz7n81xJ4EriVhyqABVzvYoKjiXNVQEVdi5FWhbNpdpunN9+RALiKJ9/maVXF/2NYbbWlVBv/20CpKgYjAPD6XB4ViACom9uoE5/3arz9i8EedYyzmORo4kX0yMYfgkXsZ3kkrEyhVdJjkKsJchaDPYvRnqVwnwZWzroXE92LCa460K8KdGti3ZpYLyyq+XvVhNACPZoAZzFYvmIl1MHVQBGECoqelzkUparcusskTJyitN96xVwx1quOcBbD0Grc8GbB2X0XAAS/rxJqRQHQPu/vXop3q4Aps5GpWxX+pmPHv4m/WxPp1oBE6VVHuCriQr3qULc62K32d2n8nYs+4ro0/i5NkDBrkqoXp+rCPLF3Idi7EOzSgOOowM9RBbvVwS51mHEk1TXPXnVoQOUfUAGy4mix7sVQr8bPhZVhb6/G362JdCzGPi7FOxZjUG1N6CZtvEkcNmAv42soUPQsxrs1MY4KKKFTE26W2Rtntu5CAJTDk+s4WbXxwWgS/l2X6W18q7aUauPfRh1L8sBiAG8HuhQAtSIzR+3hLgIz7dEketSxS/TAqhh5ZeMP2182co86wo5zxV+BHjHdBboXA11LfuK6F+G1RxPo0RBiifSqA73qUJcm3qWJk50UpQKAUCg81eHKlAhiA9oLBA7Cg+SG84cigDxpXoSpO9qlJq4ig6oWDpXjg0LcrQqDjqiOYuYTahLebwFAkLsExa8IgHw+f+GN9Eu2a2f3W+d90IsLV7CkayHEdkwH/B5PlzrcqYl2aqDzulVRjircuxC+5N3A/f0fWa4T402XmiShOrsT80SOKsxRUQKgG/u7VcD6O1UhtmOEQVlPtzrYq/L3Lfg5GL0AR9VBjsrPUfs4al+32t+pCX/URNsXYx+h2mHA46tg+eZrJXAVJWSiQaOwJtWljvYsALF1qENNUhsRAA5/FNtxvJ01gAp4UsKn6IBq45N0JXhIZ3erf6stpdr4t1pZOjNGABTglvaVE3ft7Po7oblL7e1VB4DdaOKYUiqyOQZtGE8RXjGvTAS2pyw9cpSBnoUA6FJl6RGTJEXC6mC3KtypjnWqQVkB1MV8mRARziHYqQ7cgB5ZDJ0QoMpP9DmsF0IphLppKob4NCcpDxym4UUedvPZ/qJozGunMtyjjsGrOtyhjnSogR4bBadkBACLwLANCMyp3qNFYDahsrad5cBOMlxdBWaScrnchTfSJ976MHPQovC3q6MflcDxO5XhjoUyrlMVqeCuMFx2Z5fzR9rV0XZ1tFMV6VqI9CyEOMoQQbguVaBTHehQB9o14NoWwbVrQh2qKOXUVAVIN5Ae6lRBf+CKwbNDHWlfCH1UhRmHI0M4211+XQh2KomDJpMKd6kCXSofrkyoXR1p00Tb1ZF23PcQuBCsylUAWqQskDsWgp0LfsiftFrp61YHP6rCjRIYAcwtn5UKgKt9fflG85jr/l7GvtmCcrXxSdkkVaV6sPNk+yvFrxR+fSmlqaqNX5rDLYRQAgAOEREB8GFm463grFPl6VL52hcA+SvhT6XwSshZjhiBZNj02K0M9swHe+b93Up/RXokpKSKdjD0iHGVpkcgtE5VCJJjVaxjARC41LHpke2HVGpgBVcrDLTPjob9hPbL85/KcCjPxyrQYxi4ojoKhKkKtS+E2oAegw38k6YpWAS+jwKATUXYTyz+Fyhb+QWWAHBHueKd99P7TTJvmyrSPk9YG7T55q4SoMuGf1SF21SRNlXk4wJwwG5lkOBctzL4URloXwi1YteiChHXuhDCkWMkyRU0UgZIkvYF6BhwyjD0kDLYpgwygUwSJqTYowxDQiVpNeRJOahquFUdaVVH2gCDgx0qf4fKfxmBiXmt5xrEKgUyUAvOjWqvAuiwdSFUL7bVz2zO6CkBQE0gU3c5lHQ46fVv8aeiZN+KTs3kMKm+GZ+JQJIwr0UeJsMiT1G0b75eX0pp8mrjl+ZwCyHlBMAb/ulHpatD6WmbD7UuRAmllGJRKfLQITQCX4uWBM2AXlj02DUf6JoPdCvgSRh3G0UF4VY1OCCEBSBeyrFfMdMgNFhMYgyF0h6GKks9UKI6SMqlvi5EPqqAtK+6QPsCuGrpkYbSjVgc4Scd6gikUgVblODaFwLXCIBSrGAQu+yn0kASQmbvr87hI9gGGg6Hi0IrZUFlRJmOwcan8G1TZASQzyObN84V79RM7dZLPS2qcOt8oE0BrnX+Dl3zfLB5PtiqCLYpAoztkXZ5oFUWaFWEm+fDTfPRFmWkdSHaPB9skPmaFEAGQAwK4OwtCn+Lwt+hjrQpQbNoVQSbZf4WZah5Ptgoh5zbVOEWZbBJ4W9S+EmHNc8HGuW+1oVQ83yAhDfPB8inFmWocSHWrE40KUIt8kDHQrh93t+MIzcpg7QLNCt9rfOeNuxa5313CR9fm9LfOu9rVkZalKFWufejMtA8H6gTWeumN2b0sA0Uzp1gK3A309qvx46f/us11HW7bWMKKvJUWwoR3lQq+qWAEN4G6q2d3azhnbQpHO0KV5Mi0DwPGH6X+BaoRI/tilCrItykCDXIw43yYJMi1KQItCqC7cowRSkLQDLtynDbPHhalCBLgB7lPpoe/YTiGHJjXpvnA22qcKPcR6i1EZIEm+cB1Rvn/U3KQKs60ghk62+ep4qm6jkfwBzAi8nQRz+r4FeEgZQ+KwJZAcykTQm9AD2yEGya99byjxsnDboDXziFbUDgS4PJ3SqkZ2FdB/8YXk3QphRbitCJ/UrWz5gkhUKBEgBMEBODKYb9ifhpHGMEQI5Y0s9nC1ZPrFe0/Xpyp1bsAo4jJ8AFDntHrkkRaFSEGjEoWxT+VrkXOz/F/RXRZkW8SR5rlIVb5CGQEFhUtMgDzVJviwz6u0XhbZa6m6XuRqkLWLzC36oItixEm5WRBnmwQR6sl3ob5T6Cao1yX6Pc16QARGQ8BNUa5b56qadW6nkvC9fNxxoVoSaZt0XmaZF5mmTexvlA/Xyofj4E4VCKt0XhblU4WxTu24JMJYRrUXib5r1N8+FGRahF5mmfB0lWK7wgAsARfBAAV3CcIZgroXfwwhRU5Km2KBY9YtUMnwUrIBRNZI0nng8zG694py1yR6vC3Sj3Y/S7Q6q8hh6bpIFGWbhZEW+ZT7TMx1rkISBAub9F5iOqW4vM0yz3AbGInS0Kb53E00DocT5A6BHqDw5okFBfk4J6bZABkYLeiXU1op8R5axe7q2TeWhqDbYoQfAwjqY+LyHJFoW3Mh2VZ2JVxcdVAjnUghXKBgUIp0aF5wPvqHHSpN33XiMAGDwhGEJeS7GFiVbqYdg7k8P3HARjIRy5bxYLgAIiAoAj3Hr1dfu92Fk/HwJ1W+prlpFuu6snsGnAA1C0m+Ue7HyN8mCjLNwoizbK4o2yaIs02CLxtoodzRJbnfCiXmRtlbna5O4G8UWT1NYudTXyL5rlLkACGa6wIlSnCNYpwg3yINYaQJVoUvgbZN4GmZcMBYiHINklRiqDtcpYrSKM2+5ogYIcbcpg03z4gzz0QR6plQfgk8zdLHM2YdcM2HxXwIGKKTxAAwoQZk0SV6vcWy/3vuef106tTy+fPgiAIhJiyKYo/N6+sujxigCIxDPGE8/7qc2XcydNUluL3NUgCxDtuyp8a5D5yrpKmVxDjw3SSL0kSuixWexpFTvaJPY6vqVZAmZ/GoQWkAFSd6PoolF0AbSm8DfLPS0KkFuEEgkxMpTIiAFChg0yb/N8ABLK3a2qANZ7vG1Kb5PM2SBxAtFhAdMk8zbL/E1S4E6Eohvk7ga5u1HhAXe39OhvkAXqsLhqkHnrZN56pb9O5no7d1A/aVo88P9+AVAJUYlOz9bsqRFAJBJhpyExmFtp2J+In4VweBdQIZfH1xgyI4CXX3beCh218kCdxFcv9d6pq5N566R+cDJvvdRTL3PBU0oCw/XSWIM00igJNgpdzUJbm9DcJjztUNg/ym2ceWeL0Pxu9qBb45lYSXCV3laFo0FqbRLbmyRYkZf6oAlSf73UUydx10ncRMugNH2xiwTi4jzk2Sj3NSj8tfPBGqGjQXzRIbN9FJtbRedNUket2P1eFn4vC3+Q4SGF1NWIHantnYII6i/z1MoDH2T+Bom7Seauk3lqeGfvpx8EQCl2Q0gl3ap87B8dyqLHEgFw5H43ufFi9rhRYm2UOuqk/lp5CKP0XVHlNfTYII/WSaK1omC9yN8odDUJrG1Cc7vorEfh6JbbP4rNTYLjOr65W+0fX4n2aoCJ10ocjRI7kI/UUyf1N8hAx2fojuLdWCdjyLBR7qsVu+qkTlCrxfYGib1Jct4qsTSLzO0ye4vU3iiyNcucMC6XeBqBV1CuTuaqkwGl3CkxEvjUYsZYJ/O8l3pq5b5aqfvNzGHdVyMRAPhepiwqZNlTQKVoWS2W3pkAwGZL4ZLxHKwB9Iq2X37ZeSOwv5f6PohhHFcrdn+QVOPE3g/VOT/EhyJcHySOd1LXO4n7ncT7ThyslUXqxIEPPFv93FmP4uKLySfciQr3M1Ob8cmVCEd23iw8lJ2hwyTSXKDOeRvgiuiiXeoCQSLH8zZSb63YVS920BoEjDAapRDSJINZowYJKBeEmzdInLUSB6Cd+GJ02S/eTU6bvFzZWbPIUidyvpcG3klD76UgFxsk7gaJuxZPGVXZWNLSKuBZK3W/k7jfy4Lvpb56MQieWqn79dzpu6k1ZgRAmAigyG3bgv7R7PE7y2crSt+ZxR+VrIwAwJ0YT2RNxzACeD5zVC+5aJA4AdNkQZpYbopCtRJfWVcZb8vT41tR4L0kVCcO1AudTQJLj+Lik97N2wzxd5LT65HZtdCo1tUkOJ7eyR5kkM6D2uZddSJrs8jcIrMBm5b7YCgg9dSLXViP8cJkkRSYOKGmerEDZnFlbuIhRNqp8nwy+PhbYcFWTLCbmlyL9avd7RLbu8nDRpGtQeRowLpdrdT9XuZ+LwWODJykKv5TFXOTuGslvncSL6H9dxLvB5n3vdhZM33wTQFQhFB3KwCuIQAWwpFzANhs6aUA2Hkxsf2aZ30r9rwTukHzFbuqcyLP+3LundBd1r0X+SC+2PVW4nwrcb4B53oj8bwWet5LAx9Ervc8c6fCItpP7IaRFaFzhMwFZCkg9VmBu3CqNBfOM0hjRtxFW6PwsHF6v3HmpGbm5A3f8kHkfM+3NUic9WLHB4H17dx5zczZm1nzB4G1XuyoE9lrhbb3/Iu3c+dv587f8y9qhbZ6se0972RQ5zW5kC0H973NGlwdkvMGkeOt2PdGHHgrhtp+ELk+iFxvxR4IFJVvV9nGvhNWDc8PEtdbAI7/rcT/XggY/1bsejV78m5qbUp3Yg9EmUs9sSXyIjR7eL3vEGDRIz0CwAIgkcytnHjfTW48nzmCNX+R/Y3IDWggBmKpwpUjxrIUSgd+gx4/8M87FRbBbmw7iCx5ZC2g8yxyILTmQ30LF3O7yQuEtA7UpXbXCs5qZ3bq5w6AHnnWeqH9A++iUeqpEznf8axvZi1vZi3veNZaoaNe7KoT2etE9g8Ca83M2du583c8S4PEOb6aOIojDwJitOXReQate5FoL98qOGvkn9cLLiCJBFTGt1L3G4nnjcQD8CnX5Nuix7dizxsRSN+3YleNGMp9J3K8mtyr+2rU7PtCScSMAAqUnfbyGHhrAiAcDrNLKB0psL/CSAQ7HHhFANBrANvPP2+9mruoEbre8J3vhc53Iueb6pz7jaiMqxG6yrp3Qu87oReSiB1vxI4aseO1xPla7H4pdL8Wud7wLU2S89md2G4UXeTQQQQtHIe159mTGNJf5EcWTxatOTdCK3bEmT+um9tqntnrxAsD9TLQ+mtmzt7xLIS/E60fplBE9rdz56+nTz8IrE0yd4vCC+qVwPqOZ3nPO23g7c9tBM9icHe8I4GU24Eu8en72ZN3QneNyP9GBLUlyFQj8oMTesq2q1JgJWDWCB1l3TsRhL8R+2pE3ncC+wfcFy+mj95Ork4uPwiAIuz++V5Z9EgTJxYAyVSeCICnUwcfBJYPAutrgfO1ELhPJRSqEF6GGMtSKAmsRI+vxd4asfsN39IoNk9uhDaDyJJFJwm0eBxdNqcPg2jLgz4v2ySHKTdCq17UIT9/P73bOLPVKTltlthAuxfb306fvJ+zvJ27eM+31YtdeNnPR+jxzay5VmjDK3nuZrnrHc/8nn8+vhI+CCBzEBmOAvqjyIEfnafRigtxZJbG2aNa3hmQrchZI3a/FrtfiD2vRK7XovJ8plp6rABM5xuRG3gjJkNgUBLXG4Ht5dfdKwKAHAT7wwTANfp+KUEQhMM4RgkAYg46lytceGMc4fazT5svZy2vBO4anuPtJVdyYfb0zWdF6AP6lnHutwLfW4HnrQByfiVyvRI7XovA1Uh8LwSuZ7Pmjyr7kgPZEFp1ZYeVO22CjcbZjU9a57jW1i7cVJ2lPDm0fBzrkh20Sg6/6j0aM1JbkeQMTa7HOxXWmqn9D7yTPpVLuJ/XOtHCBRo1JeqF5kaBeUAXFh4hpRUJjtGAPtYgtr2ZPuiZN88fxy9iKIov5Vg5iw3Mm99OH73hu18J/K8F7jd85xuB/bXA+VLgfy70vxK4y7WrbGMhECOi4+bPt0LHa4H9lQiGRDV82zuR47XA+Wzq+M3kepEAqAoNShHjIeQHQoCmR1oG4G2gpmPX26/rT74evhWcv+XbXvKcrwTem2MOYXmVkJN8LXl6rtCj2MHQ4yuR5znf+YJn6Vr0LDmQJYdMjvTIwm4rf/2jcG9cbZ4xurrlxzObfksGrbryHyUnzcKTCZ1DfZZT2ZDsFM2sxzkyy/vpw2aJbdQQlZ4gtQ0Jj1CvNviBd/KBd8JRe/iHSOVA8gs0YAg3Si7GjYGTMNo+D40KDX0zWvW21xJHB0E0tGCtnT6CMT3f9hqI0f5K6HwmdD0TuoBMyumaleCAw4GccT6XT5xJKZ26Xgucr/gQ/krofClw1Ijdr/i25xM7tV8Mmn1PKJmHEUAuhwqwOZtcEVwWr25zBEDyqqT7F5VUKgDINtBMNn/hi/eIdp5+2nw6bX7Jd72es7/hO1/y7C/49hc8542ePCfErMa9nHO/nnPXzNlf8uxPBO4nQudr3nnN3MULnvu3Wdczsbt/I34QQ6cx9HXZVz91/PTL8bOZ8xcz5hdfD15+2VKZc/4UWjsNdcpOhlciWz5kjSNzGJ3HkSWBBGvOhunN4UXHlgPZougijM6CaNOLRpacoxrbdghUmMMo2osi0UG+Te58PbnXu3Sx6odMVg/d9kDeHEKfdPYP/LPnc56XgtDzWXvN3MU7ofUFz/KY530sDD7nu2/S3pd8F3E3hSSG+UuevYZvezFneyHwgJuzveLbXvDtT6aPa76uTy2fuUOw8TgH587xVW9wz/N1PwZVbi4t2ElunoqpRFFy5pWJ8Gf35IHp4+6Dq5nAD3d8omg6uXLq/DC59uTLwas5yyu+4wXPDThwQ0okNFsNJRI0punR+pJnfSJ0MvT4cA7etgAAIABJREFUdMbxUhx6KnJ16AL7UWSOoy86f8Ps+W+Tx09mzG8mT99+PXjPP5rZizoRWnFEO2VnY/rQjhtZougojswpZA8j1bqvR3Y8bnBve5EzjcwxdBBCksNUu/iwX23ZCsMkz1EEHcbQog11LVwM6xzHYbRug3tKBmW7y8dRSxjtOdGA9Oj19OlzvvuZwIM5lfn1nPk53/lMQKRUFSwIqFLgKH2WhzOG50u+i/qKgfx8xvly8vjDhF6z7wpn82CaJQc9eb0AqBbty7L3y4NghK6KNoqSMphP1OulkkFdCJNFKI1QNle48MW7xTuPP208njQ/4zmezwJTfj7nKOuezdpvxT2f87yYdb2etb2Yc/zK9/4qcL2eM7+ZNb/geX+ZcjwWeUb3smcpdODNDcjsNZ/NT2dcwHnn3I++nj4e31Yc5UJptH0e7lqw9ukjir2gcu1Mot1dOXC44mjDke1RnMxshF1pZPNmdatmme5EsOr9tGRTnWUsWbTlzPGWT3gr9snVQOe8493swddt/14cHfry4sXtPXPAmUKKo0Qt//jFtOPFnA9gMmt5zT97Nnf+25znCT/wjOf6JnzKRigKLA/MOeuLOduzmYsnPNcTnuv5rPXF3MXTOftvk8evv6wxAgCuBMACAK77vPbH8N+qWPn3paLwjZ2Y5b+2mn+aj/guZyIAcnC1MwiAfAFMs8QyKdOZ/cNX0+OJ/ZezludzjqdzToxs38Y3Ni4VoRnzyo7D9rPo0farwMPQ47NZ95M5/yO+k2OKniXRsR/1Sx2vvlw84rsfCbyvZjwvv56/mj2Z2I24ENrwJDsVlkFNULUbUq6b+YY93ZHd5Ucn1vz4olVlzrkz6MyZkC/vig2nkwZnp/RQdpiwZNGhF8lXzkUrVuF2kKM8H9Zaj0PImkAme2HdjWxx5IyhDXOkc2b11dTJbzz3Y573Gc/xZvb0zezpM57jMd9TiR6Zht/Qw4YJ2/98zoWdAwJ5tmc8x7Np1/Mvxx8mjJoDRzibAwGQ/8MFAMP6SwmbEB1DUqw5x0sBAIMALAC6RNu/jq39Onn2ZNb2dNoKrGfa+nimCvdk2lqVezztfDJtfz4Fqf4+5/rHnP359MmrqZPnM85HX23PRc6p47w9h3btsV7+4duJ42fTjkezzl+mrP+YOH40viM9Rt4UMh4HPwiO34vOR9Sn06od3uKu/sBli6N1N+pYcA4aQ9YsskbRwpp1XLb9kbfXNLurPM1Y8mg/jL4uHfSKttv4ezVfNht4e/OnscMoWj7wDM+olKbjiyja8KCP4v1XE0fPp6zPZjA7njE/mTE/nnY+nXU/nrHfED5PZm1PZm03jEyiPZmxPJu5eDx9/tus67dZ1+Pp86ez549nrI++HBIB4AomYREY9zo9CGC6+oqnCA1K96VdiX31hcW38VzF1a8Pb98PgRsIgN8+7z2dNj+dsT2esf8KyHZTfKNQ6Dvp0YLp0cmiR/eTGfdvc7bhjZgtiw7d6V7e8ZuJ/5+9r2Bra+kavX/w++490lOHYoUKdfcefY+flhaJe4J7C6XFXePuaHACxHfmPmtmZxNCgNBC5bzkGTazZ6+xNUtm1pjtTu3UjZqphxUTj8scj6ttCp1vCqHBaf9vteb/VFlkbbbKTl1ln77bPDO1iEwTSNrleWtDsyHknKNedRpFr8Ze1Ol/ko+81vknwsjlRW8GxwWN6uJG3W+VGn6rbXwZzfuQeR5GEoshtORH1kkft27k+0rzverJ2zXT92umntbYn9bY79ZM3ayZwSjai7zCXEl4M/65HZ/er5m6XzP1oHriQTWwM7xWTD0sNf9SNtjxqRQAob+kY4StfL5JAcDdc/SNYIwCuC0ZvVVmvVM9ebfCdb/adbfKvSd3r9KdurtbNXG7aup21cS9Ssjles00EFOl7UmF7UH5+N2K8SevJhU6nyuIDNNrvEbDzzLdkyrnrXLHzVLLTbkRRgB2NBdBfaal3xodz9rn35h86ukIkIsXzVFodBa97Jj58814xzhy+JFzDY1MosrhuX/qdIIuV58HphZMS6jHti7usP1coRL2TGvm0VQQ6SYjHaoZlXttKojcAVTe6/q5VPNIYX5QCRx4q8oF9FE5Aa+VE3vCz16BQfpXOm5XTd2pnr5b6YDXKvdNheFp6UhFry1eAVAIxgHbCaMPUQAMFW3tXmyX3WF4ShjYUABhegSATQfMCOCX0uHbMu39SvvdKjfmlKm7VXujt9SZEfPgtvz4qHLyQfXM/Rq3YHjJ4UMmT4DXYPpJrrtf7bhaar0vszySW55UW8p0/kmEeif9vzc6/no9+Ua3qpqOaJeQw4eWQsg8ieRds/KeubEJrAMWUZ85IGmf/I9irKTZOTSDPBHkXkWDFn951+Q/tWZ5j8ftRfaZtTfDzro+a592YmIh6vGhxhHPj9XWe9WTN6sm71ZNPKm2Paqy366auFE9fXuP+NkrP96tAk18v2qcRAStXD5xX2b6uXSAKADc+f+IIwBmI9i+KIDCRvVtyeiNUgvgscJ1r9J9p3L84Bx05Ksmb1aN36l03akcv1Y9c7168l6F7XG59V6p626Z+16VjdU3Y/ZGx1dRVZf7V9noE5nmvlz/sML8qMxwVzzSZAp5QqjbuFzcOVvvRGY/Mi2gUeeadtI/5UejM+jZG/PjCs3fbyYqlT7lLJoIIcsaqhya/L5spPCts8WwZF2KLkfhAm5B52SdPuT2owUKBpv2VTQeRJ4omkeoVTv3T5X6sVR7r3LiVtX0taqJ2zWT98ucD8tcdysOED93Kl33qpy3K5y3qqduVU/dqbDfq3LeqnLd2KQA8NYnILldFMBWkbRXgb5X+K05HoZswsD2CmA1GBy0TfysGLot1d+rcNytct+qnIR+wCfix/tl7geVk3crbS/axw2LkfFVVN018R+F6r5CfVOq+aHU/Eu55Um5Tq5cnESofyL4vNldoUZWP7KsoD6XVznp86wh6xSSvrX/VaHmtzjbDEHrApoJoCEnErbYH4pG2a0zzapV0yxaDCLzHBL3LvO7FzVzqNeyXFA18JD9+mV5V6/ZOxlE7yzUj3Xjt2umb1RM3qocf1hpe1hpA2FSOXXrIPFzp3L8VuX47aqJWCuA1LpdNn5HZvy5dKDdML0C3Wnqo5qAGAVACGurGkjo+u04AvC9bFDdEI9cV5hvVE7cKnfdqXTdrnAfnLtZ4b5WBe52hftmhftq1fTVqsm75fYHZaAAbiucN0uNf72xKWeDSwgNuqPitok/KzUvm+yygSVx7/wfVZpWk28ugPoMi9Kh5f4lWCrarZ+taVf2qN3jy2h0PPCySftnk+XvZldBo7mm321dREsIdVm9L5qML5qM/KbRDpV9yRcZXw62mnzd42jCh/TT4Xfa1YbRpWbtyuBEeBYh1XSE+8b6RKq+Xea6VjV7uRLE8V2F/UGp8075AeLndoX7TjmMeG5UTtysmrxd5rhTYQekyfRP5KN4BAC3UEMT76YANsmdw5fPBAMxBRCBgTieA4iNAEABWKd+Kh26JdHdKbNhBpm4UTF5s2LiU/Hj3TL37XLLH022oUnfAkJDbiTtmPqtRvfstbVscKViYOVls61ybHYKoaGJQFGzo9WBYELY7i1tG3k7ap2cj1onwvK3ppJXxpLXFu5r49uRaU8QButVfVN/15kLmx2selVTv8OzguZCqEbp47ZP6RfRsDvIatL+R94tbtGpppA7hBr1we/r3LerJq6Vu2+Uu+6XW+6UWa5XuK5VHjh+bpS7bmKRCJ5K580K9w2F65ZE/5Oi/8tQALBYBF87B3t/o0EUOw4am4B8BY2qa8KhqzIjYLbUcbPMebPUfb1sT855vSxVd63cebnSfrnSjqO4L5dPX66YvFlmv11qva1w35DbbyjMT2sN9ZoZqx8Z19HgNGrVewfsQd0C6ndGRG/0A5bVlQAaMc6W908NzaKJINK6VkYM49aJpSU/0k/5JJ32spG5bneoXT/Xb5id9KLZIOoxLLQa5obc3kHjuM4+Pb8cds6sq8fXrV5kXkS1A5N/VaifCAd/VgxJupymNeQIorL++ScyzXWF/XL5dH45sOItqe2+wnGrNKXKXit1ELdXZN4ss18rdVwpH79aOX6j1HazzAqvEu0T+Wh5j3Vm6VABfCay/L2KsZsC+FExeF2suVVmvV7mvFrmulY2vkf62RPnujE/Oi9XEpLexI93SsdvyJ23yqxPaoxVo5PGVeDHoRn0zrje4wiYF5BqApV1O14rpxYQUo+vilut7eawJ4gsM4EevVM/Pr+6jhwT/oZ+V5Nmsc8R7DIsDVkXZ4LIvITKu2wN6sX+8WiPYWHA5JnygiGoZmiqrMfp8qJJH+qzrXWYVnQeNBlE1hUk6556UmG6WWa/qrDfLLPfKbPcLLVcKnNeqQSVkLr8uV7mvFbqSup2wDPJ4lqp43o5Flxy5w2R9otTAHjvb5wCiFDIPe973qC8Jhy5JDMBNuWOqwr7VYXzSqkzxedVBUDiWNA2u7orpfb8cnN+uflqqfWqwplfOplfNn5VYb+usN5QuK5K7VdLrddlqj8bVA1G76gX2aKwANnmR+ZV1GryP6sYbFLOu1ZQq3r2nzpdhXJNt4zGA2DAcSwh1woadPoL31i5XdOaFWTzIbsXudZRvyMqbbU2qT2WNeRagw6IbRF16ebadPPqedTtQgWN5nuCsTsC1T3J6K+12hZHUL2GqtWBR2WmyzJrftn4xVL39fKJa2LbXYXzusJ+pRRquuvzitx2WWFLEZME5wSZV+S2S6Wuy2Xua3LbdYX1qsJ+SaTGCsD+HgogYUT4XnLrMNL+YQAvA906AlgLhQatUz8qBq+J1DcU5qsK+2W581Kp64rCtXd+JFy5+/NKqTO/3JpfDjS2mR/tNxTuq1LoxFyXaf5TPVqrWxr1InMEtuWb15HNi3qskeJGjbTLZvPBCLugwSDu8qhxn8zhQ85VNO1FI9ZVafd4ldqr9aJxClnWkXYZ1etW/qgeKR/x6HFPy7KGrOuoy+EvaFTx3pmGJiOuMCgbox8OfRn1oNfatV8r1PdKDVdl5ssy680y+60y6zW56bLCcbnMfaXUuSsnbubWPcg3nDjWxKUuyKXMAU7quC7UxCmAMDEB7e/JLFtNOwjh+wB2NQElkGpsBLCtArjMG7woMeSXOi7J7fky2yWZ46LccVnuzFc4yZOEJH1ektuhGVJ2+aW2i2Wmi+WGKwrLFbnjomLiomIiv9RxWWG7JLWTLPLlhhuyoceVY380OYo650u6Foo65/9qnnhcbrxXavihxvxHvfk/dearUt3dKufvbyaKO2dYnVMv3tifNZp+b7Rcl+vvVtv/bprgds4LepZetk3/UGO+IR77ocL4vNnN75nldE//1Wz9sUb3c435j0bXL3WOhxXmW1LLVbHxhkR7r0z9Y532z2b70xrr3XLrZYXtgtyWX+q4Uuq8JnNelTquyB24wKk+4/G2K1YBnzLrZYXjgsJ1QeG4LLNeUVjyZZZ8sfq+dKiyz+lZDtGUcWgCSiD0L+V1GwXgDQSG7TM/lY5cEaguS4yX5NaLcuBE4ggVxdNPUj/oDJkjdXdRYb9YZrlYZroit12RO+P40XFF5r6iGL9U6sqXG65LBx+Wj/z2yvaizVPSvVjSvfjszdT3leb7ZcYnteZfGk0/1ZmuSXR3y+2/vXYVd86wez2Fra7nDabfqk23y80PGyeet02x++ZLehd+a5m4U2XNF6ue1ln+fjvO6p0r6Zn9vWX8UbXxTqn6Tqn61yb3by1Tv7Uu/ta6+Gvz9A919gflhlsyPXSn5M7LCscVue263HRdbrqisFxW2C4rUuVEAhnPj6n4L2J+v1LqxHnZLsmtl8W2KwLVD/K+NtOMF47WDME+Dgrfu7V/RPjxFMAl/uB5if5iqfOCzH5BbrsgszNkx3iSBtKkKbdfStldVFjPl+rOl+quSE1XJPYLMvc5ufu83HYe53tB5jwnd+dJLecl6nzJyDWp+qbCcE2mv64wX5Ga8vi6XIHhgsR0RWq4KDHkSu1n5Y5Lcut1hfmaTH9FrL4iVl+V6/OkljyJ+YrIcFOsuyUFQsmXmM+JDJeE+msSww2F8XqpMV9uuCA1XBIaL4vg6wWJ5aLIfklqvyI1XZKoL0lHL0tVN0otl2XWi1LreZn5ogKE8iWZK1/qprEkB8UQ74CXkjmAx45B5s4e0MFy+3m587zceVkG+uCi1HpRqLkvHanod04vB8kEwOEcwP7x2sdNKZkCCCO0RQEAG56XY67cC/2kLv1B/Cns5xWG8wrDFakljh/t5+X281IHYc88qeWcWMXw41Wp7prcdFViOs/XneXr8yTGizL9ObHunMyRJ7XnS8zX5KZrCsMVieaaSH1Foj8ns51T2MHILNNdlhvPy8y5MmuOxJwnUF2RaG6VmW6Wmy8pzOcl+gti/UWJ7qJEd0FqOCezngPKN+dLjZfEhotiU74U+Ai4Q2oB6SE1XJKZ8mWWpEy3U2BMp+7MhsxXIvrySwFXFxXWiwp7vgQUwPey/lbj9IYCiHyuCmDTJDDsOIF5a3AxE1A+b+CcyHBebj8nsZ6X2s5LbdBmMhsQgdxO/Ds8SZRUnzJznlyTJ9dcEpsuiaznJM5cqT1HZs2VWSAvqeusbPys3JUnt+VKjblCzVme6pxQe15svCABsZ4rseRiz1mRMUfmzJY6ciWWc1LTebHxvEh3XqS7IDFdkEFFLgjUF/hj+Tz9JaE5X+zIlzovSoHI8oT6XLHpnMR5Xuq6ILbmiS1n5ZBpnnTignz8gtx2TmrIlepzpcY8qT1Par8gsVyQmC7K9BfklnNSV57EjcOtedJEtwOKtn7aDrGARhm0Qp7MlSu1X5Ra82WWc1LLBYH6vnSkvM8RrwDw7fDbLgP9uFLtMLeUMbBFAUQpshM4OGyf/VExfJmvzBfpz4MEdOTJHFuJh/Bm0nD4hFk41afMmifT5cl0l0SWSyI75kcn5kcr0LnEmSN1E37Mk5nyRNpcvvqCWJ8vMefLbNA3okWENVdizpO5zkocuSLobIET6y4KdReB16x5Ytt5oemCQH9OYDwvNl+U2ECai4z5In2+AMDyRcaLYtNliRmGPiJ1vlB5QajME6guCNT5Iu0Vif6qzHxRbCLMCPwIftM5qemc1IJVBS2ytsPJh4TnSa3nZNAtBsaUmS/IbRfF1st8ZTIFEN1hWXbK9EED7tsIYIsCCEVjCsC5AHMA57n9OUIddKixQCRCFuQslnHM63aePLEldZcrMZ+VaXOl2gsic77Qlid2nJXYsqWWbNwvOCuxZYld2bLxHPl4rsIJRCw2AydIoTC5UnuuFIR+jtiaLXVkim1ZEvtZCa2rzslsACOxnRXZ88S2fKnxitSUL7FdEDvPid25YheukSVPDrI1RzqZK5nMFTtyJbZMuTtD6s4Sj2eLHDkiS47ElC0zZ8vt2RLXWQkoiQtSwwWpLleqz5Y6siXusxLbdqhIMXxnxBI9d1biOCtxnBebL0hMuSJzLl95TzKcoAAoCo8890pZh/CfFgOYISMoDAdARGEFIa0AAuEhm+dHxfAF7ug5oRaTgQ1E6hZ624V+9syP+lyp/oLIki9w5IlAiBN+PCu1EH7MkrppfpRZL0hM58Vm6H6JTGfF1hyxPUNkzRKaM8W2TLEtR2zPxfxImJGIhbNCW67IelFsvSS1Qz9M4sgTO/IElssyx2WxNV9oviAyXxBbL0psF0Tmi0LDZQkZB8AYHTp2tDODKMAuTwJaBOPHnBvrFKbIeu8BliMxn5XifqfYkisxg8oRmi/yxhgFgFAYFDiMAD5/BRANIbRJATyrHzvH6cvi60CqCs0gAWPurNgKbRx73SePKUuqy5EYzgvN5wX2c0LQOplSU6bMkIOpKktoTxc400SuMyLHWaElT2DKEVkyBaYzQssZkTVD7DgjsqeLndkyd7bUkSWxZgmt6QLzGaElQ2TNFNsyRNZ0ITzzBKZzAlOOwJoltGcIHZkiZybfmI0pNV3iOClynxQ6MnnmTL4xTWBOF9qyhc4cIaiWTLEpQ2I6I7JmiV05Ymee2HJOrDsrVmZLtBliW6bElSOGMm91qeNnR8SaCHeRupwVGc+JDDkCYw53FBRAr2t6KUTmmsAEdKgAPq0of7/c8d7qrQpgLRgZsnmeyofPc8ZyedqzQlO2yJItsm2lqx3pZ4N/t0ZMFmLKkhpyJKbzAut5gfOcwHlWZCf8eFZsyhGZsoT2MyIH5kd7jsCYJzSek1gxm9hwf8iVKXFmS9y58oksiT1bZMkSWjMFFuIyRFZwQke2wJ7HN+bxjcCPAscZgTNTYMvjG8/zDCQwU+TMFjpz+eazPEMGH/jxjMieIXZkiJ0ZYucZkeOMALQLrrj5rBi6RGfFppgzb2XGfRRcWUJzNshAU7bQmCMy5opNeQLTec7IU2kfMQGBAsBGlS9NAUQp54KPKIAMrgYEqMCULTRnCUzEZQvN8a9M+Id4MoWGDLEuQ2zI5ZvzePZcPmidM2LDGYkmS6jOERqyhEAxJwWuk3x7JteQw9VnC82EkkAmYgWQJnJkiB2kVaD3gdUDUQDpRE+IoOTZfEumwHZGYMsQ2jPFMDLIElpP802nhNbTYnu6xIFhDJlCfabYlCO0gRNZssWmTLEpXWQ6I7BnCmzZfEO2QJ0lGj0jUqeJreliZ5YQyrzVpYgWJuJ28Nl8Q5bAAApPaMkW6HOEuiyePos9fEc8UtbjPFQA7yd1P6NYOyqAJ7KhPNZIDkedzTcQws6M8SMhmF3pZzu6ShqO+dGQITLm8ux5XEcuz54tsGJ+1MXz4ymh+5TAlsXT5/L02XwTyGgBdnxrOjgbcAp0H0GAZApMmQLQBBkiK/TMhPZMgSWbb8rmQzjmR0eW0I5DDBjedkZgBxEvgA7oGYHttNBOO7HrtGicdAfj+M6YJTSDExmzRNCrS+qS1nevgZkCU7rAeEZoyhIYMvn6LIE+W2g8yzPlsUYey758BeBaBAWQx+49w1FDP5oHLZTBN+7JZfKNqbsMgT5NqEsX6HM41rNsWw7HCn1wkSZdNJYlGDkrUOcIzFkCx2mhO13gPMsznePqM7k6TFImUqozPMNpnjGNo8tgjeVwlWf52myBHppHAADpXP0ZruYMV3Oab0kT2DL45iyePputymSrM8WWNIH5JNdwmqfN4mtyBTCFlcXXZAnGsviqTK4unaVNY6vPcLUZAv0Zvi6Da8ngmjJ4ugy+OkM4li5UnRKaT4ts6QLznvBzBjo1e0Ep5GhME1jT+KYsvi5boAUMsIYOFcBnJMQ/pCg7KoDH0sHckuFstiqLpwd6Bq7cG/2kzoyZmCzThPp0gTGHYzvLduRwbJk8M3CoUJUlGMP8aMwS2tNE4+lC+1meASZ+eSC1SceLzotnzuDoM0vGsjljOTxNDg93WTA/pnE10LnkaU8JrSeFtjSBOUOgz+Spz3A1aXzDKaH5lNCcxjec4WrSOep0rj4N934y+foMni6dqz/NM57mmk/xLGk8C1MvghZaAwmIvjERERH/3BvTbc+haXxDusBIinSGr83k67M5htyS4UfS3neGKW8EH7D2OY8AgFbx1YGY8Mh5cLA0NBKlXIu+f+pVuay+NLb6NN9ymmtO51vP8ExneIbUHUE0IaZUnqcFujS+IYNryeRYMzkWEOgCbZpAmSkYy+QpMzj6dK75BM92mmfPYuuz2ZoMDkjkTL4xnac9wwWugN4xz5DNVecJNGf52kyeNp2jIQVO5+oz+bozfN0Jvvkk1MWQw9PlcpQ5XCXQE9+UJjRmCPTZPGU2ZyyDq8rgq89wh7MEY6BFeNDMWQLogGfwDJk8M1YAhgyBLl2oSRPqTgpMJ/jmNP7e8JM6JgkkqByeLo0HzZHBM4Ag4GqyigfviPrLeu1TyyHY1gdNSlFRONT1Q2TRYdxPgAFaAeCz48m+MLwZeC0YGbTNPZIN5pQMneGoMTGYMLElp7ftBFyMioCFMzAj7/w8LTCk8U0ZXCvhxwyuKQ34UZ0tUOeQjhHXeJpvPc23ZnN02WxVOlt1hqtN52lPc9TpHE0m35glMGVydbk8LfAjV5PBUmWUqIFteYYzXG2OUJcp1J8UWo/j8TfIUJ4yg68+zjMc55tPCIElMwWaDL46jW84zQPRn8kDps7g6Wgk8CxneKYMXB1cF0ALyCu+JY1PUJREXu2MH4KlVJ5QHqKQeFDrDJ4ui609WzzwRNLdpp/yRnAT4tNAP0sTEBQvgvCB40RaYPILoCgcKulY8P1dp84p6T/O0p7gO0/wbMfZxlMc0ymuYas7ydEndQQyjQNRUnme4uoIZBrHROBxiCaNix1O5yTXdAp/Tefo0ji6U1wdhiRPumxpHF06R5OGATAMhJ/kGo5xjcd4puM80wmOPo2tzuJocjnqLJYygwP6I504DvQ4cI5q6HpgUo5PLY1jSONAGUjtTvJ0JyFxExQsGXL2KzCNo4PBClsN9eWY0tjmNJY+o1iZ87LnHq+zos86vhIKIFh4HEGBKLgQrEA+/H0pGADVDUdA00ey46PaERzRSK0FI322ufuygQz2yCmu4TjXTFjg/UgrFU4kPIW5DzgrzgHTpQOPaDAD0hyHXwnXaGKxABIDg9QGQwLREGzNGa42jaM7zdamcTWnuJpTPCM44H1NOpakmKGAYbE0IGy+4SfJxtedKV584EH7YQTDGstgj6SxVac5ahBEXE0We/R8Sc/34s427fRSCF/LDVIVXwywf8wYvwqI+N9vIxiF4LoymC4M4GsAsALwIWo9HA5aZ9f/qFFmFPV+W6g+wrEe44ACOM42nGDrvlB3nK37jmU4yjae4BiPsbQnS7SnWJrTLM3JYtVpluYUdsdZ6uMs7TGW9jhbdxxqqtnsoO4QzjIcZye4j4AczWnBUBgYAAAgAElEQVSW8jRLdQJqYT7Ktp5gmdOLQAHc53dU9ttc3kgAVhzA9pMoClFRuB/mS5F+h+XE+4XCRAEQfsR3SMHi7CV/qMc8d0fSd6p48EiJ/gjLcoJlPM02Hmdpk7r941DNCbYqxgK6U6ykDvMOgAHkcY6G8A7DICfY0KvDHTUQ+oTRTrE2OAs4rkR1rESFuU+Ns/sChMwpliaNpUxjKU+wNUc5hu84xuNsXRpr+GxR+w+y7g7jrBdfBoN5ELQ4Xpm9P2T+QQoABiP4B+f/RIIoCmv/g4wCiAYQ5adQ1L4Y/qdBm1PSf6RQeYRtOsYx4RYF8ff5uBMcfVKXtIQn2JpTRarTxerjJfojJfpvWOavOZavedavOaYjXON3HMN3bC12+u845u/Y9qMc21HQefH1BaF/lJMg+uNf44F39yct/AmOfnOmdDpHObrvuJojPN3XPPPXXPvXXOd3XMcJti6rePAGr1vR67QvIT9exUuojOka7A/RHaZy4BjA17JGqU38iHfnrIaj/Y6lB/LBM6zBYyygzxMswymW7uRe6D8pUe0SyIkX6FgoswwnGEf3BYkoB+l/lKMDKsXS8AjHTNx3HPM3JYYjbBPutRiPsfRHS3THWFpC/MfZumMsPdPl2qU8m5hxd/466NSOcgxHuaZvebav+K6v+K5vuObjLGVWcfcjaW+rYWEpAh0xkPvRMBnJ7RcFvacCiEn+BAUQIgQXpoecIUQFIxSyzgf/rlNmF3V+VzD4XbH6WInmu6KxoyWaIyzN1ud3xepvS9Rbn1shP2HIsRLN6WL16WL1iWLNd8W6r0sMX7HNX3FN4Dj6r1nab0q03xRrvi3RflusO1JiPlJi/pal/5alY9wRli7eHS3RbXHJ8ZO01kdLAJOpuyMszf/jKP8vR/0/HN3/sE3/y7F+XWI6WqxOf9F7k9+j6HUTBRDG4zgyFbBfBHeYzkfBwCYFQPMjVgDeENVvW3wg6Usr7DlarDzG0p8oVh0rHDt2kPy4DWVimi/SflesPVoMLH+0WPldifK7ktHvSpRHWBrCLBtsUqL/lmX8psTwDct4hGX5lmX8tlj3bYn2aInmGAsS+bZE+10xsBUoNjaEfFOs2hd+2ab8e+C4nVM4wtJ9U6L7im38X471fzj2/+XY/x/L9F3RSNqL9gfi7nfGhcUIClAoHMbSH5vysEloH0hp/xQA5UfRQBRPF9J3FkfDiApFKGSbDf1VM5z94u3RZx3HiwZPFg2dKB76rkT5TQm0WcLzm2LN18Warc+tkJ8wBMiuSHe0SHu8SH28SHm8cORo4dC3L4e+KRz6plj1Na7CV0XqI0XAWscLR44XKb8t0X7N0jHumxJocuxoDIC22OwSMLNDfRMipvCq/Jo1/BV7+CvW2NcsKBgU9UV/2rPWOzAH4HatgCkvgi3JQGqH5p994LWPmQStABh+xKocTEDeEDVgnbsnbE979vbYi/6TxWNpRcMni4aOFI5+VaT+ukid8NzKiSRkB2rcSrc7EOSRImD2I0Wqb4pVR4rHvmEcCzqCR4tHjxePnCwawm7kRNHo0WL1kSLN14XgvinSHimC3uSRwtFvi3VfF2u/KdLjpxZ4sFDzVZE6aTl3KM8n+gSy4pti1Vcl2v9bov+qWP91kfLoy/6M5y2PxO1txnkvlqsURe6EjOATl/eHnN5TAZDMmXEAFCipAohEqAhyzAVf1gxdKHh1+q/Xp5+3niloTX/RfvJlz/GXfV+oO1Y4cOQ5uOPPB0696Et/0Zv2oiutoOf0y94TBf3HXhDXe7KgM62gLb2gJa3g3fHCnqOFA8fA9ZHn8ZcDTPVPvuwj7jj2MOGpe5gUUvP0nCxsP1nYeryw60RR74nC/lMves7805r9V8MDdlNVt8m1FAniYRy5ECBKq/T9obnDVA4eA9sqgPUQNeKYeypuzXn26vQ/79ILurIKOjJedJws6D72onerS50Cd4bcgSwxzfccL+w5+bLreCHj4PXUi670gs4zBe2ZBa2ZBa1nCtrTn3ecet5x4nnPsRf9J4pGjhePHisa+e7l0LGXQ8exO/ZiELv+E4XQ19yuVDuU51N86kl70XnqZefJlz2kCU686Ex//u7ss/ofhC0d2skVvAkMkw1ey0WG5vtBRh+kAOIKQIECgOUiuNtIPlAUikSC/sjkQkD6Zuyp4N11Vstl1ttr7OZrJU3XOW+TumvslqQuKfA+BibN9Bq7JWkWVzmtF7idOSUdWS/agDSft5990ZNf0n+dO3KV1X+d1XOT3XmT3Xab3XKL/eomu+4aq/4GG6p8g/32BvsNed5ivb3FeoNfmSfg5AY7OWaSlmQjkNVyPZnDeZF8N563WG/usJvvsJtvsd5eL3l3g9V2q6TtdnHzg6K6AsW7liHj9PI6VgCx5byHGiCO1r8AL1kFBHP4DD9SKBpC0bDX59e5515Ud9/nvb3Gar1a3Ha95N3Nkpb3pLptuHiDLGMAN1itiQ54gab2G+w31zlvMI80Xec03WA3Eb64zm7Fru0Gq/UW6+1t1puHnJb7nJb73PZbvM5L3L4c9sDJkuGTL3sy/mo6/6zpSlHrdXYbcTc4bTe57XQKsWLggpG8NtghKY98zEDgR9arO6zGm6zX11kgAK+zWm6zXj0sqeVUtw8bJ5b9FOwEwEvt95f89k8BwGpx+vgHWj9hBUAFImt+1DnmlL9Tc5pGi1+NFjcMlDT0cep7vlxX0tD3T03PD/K2W+ymi89fnfun+WJB623OwFOxsrjRUdJo5r7S8l6N8l4PcV51sV+1sRpbufUd3PoOfl0Sx63rIu5DEMKt60nd8eu6JI09ovoefm0fp6afUzfIrR8S1g+JG3obO0Z09vHVYBAvAQrDWlAUxlsB9pfwDlM7YAxgJkxUACgUCAQmFrx1PVpBi5LVqCxsGC2pH2Y3DHLqkrMkt6E3qdsrrXLr+ja7GLnS6XdzG7q5DZ0x1405oodVP1BSP1hSP1xSP8iqG+TUDQgaB4WvhriNIwW1Qz8q+q/zu7OK2jKevb79ou4XbuOLsk5O3QCvYYhbP8iu7WXX9m6pVxenHlzqzPIRIPl1XeL6dlFdG7+ug1vXxanv4Tb08ht6xI1dbwfUzumFUBiB/YcCmwteb79vxLN/CgDWHMOsIRiOSfEofBZomFr1+h1TyyOWqW6tq11t71Bbu1XmPqWhf0y31Q0o9cRt/fQ5hPSNavtGtb1j2rZhdfnb7qKy5l8Erx4Wv7r+rPF6wZt7RW0vagzSd46mkZkunadH5+7Rmno02j6NZlCtHRxTD46qhpWaYaVmcFQFfpV2SKnpH1H1jmggZaWhe0zXPWroUeq3w8++IGFwTDc0qhka1Q2OGgbGLP1KW/+Yo19pG1RZrK7Jqdm5Nd9qBGt0ogAON4LtG8N9xIQIM8b4MYxHAKFIOLiwsmYaX+gzTLSrXO0qV7fK1adxHCi9YaI19I9tdbqeUU2fUtev0veOafuUugG1YVBj7Ffp+1XGPqWpT2nqV5n7lZY+laVrzNY55ujSTrwbG6/sMhfW9D3mNt54UXmzqO4pt7FAUFNe+661W9k3YuofNQ8owfWPmeIyjZM2Ss2+8NF+JTI4phkdU42MKofG1P1juj6loU9lHlCbhtRGm3tqYXE5HAzBcA5GdCBew7AvbH9+8QqASdHr9f6fvV4IA6tTYTNYnAKAyUMKUVQkEFxeWZ9ZWJmYW5mYX5qaW5qeW/TMzs8m+3k2/2Ziv2SwEDa3x997pxMf0TM3OzE1qTOZOwfGat8NiGq7n0nf/cx78wPnzQ+clr9knZI3qndKl8q16Jhfm1r2epaW5hbm52ZnZj3Ts57J+ZmYm5uem53yeKahIgvzM/MLU/Pz0/NLnsWVGc/cZkzQb/HF+BC/Z2bKMzM1O+PxzCzMeBZnZpanZ6FdFhaXvWsrobAPC/0wmXw6nAVmeONL8WyW/gjaEUxAIRQJ+v3++ZX1iYU195zX7VmZ8CxNeua348cPobHNcedngeXj3axnDsh+bmF+dn5uZtYzM+uZmvXMeOampj1T0+DBRD/nmV30zK9OLwcnV9CgbbGm1/KisusHXv33xZW/cCpfKl5Ja9+96xhUjumcjsmpybmZ6XnPzAIQ9jST3eayfGZvc7MzRCZ4ZqZmZmamZ2anZhem5xZn5hcWF5f9fj+e9d2w/hNFsC+kuG8KgCG4WI8DDwSwAkBUJBIOhvEvEoE+SDgUCIVCwVBkqwtHouFINBSmElwgGE7qtqZwoCFMGYLB8Orq+uzsvMM+rtKa2vvGqlq6BXXtv/BqHrOqH7Nr/yptVbRqeowe+yLljaAg3lJFakdRMJaLRELBoD+EUQG4iUT94ehaMLIWpHzhJBggCNmf2oVDoYg/RPlCEX+YiuBS4evDI9FwOEwvNiAGR7IE6HAV0L5w28dKJAkzxikAKhIidBiB7hkFr9vz4/7QWygSCkZDwWgwRNwmxveFwr5QOBChglTUT1GBCApggzcVCYWCfgp3d9cjyObxd+mnOa9GfhK/u1NY9T23rqSipba1r39EZTRZ3OPT8wtenz8SDKFQmBAzePar/AeaTigUoohgDIdDYcBAkAIXiqJwmPAeTOHARtt96/rTtLjPCgCfHhMjcygrPoYcrwfFW4VhYSiKBKIh0GnMIqKdPUCjWGImBYtlBv/jAeLD4/3xMPH+eJjt/PHwMC0aRlQw5F/1Li8tTE1NaM3m7jFVTUc/r+7dL7yqBy9LnxTXvCjrrOlxDlm8s2toLQy75GCzdASFwlSCGgfrHjQybnWMuE3Z7fNLJIy5I4xCFNzZE42d/ENXHedGlgHh3j++XWQ7tByGf24YYBRATFzgyXyyhwioDFgPygx+PDKggqnz4/tRIqwkJtcZbo5PBASRG8R+QHqQVCQERULQc5pbjyqdS2Vt6j+kLY+Kq5+y6/6UvZE197cN69Rm28TU5PLSgs8XCIcpqBBsmMKVg3OsNsmEzTl/bm+0jYcMuvHJ/3HWFERFqSA+aWGf+2L7pgBIf3ELJ+Bmh8bH9aJJMLadYddXKgQKg7hdgT8qAAWNgysXDlPBcGgtuD63POuacuqtxgG16lVHj7j27V/ipu/ZzU+5nb+KuyvejQ3oXJ5VimzND+H5EYx9zISRINlKTSMK+msH6aCHRIWxI/xGOJA8iT4A/RR7pz1bWvcw4PPEAKMAcPEID5JbfTbEB2wrheNbgrB+D9ZwHyS9bU0cFhcQt2FmhNFIJIIHoCC4IwitRZFmal3RafpV3vGI2/yU2/hc/qb0dXfnkFpjtNjdk56FxRVf0BeCg49wFfCZNFAvXB3Gs7UAn1cItAuj/+I9NBeCzo5JHNBr+7Yuez8VQAIzMAIEX2DGaALSVPjwOEa4x3u2axgiIrc+mbhbPyUNYeATPEmBI8ENDUTgabAwSH/c0YjASI0Ko0gw7FvzL88vTE9MuYxWW7/K2Nip4dYO/Cpof1jYeL+g/A9hQ+nbkQGLZ2oN+fCBGXHmMnKWBqykAkcFtmXIhGK/3yvuW22asKEbj8w00cKfDiMNmdC6h6+fNwZijRbr+wO9AsFS0fh+JemWBbEaiPW03o+i9hQrinOknzAzEaXA8EiPS7AoXKWQedb/ethWUNV1r7juVmH1L+IWdm3vq27ViNY6PjE1Pz/r9S6DARPD4/EFNjAkCP09FeyTAYNAjxOYm/yxMTiIUDwRDEcs7xf17Z8CoCV8FI8lwaqAx5bQ82fEHFg5sMUBPm9fYfKJEUXEsyv8Rwagi4dH0aRVSAGCVHQ9GJlfWXdPLxgd06M6R2u3srxp4J/y3gf8d7cL634SNvObRt+px82zwcUwWsM3tcZQRHfWoniQnoCBnfHwPgQRjzIYLccGavgewSi5TZAM3bD4eJ8sDuN8YgzE+vUgO4ATYS4KezaTHK0e4ilif/0JaGASJwqJ6fOGEVrxRayz/lrV7N8NqlvF9Xdflv8peSV93fOmXzOks1vcMzMLK6v+kA/mEPHJaCgUjvhhTi0KkhEbgWjxwhg2mewYT0J5PvErXSxiD4s9wWS20esna4AIosK0lWsfSr2/CgAXEo9WiAIgy8gJqTGop7BogSfWaAlPQqYJT9AieEpk65NAMqmFojQkE5KQ/l7DyWb6pLFIQ5HxDbHgg8kSD8/CUbTqCy8tr83OztuttmGlqbrHzGkx/FHe94TXdPtl5WN2Le/1SJt22r6C5oL0gCAEVktGkQK7bnW0GsCGTuKnh9A4BG4LjXOk7kwIMY+Szb3AIiQr2kNqA1qbTENEUZiCGQJ4xYapfet07APZHiaREgZiGh2fHkM4hVALoSvS5CSlpBS+He8wFEVikTQZOmS+4vuIY9QD9Ak/yBTzfnysMILDB1coNLGCunXTohbVA/67ayVND7mvimt7GrpVfUqD0ebyzM6veNd8/iCwOe7zY+IkpiQI2So3ktaLKeFn4gGWpOdjiOCMPYmMjEYomAoPk1DSdrHZnZToYAeg3RVAPATxJ02OmVJhvjISf2tZ4RMITkgv4cnMJZBYzHMrJAnZCr8d5H6H0zVm6ks8ZJQN/Ro4vIny+XxLS0szngWT29OvdzX0asVNQ3+Xtj/kwsa/h/w3xa81TWqPfRmtYSmL5TKMZOEKb0zlpL1D0LsJE+USs0rhYRTefBEi9iiC8Rgb4FlqWoXQTUAAGLkf30J0XFr9xJRD/GtCRVN9JWhKFfrzg/vCy8+0IGA2ocETkM3w2laeSgjBadHqg9ErdD8vLo8oFs9k4UMkHJtmwCuPCFQE2wPCUVgcMR9Cwy6fsM3yWNxzs7jpB05dSXlzVetQ+4heZXaNz8wvr6z6fL7NcobUDvRUQgl3rktCxT+LVygx4ejNz82FY7C7Ofj93+LFO5PKpn0A8RC7KgAmiU/o2ZljGQJK8GxX4ASwhNftYjHhFEUFg0FQA4uw1NrmnhnWO5sGTKKWsX+qen+StN8oqH7AanhZ2fN21O2cD63DtTq0oZbp/kM/BYIJiURguwXtSCD+skFAG3zOjL0AgqYdWPqHuxs41sE/CMYOPp+DyuFLL/+B4IWRQ5jqmDEnnRceU0axcI+NH3EQFaKCAeYgMzK2DiC0Ekb6qfXyds1P/KZbL+seCrv+qR4qbxlsHxhVmxzOSc/s4sqqPxDBywZx9A3DSFxP5UAq+q9PNF68M5V9TwXAxP+0np05lnzd+txrmXfVhZsBKBT2o0gg5Fudm5tzuKe1tqmOEVPFu5Gi0nffF1fe/EvyuKj6ZWVPVa99eCLiiaB1GBDABTsgxJluHO7pk649GUFDLni2BbYHYjsvrRMYFt08OGAUwV7r+97wOzfHeyf70SJ+6eU/CESRXj/pXuCBK74+DowYdD8DI43QKR0Yil/CjldAByNowY9UE+u1Q+7fSntuFFTfeVHxt/RNRfPA294xtcVtn5xb8AbWghQxq5KKxNiKsMRBVO6/K02CzxhW6bq/jwL4fNC2M8eSr1uf+1h+PNdN712IJUuO4gqgcCCwurS+suhdXpmantNbXP1KS327kl3Z8TO/8daLqptF9b9XjSp6nQbP6uy630+s77jLDsNc3Nci9/wFsW6A9Mmx24y2IFniLhdt5Y8xC5lwi5+WjxVvn//H09POzbHPGR9Acl96+Q8AJSDn6f4HpB6b74ORJV6GT9MpNs3D3uMQCsMhMTAjSCFfGDwBhKyz/qYh65/y1nvFdTcKqv8jeStpHn7br9XoLROT0575laW1gB/voCT3GRC2ilUnRtOx98P/74eBT6YAtorgnTktdfjtIN8v/L3RGi8EIRF6RQLmFiqIQj6/d2lpbtbpmNAaXZ2j5oo25cuq7qf85lvFDbde1hWU9zX02k1TPthFHOM3MhsL3axoFKaF8Goqhhs3S/YYW8L4gOZMRgHEbgh5v8rtFItBMgNEQpjXL87zpZf/IBCORwBghYTEmeEpHnvi82CwgTIaRuEACvtQeBWFfPgwCqDkdYTGfajNuFjUOPaQ03SnsOopq4pd3tTSM6rUmYxWx/j07NKa3xeiO/5g7omCytnuR0Yd2309DN8ZAwerABKFYFxZGEmR4IkD2eRNAGNeNwHhF+bTgXq25gt98diP+coExAbHpIiwbSAa9EWDvjXv6vzCinV8bsjoejdirezUldT1/y5+d+9ZzfdFDS9kb6s7xkYd09O+8CpeKRG7bQ2hSBjv4QUbESP645iBorcUkOW4sDSLZqT9XUXA1DS++vHtTjAQD/Zl+b/08h8MtqkodOJDkHicAsDDzlAErx+LRMjRBWEYAURhCBBAyONDfaYFduPwI27z7ZLGR7zXrPq+qtahvlGt2WKbmZlaXV1ZCwTXg3C3IDExMQt1tqsIZLqDftgu2mE4xsABKoBPxTk750u+bn1uRw9bIbdLn4QnPbWCdL1DZBU2XmXJkGwkAguY/YHIond9yrNodkwOKfVve0Yrmgf+Eb26/qfk2p+KnyWtik7TkH3JvRhaWAsF8ERxHN3j9cIkD+BGKAjZbhE76QFGCtDScfMBeEkoKXJKz+3wEx8enxATTgITXuMhEwAYSOLZCrkzfEL0D3/9yNl9eIH3N4Vt8B+JdS/A3EMvL8bzS3jDagghPwX3A8LpkOEoWvEjzzpSulalLeqHRTVXfpc9Zdfx6ntrO0a7RvQG+4Rn0bu06oOjfOj5rjBOjKQcZXiKqRrTnSJcwHATA7Dvnm3w8MVrnoNSAAy+9r0ldk1wZ45lCpbg2S7ZBDDmNQF+u3AGjJk3I7110sEh87YgmSkUCYX9vjXv4sLMhMvhcMBG4j6N4NXQH7K2e0WN917W/yntkDarhq3zjjn/ShjWTYew/RUGABTesRwhq4OgLMREy+y1h0E0GQLQx/PRZ4szxd7Vw1RkO09CCgwYCU94TQAmVMjAxHu2QiYkGA98EP6PnN1BVOFD0kyKf/pwSnI5LT3vG/tH1rPD9hEqiGBx8/gaUk1SpW36fxTtD19WPmXVFCha5M197YMarck26Zmfm19cXvP7w5AcluyhKETdad8JowB2HR98SN3j4ybFww50Gx/3c/bvrgBI6ZPCfYYVS2inrSVM2mZJA7fGjQ9JGiVpIMSCjkps7SY2aNK7YGIr/YGg4aqHEBX0hdZX1lZX7NPzatdMj9ryukslbeh7Lmt7VPL68j/VP8l6BK3GbvuSey26tnEmSJg+0QX2wYO1B/bg4KFGCO8noDsqMF3sR9E1BDvPoJO19ccgMOETE57gibf8JETZ+ZWkszNM6okzpdo1wUOAD8cA0DmRwZAW2W6Gj9+JBFEYLJMUBeb+JYT0S6hiePLXqqHrha/uFDX8KXpd9qqzs29Eo9G5XOPzC0trgbAvBPNZmEQhKdIdipmWEgvLiP4ETyLc4XtqGCAiK/6JENq0CoikkwCRWuKfDIqUNmn2ST8lDUwanQlMGiVpII5CQX8oEsRLNvGUbGxel7F1xsBCKBwIhwKrgcicNzQxvWiyTwypra971IJXQ/9U9d8qbrjDavxZ+obfPNiudtrn1lZCIMvDFMwQYzs/5s2YaoGdxQyvoBCKruNu2S4KgKkm42EkbIKHAKQozZnUGMkeH5LUn3rKqUMmzegwMHUMbGwmBytPgIr48fwUjEjB+IjQOoVMM+H6Aec/Vb33eK+uF9X+Ud5XUj9c36UZ1Tnc7okFz4zPuxIOBcjpb9hwRHeKsPUSekxJBwEMLSd4Ui/8IWQ8BojIin9+YQpge5kbX82N6dmk8EkDN8Xf8pI0StJAHDV+TQ5elhMb4TLydFMOmPijYRQMRFfWAzOLi+Zx95BO2zairGjtL6x895hdf7Og+jG3ubh+tFk9o57xLYRhuA33MmM9AP0pchwuHPoexQuB4Lw5KhKIUoEdhtjbV2FTARNektciAWjza4ryek/l2RPw5uIcvu0FA1Q0Shb2gxgm3fZwCEVWo2gugiwLqE27wm3Q/sB587Co6g9ZvbCx9XX3SN+Y2TS+NL0SXvSj9VAUr2ELo2gAHD4wItZ9wRsfaQWwoQbiJf5eynoIuxMGCMvEP788BZCKKGEkVFIZkTRwJ7Rhi81WgN3TAcFMaHrzEx+gRJYz0OYa3B+KRuD6t0DIv7K66JmdcI3bVXpT+6BG/gbOk3jAbrpR1PhI2PZPzUDjkFPl9i6EYZkd9MfIrjBYox07GheOmN5a5H0LSaUV4jPbK3x83EP/J8QAEDndpaBQOBKGg3nA4LOMkH0NtZmXxB22n0TddwsaHhfVFpe/aeweGNHrLBbL9LRnaS20EkLeMPLhbgkeEGMFEKXPm4pJ+c3cgWsb+3SgVPwJ8fppsiYiK/55qABSaomksj5pIO6Lb1qsCRkQTQBrNGMOG3Ji6oGcjuUH8U2OgQhFw76I3+tb8Mw67Q6l1tA+pFK0Dv9V2XlX0HaD/fYx583Lyr6GfqdmwjcbAB2Adw9E8LlbsCGfosK05ZZ0tFKq5R6A9irQ9wq/h6Icgh4kBuiGw0aaCF7sGUBoJoj67MvSLtv34s4H/LangrfPKjpKW/o6BseMRuP0uHt1xRsIBKhwJBKBG+jImgiyhgdzDcMFzKk+G31/UptkCiBeTxxknf+9aceLfkZ8fUlzAEyhd24jQrXbCZ0UE4nPImmUpIFE2tMGztjqZpwUJl+iALD0x6dAk3NOyGZJX+ygdqwXyNmqFAquri7OTrsnxlVWd8uIRdyqKWoc+0XU/rCw4cGLqmfytw19evX4wtRqeCkUoY/iQigCW8dg5wCcj7jH+yS2q1cCQrZDbzwY498TMBOLeD4kbkJSh697xQCsVoiiYARINoDQfBCp3PPV3bq/FG13CusesF79Lm8TvR1pVZp1zolJz+za8krE5wsHoQuCV6zhPg3uAhGmiI1LsZkUm0YxvaWsAMiSt1gqe63Ofzk8Ye345xc2AkjafjsIrKSfkgYmTewvxZAAACAASURBVJkJTBolaSCJQo+bSdcfBxEpRtY4k+PZ4g80xyAUdNvJVXDRCIJTYSm/PxgIhAJByucPr6ysTk5OG/WGwTFdZbuqpH7wN+mb79m1T0qq/5I0V3bqhh3LjqXoQhBPDNBZx44Ijk1CMDXazpO6tE0dEpQi/m2X6Q7hJOJ7R98h5cNPWzGQQNIE7SGEVhGaDKLR8bXqHvM/is6nJfW/cBsKFM2VbQNvB8ZGjWb7xMTM/MLqWiAYwifjRqKRKBV/rRW59CK+X0/8hDZiQ2EoUVIYXNTY1NoBmze3ouVfE0LaN/75ZSuAeOmQQLukzVIP3LmN95wOXrHMxKIX5RNrKiZxsu+RPDf3ZhiRTY5nB2sSFUWhYDTsD4S8S/7Ziblxp9423q6yVHeM8Rt6fhO/vv+y4mFx/W/S9so+Z691xeVFyxEwvIK9dsPWBFXcnBd5j42s8RCdFrUAl9gpS0ARg/yE8KSvdLJJv20fyGTBeLaH/a/+wthYNto3QY7S6NlpuX1MFtOg9Hk+eBGxaSnSrJ0squ1/yn71qLDud36TuKG3qWd0UK21OaxLi7O+9ZWgPwDb1WOjXiZ/vFkROjSYoiDxJKWNIzYmIuOJNS1mDXrvWCzs8P9eMEAkUvwzUQHEf2PkVypZvB+Hp5JyKjCMgEjRw6TJwJMQ5pV4toJtBSAh+Cp7vCsXL3FOAGNeNxLEvg12ZT6AJyaRyXYBBoiitw5QgbW1hcm5KafFZu1T6mq7VOyGwZ+lHXfYzTdLmn+U9/DbjB3mZfsKWsZnrzNqhmE8eqcYcBi+VXXj5svYim/Yx4Dnk5mjqTHfkp04ZC8o6CVIiPD2pgrs18tWvO1Xyv+mdMisLKwHiwlf3Ism48zYkyYqcpg+LE0ml2kRIUv2jgNOoEGhpUN45nYdIftiuMvoKarv/0kMV7T/h9fIqeqsaxvrV5lNNuf8/Pza8kLYvwaLnvElj7EEdkEwQ9S7wCV+hpIf/t4bA/HinUlk0xxAPMR/gwIgvR6mpozEYUIImuLDP8TPID1FD8mLASb3aEdDfhT2It/C2sr8pGdW55jp0Lgqeky8t9q/q/sfcZtvPK/4ntcgaB7p0E9bFsILZOsAggFBkIoGKbDqbtIBsJ8TsxYZBMDUQZwCiNcBzEkA2EPrgIPcm5+AAQYVhx4GA6SrTs6LpcUj03lmPBu9ik0Du3CYikRwpCiCWSMEoj8YASviXBANWOf4jYPfc+ofFNf8wG8srOiobB/rVFq0tomp2YW1tbXg+hoVWI9tecGGPjKqZAp36PmcMBAv3ply/RsUAFOZ9/ZsFeupJLU11v4KrKSpkemzIEKBCFoNhBe86+Mz8zqre1hnfd0xKG9sL5Q1/satelpU8ZOgkd+iatVNTy6FvX6KXDrGyAS4xSwCt1qSayHJjDGpdVy+zHAEezb3v5ikUsHVe8MkKOP3TuffG5GYDcnaStzH36ZhmGAs9hmVjwcOuHkjeFWxJ4CGnXPyVuWv4jcPixsfFNW9LG9XtAy3qRxq55zTszy7tLruC0TC+EgSZmEbPoCEZPHvRfWXXbNDBUC331aZkiDKU2znOEG5kfLWxFNMLUUwwqU+vPQTDKsUFfCvry7NL85OO+xWjVbf0a+sbukrLn/7lFN9t6j6YUktt7qrbdjqWgiuR+GicPpUIsz45HhRcnU4Fu/EkBXXkWPEBnze6D+SYGJfSrHkh2AHgwEKb7Dy4WXEGzcmMu3GZMqE0HqcvFNAB1QEdmd5I0gzuVLWofpF1Hj3ZdkTTl1BZa/sraZ11DZiHrdOLU0vri2vB0NhPJdADgKiF7YB2ZAjCve46Iwp3aHnwDFwqABoFG+V0YwC2FMjfBwFkFC2CF6QR2y+RGQD50d8KLgW8i4teGYsVvuQ2vh2UFf2brigtBU2Er+of8JvLa4bah5ymCZXVv20KZU+eTFmO8YniFKRSOwA0niBQWw+oBeIAQnWlzKOmd/bE/YOgfcHA3Dokw9Ra2QfCdHoiWsuY3Y80qSgx7EPjmeIwoLNhRAyz4cah9zPK/puFdTeK274Q/aO/6r/9YBh1DJuGZ+anltcXfMFgmHMO7gfQIVgogimHmDBz6EC2J/WPMhUDhXAttjdKsq3BY37sDXW1pA48Pf0MgqA9mCeg7M/YSqPAv6F80H9iPJTgTUK7iT2eRaWzeOzwyb3uyFjebvmec3wY0HbzYLqh0U1xZWdzYNm0+TKgg/YlxbysOqUCA3SuYv19fFnsoWHOdkU6wCyTyGElRG91vs9qxcXbatijvt46N0OA2QHOD1pT6b6yWqcTeMzuqWhyWHmHluAgniRj3lhrWHIVFjbe6eg6n7xq9+knbxXyroefZfKanRNeZaWVldX4J53sqIsCud3RqlgLIQeFDLJH+SU0HYYOAxPCQOHCiAJmvZFZO9LIkkKt20QMfsS3oszy0SjFIVCYSoQDK/7QnPzyxaHe1Rjah3UV7erS+r6n/KbL/xVcelZ9bOa4ddqmCJe9JOjGcN42Q8+4YvsISap4lUhsfPg6SWleIzP2J0DWAfssr5w23ps/vDR0bg5+y/zjUj8uHvfiG6GjjkzGqDNMgBKLp9G/ihaDMPpzV1Wb1HjyN2Suiv/lP4oaOI1DLzqM3SrzHrb+NyS1+8P+tZXo2EfPlkW9zqw9I91EEDaJzpCUF8mMv/dpT5UAIntS/epP4xkmUT2vQO7jUDEazdhmWZsmyUxv+I+HTHQQD2paMDn93lXVle8E5OeMaOjddhU1WMobBh+yG+59rL2dmHdH/K3NV1q85R3LW4FNyRDm3exFxuI4Ljp+IWGZDk3YwUGm8I+/BhM7kNa/zVJkGWgm26NhlU8cOYaLO2h++3Y6AdDORDYPoSm/GjU5ZW2ah9zm689q3rCbymq7S9vV7WPmgwO97RnZnlpIbi+BvNF0MohPMQMknPcsM0HQonoJ2vI6HkFbA76r8H9F1bRfVAAjEjamVcZMIIhBjghfK/4S0iHeWXSYUJ29mwHz4QTD5NIfDgTuFXcx38i/viIO/iZiDvAbP3ExGJKwng2emVYIfgC/qVV79TMtNFqG1TrmnvHhA1dv0nf3HpZe6Wg+hG/VdxhG3IF3F60FoK9PHgyAFaNMgxPrPwwNiDmYzxzSN9Es0X4MwXbrsxbww9D3hsD9AgAT8gQKYyVNemtB1A0RKzzYbxqYD2MplfR6KRf0q57xKq78Y/iCfvVy8q+6g5dp9JmsE9Me2b8a0vR4CoK+2EIQcv1jVFFgomJ2WUSGxPEGRLfu0qHEQ8GA/9+BcCs62dkUFJPPHrjAeLDiZ98jQ9PBX5rrPgUtvr3DI/H3SDbY0dfx9gvzihEd88g7QgVCIXX19cXFucmJiccZqule0Rd3THyorr7B1Hrbdab+7zWP0r7pO8MQ9Zljx958RUf2OgP15fRnUgYc5BRBsmefiYdPm1Xo+3Ct+LkMCR1DMAKX9zcZLaGLA3Ax4DDxEAIDhOBEYEniMZcwYbhqd9lHY+5jY9YdX/J30nfjLwdtqgtE+7J2bm5uXXvAgquwpoCuNCCWdFDmxkZ6U/EfPy+X0yB+JQ3PC2ceuEPIT8aBj6ZAkiQywdaYSJiUhc0u8JvdKtxuVOBT4iya323g4/Pi/HjS4EZqUzrgE0KgMiC2LodbK2B/iAVDYTCPn9gddm7NDXtMdndQ1pLc49KVN/1h6DpbkHVrYLaH6W9nGbDgMPnXIYTYAIItgVB8WC1XwBRseN8KehXQqcSryuNDf83VTRppUgtNsHFTgpKCp8AefiaDANkOzesyYFFAbE1XWC4CQVA/eN2dCyhV6NTf5QP3ixofFTy6ndxi6Cx93W/esRgsrmc8wsz62vLoSDeLUK6DnROIOrxtD+oGCLxGbPSoQJI1hyfbxhhsQRG29tGsHgGjvcTEc9UPeHTruEMwL54SO4J9dwh5YOGZ7JmMkrwMAAJngSwjdc4Jiem2GQRsY0Wf6CicE4oWcEZilKhCAwHlpeXZ2Zm7Y7xMY21pU8neTX4u7T9Pqv59svXvwjaxK/VPbpF1yJaDUJMkCIhfGA1XOgBLgr3AcJ1rn5YGJrqb6MKyXzbpZJ6U26Xwr86nILeegTvAwA9De0RwieDBxEcx++cD3RpJ3gNA99zGu8WNnzPfcNvGGjo1owYXJbxqZnZ6dXVuWh4DeYMMKIZsY6RRpab0aKffIp/xikLMko4NAF9vrRG+CiBmz6qAkjQEweKqoR67prXXuF3TXArQDKhR5huKyyEbA9Pm3rAvBubiyOsSD/xtkwsmRmjEN2DI9bcYAT5w9FAMLy8sjo9M291TStN7tZBfemr3mJF29PCxkfPG3/lvJU2jvWopu3TgWUfDOyDVDSM4NaBMAqGYCdyIAwuiOcMklchIXS7GpHwBGDmlYnFhBx64jFAK2BonAAK+lA4REVBS4+voTbjYnH96EN2492Cip859aL6npY+Tb9SY7Y7FhYW1lfXIgE4xgcm/vGED1HvZMkvZAH0BZM8m6gr7jW+GNhPG4u2hB8GfHoM7L8CiK9TvADdmZ/jY31W/vgqpFKwPcHvCXgH6R93peoGsyXwJ4kepwBwbWJrOpkuHjEZ+/zBpWXv9NyizTUxota/61FWvNUUyDsfF1Q9fFb2H04jv7avVeU2z4cWovQdZOT+GQpE/zoV9eEipYKwRJWWUpzNijDFKP89YIxlBo5+DYcRHh16VtGgZYH3SvmzpP3mi9qHxfUvytqq20b7lCa92TY7N7XuXaCwqoDjm/HcfjCEh3mgBsBDKxVyutt22Ex96LddCofhHxEDRAQlCKIPGgHEFz4+3S9XAcTXIr52Sf2pVzN1SJLRbvBMvz7moY9kib3GikuvCiXr/4jgB5bGc7mICofDZA1fIBJeDwZW1tem52csLtegztI8qC5t6Suqav1JUH+vpOp7Ucuz2sG3Zu/YTHTCj7z4Gnp8MAReV443gsby3On/bvVKHpfEer+4yVP8V4VSobAvEgXZ70fIE0LKKUrRaftV0vGE3fQzr+ml/F1p80D7oFZtcjgnZ+YW5v0+2DBIRUL0Le0b2Ig7cx92GcKUAgh5+IuRFhkTkGOZaUKC+PFdkI30Dn2fEwYOUAEkMGfC6+eEhJ3KwgianYDivqUInyIYk/Cu8ITZ4ngydsceWagT2/dPzvfd2KtD7haAg4DD+LxPckQ7fA9SkTAVAlty2Le0tji1NG+Znh6xOt6pjIrOsYKazieC17dL6m4UVD+v7G8andRPhua8KID7ijAXDHICDgNgqpDUg9VQnMyIFxuxCPFyhEmOQQjxxGC/nP9MrTYVecv62U1fyUtM7OKdFiQZZgBHIMhpoD6E5kNIPxep6LU95bfcfF7zhN30XNEuez3UOWTWWSdcE57ZuYX19fUoFY6GgswST3oVP3T6CWHErpWOwoWOmxQANF0Y9x7wE+BJ8aAgTBWZVktSm8OgT4qB3RUAKR4DxzDeBxb7S+XbD6z2luip4yF1SJxJnJiI479Y88XKwfAo0RDk+EYstUkkDB+JRMO+sH856JtZWbZOe1T2iU6NpbpjhFfb/rug9klR6dPC8qLyrsYB14graPfChlLQIXCuBG0sBqlBkoV9SFA2uE42AscN4yWlODdSGKbgsbDYmlN61pEuMi5ZrBoH+H+PaE+tJAzaaXEJdabA8gIbtRhHpxXDA/5PBG4I7gqFTX8wDRPA3fyNk6Ao+DAdQiPT0ZpBV0Fl95PimoeFFc9kzfKm/pY+3ajB6Z5eWFxaXVtbC4cCsBM4ghsFZ7ClAkx7JFNOEIUeO+IxAWMn2pLMYUAKGEggtl37TykkuQsIyYKiNho3Go2urq7+H6/XGx81QQHEf3o/f0JV3y+Rf0Gs1PGQOuTOaNk5nYSv5BVuHYiGg9HQejCwuOadWVi2T8FG4rZhbW3bIL+27U9+/dOiqsdFtX/KO8t63H0O/4wPrUfIxfQgpGjZEo2gCFxyiU3K9DgEliSCAIqJkg3hSNeDCSDagt5nFNMoO1f2w78mIOTDE4ylwHSWad6DvRkwnb6hAGiJj/Xl5vuiaSWKB2p4Kh5v6Qri57Ifja9E6obHi16pn/JfPyqu/l3UIKjtaOwa7R416G3jE9Pz3tX1QICc3ky29RIhHiva4f9PhIEEYvtMFcC+ICehqvuS5peYSOp4SB1yVzzsQFgJuZBX/ISlPlFEBamIPxzx+kMzy6v26cUxk7t91FTdNsqr7fxT9PqHkpofOQ2/yVolXY52e2AiCFPEcMAc2TGMjcVRKkxFAuSuYypCLzTEUh4uncETCOEI5IWXD8I6FrzzjPRE8UwDMVztUItdMZA6QAJCUo+4IyR9cioZIRFIjBtGVRL7CQOGD/mAnn0YhH4U+aLIH4GrWgCOiqBwAM4AR2jajzqNS/xm9S+CV9+zq3/iVBWWNlW1jnSrbQbXrNuzBGf5BCIURcz5WO4TBbtjcQ8/fhwMJBDbR6BwksUeRgDbIWKvZU2o6nbJ7imcpHkQKe+pGHsCTr20qUPuqQAJwAwOwYa78ds4GZRCkUiUClJRX4ha8YUW18PuuTW1Y6ZP524eMMpe9xXIXv/AqbvNavpe3s15o27VTTsWAutYcOMLpkiGWJwTmYdPFyALV4j0D6MQPos+ZnomCoBMT+AZSBBZX/gIIIqnXHB/HyOETMPHzmSOGdBBtGNFGIL9Ffigp4TbvvClXTA1OzO33KOyiV4P/iJ696Co7g9hHbfyTX3HcJ/Wpnd6nJ7lBa9vPRgJhem9IHTbYg0Swcs6Eyjh8PXjY4A0CpPvXoUqEzF1z34qgITS71yIPQHvnBT5ShN07N92UWLfE/9vB3/Q4aQcqeSSOmQqqW0Hk4gX/E6s9uT4B7BUUHAEPHPauy+M5rwB1+yKwenpV1ubupXlLYN/ihofFlXdelH1o7iN91b/Vr9gXoguR+DISdJ/j0SwzQOuIA6jcIgY+mmjB0wix6Q/bTzC5QXBTw46Dqcyw7xdHfcUTmq6pyipAJNud/yTXp2FJXJcOGhKrC3wmIDsv6PnYfFICqG5ANJOrNX3WP4UNt/+R/a4uOJFWVN9+0DXoFJjdo7PzC96133+YBim5OOxCQnG5mDAf/j75BhIILaE9jqI4u2PAiDlZp6pFDShqqlE2RmGyX1nrMWDxft3TvzgvqaOh9Qh40u7MzbiIYk/HiebcySnPROzDOmNg/EapgcouEVyPRhZWgtMeJZ0VvegxtzQMSh51V1Q2vqjoOluccMjbnPJa9Ubjcc0T82HYN4SEiKqAKY/4YQZkEFE8sWsPWQvUsz0HztuOkoOn9h9idHW2r1HyGYkvEcCu0RhZD1ZtsWcpEZLZPKZPnoJoycWIUKhlUBUP71S26f7U/b2e1bDz7xXBYp30qa+pt4xjdHqdI0vLOB7eoN+fMULQSt50phmJtgPFcAu7fRRPicQ216Z9z3KuA8KYHuRsVN5Eqq6E+hu3xIKsDN4AjDzul0sBiDBs7/w26UWH04KEB+Siv89YiWvKcidCJm8jQ0INgQKRcEGAnLrwNLq2tTsgtU1OaQ2NncOlL1uLy5t/pFbf7uk8Q7nbck7W6N22bSEVrBpA+QOHCOKz66JBrAHQqIxWz+W/nA7Id7HCgcaYxcmF06lgoEPhHkPBKaUI6PkiBEGD3nwqAcmQshFbPHqMBwmUyL0lK83jGxzgUHL0ouyjh85DQ8Ly34T1gobOht7lYNap9ExPeOZW19bxlYjPOsOq4GJioGFulCpjXwhzUMFkFKrHTBQArF9AQogQVgwr7siKqGqu8JvB8DkuF8JJmSUkD7zmgDGvDIACR4GIMFDwBICk76mDhkfnSlGfODOfiZKfI60nxbYWHqBpApREdKbhxBynSRFUaFQaH19fX5+3ul0agzmrmFd2dvB5xVdP0g7bhS9vs9peV7Z3zjoME35l4JwhBCkCufLB2AxJBj3N4QdOYGAtoPTwTDyiC/bztX5wK8HklGsF8/IXWzZBwlNhju0OI4DIzgJIFhia1sMdOomWDU99wvKHxdV/yFq5jd2/f/2vsMtjeX7+/0Xf997c9PvTe+5uUnuTe/NNEusCAKC2MVeUbGgiL2A0qsI0nsv+z6zA+uKaICIMQk+5xlnZ8+cc+bMcj47s7OzvbyVGaFSpNbpjC67yx8MwG2aQpGwDwmhwBmF668gAMSGXPHRFWbIN3orV/2bPJBwsf0AAPBNzT1MlaHrd6a72biTM6Hzdqv445Zvv0nEbv/hVl8wxQoj0aAv7Pe43W6TzanYMIE1o9Mr3aNz5Fb2e3LnvaLGR2XtxUxe54xGoAuafEgQXQwJZ6UDOz9agobC2DPjrSenP5gvcb/nCLozc2w+Daz/jMd6gACJf5FwNOKPIJ4osuFBJiU2Yvf8E2L3QwLzbXUXtYfTOb7IW5GJlHq90eFGv88eDAdwozS4ZjS2chRXvvU64PaeTVSfO/6JPQCvSdyVCdq6bSsI2PikfD+TX9IN6Ony/+i+igco3K0iCBsw4mMYsAUA6IQDeHEU7C7n9hmMVqVSLRTJOLyFziFuZdPQG3LXo7L25+S+is55Jle2tukFrw6g7zR5wZKXEDoTAtwWCYKtLWOq9oxVCdfxYfB50usEdRxYVhtrFXgSHkGnwtC5H/T16FA4Cr+/g+6uCm78F1TmhuGVj/ShR2XtTwjtRc2j9ey50WXpklSt0VssVpfHHQBYEhsnYZgC3QDfNsB1EJhoivEcBkflbPguHkga2H9FAPgu3v+BlGIrRrCnlKjx2wIKvjkwuMRKItFQIOjx+BwOl1KuEArFc/PLA6M8ahv7LaX7bmnXrZKud41T9VOq+c2ALoi40RiGBkc0RGKBKoKAZYy411YTRl345cx4Y75jPsFCOHkFNmdGoQ68+BsJAXwL+cH3tsLo9xUiYANnuGW/G0F0frCdA7lvIa9m8FFJ42tiU0VTfxNrij0nXpLoNEaPyRkE6zvDISAqvgHUzv7a1iMxOMV333d0Uk71d/NADgC+m+t/LMU7A0rc/iRBBK5VB+9/ASa4tUwkGo6EQ4GQz+uwmDfWtTK5elYg7+Asl7dPvWKM3inv/Y/Y975hrHF8bUlls/jA605gfVEgAOIaFrDgg+j4RElCeD2EI4C4l7b+w+Wz8K3d2NNX8LKbFwl7kIgX/cZOMBiKeCOINYwIjaF2rjy/cexBeefDio4P9N7afu7o/OqKVKXWmY0Wt8sbCaIbb6BvEaPvi4ERE3hfDJvfx54r4IZP+F6D+S0Lc7lfxwM5APh1+vqbWordhW8FEZDD4siWcMgJZ4XizPE9xcBaFCQYith9EYMzoDTa+bJ13uIqe1ZA65v7wBh5UNL+sLj9Q/VIHWt1RmrbdCMeMD0eQhBvJOKIRL1w7WgQPjeGLxhvaT6MOQhR6C6aEQyfwAgA3fcnvsdyJBIFb1ijU/3g9V5PFJEZPf2zsvKWiWcVPfeKmgsb2PS+mf5p8axwQ7JuNpgdHo8PfK4rDL7xi6JsbLcl2Cn4/tp+74/zUuxEDgBwPvnFsjkA+MU6PNPmYgElLgAL/YnhA+OMR384EEAxAN1uGlvR6QpFTTa7dl0pU8inlqU93LXqnpmP9KH7RW3/FTA/1Y42jgjmlSaNzeMBUxtg1RF2V7slPG7Qof2fMEyJ2YkudQXrW0Nb3+ryIYgTQdTOIFeko/fxXle2Piioe0seqGqfBhv3L0ul61adxWd3BdFNIMLoR3oD6ApS9DFyfE4/Veck6apD68WcYVnxQA4AsuLWn1Qo/kHi9ge/sXtJ0O5Y9Imi4Ros3IkVYrEbZMCEBdhgLhQKeH1Op9MOvkgsV/GW1/q5i41DsyWt4Bvlt0tan1UPEvqX2SKb3Ik40O+Yg2eX2+/9wcto4TBchHr4PQ/sDPqQiBtQNAimuRDw2MMYRqRuhKP0VbEETyo6HxQ3v6P2kNonW8dWxhZlCrXOuGlw2h0eD9jHLfa0Y0cExwpwg7OtJUbxvjn8TspZeEAeyAHAATn6x1eTcMuPP9zWuBgAhEP47aCxN07j7xxhi1VC4WgoHA6GfF6vx2UwGdcUqimBpHdmlcqa/dQ8/oDYe7u083HVILl/lSO0yS0Rqx+8SByEmwuhj4v9EcQbQjdHi08NAYN2YBI0LBsp2v7EkVDMKWBJDzoGQE31hRG7L2J1usJBKxJxIOgnlF0IovEi4/Jgzbj6CXnoblnH48qOstYJ5ujy4KxoSaLdMNqddkfA7QDIEVs7FGsihrhY6I9PK+En6FDbcA6J2Zb798t74OsAgOeA+W90WvIR8deEfrVWAgM83JliehJOwfKdQvbmx85+90yC5VmwBxdEsGCDzj3D540wsseiP6oertff+TQyvo4otu9xLGBFwEtQgUDI5vLqTDaxRj+1Jh+YXa0bmiluHnlJ6nxCaH9BYZV0zHevWIV2ZNMLvnXlRBAbgmjcCFekXVCYzAFwNw00BtHbXrBqCAwYoIrspejiTTgk2r62EjgqEvb74KoeH7pbJ2tZ3Tw2t26z+BGw7HXdjSxtIA3jGy+pnAeV/U+quoqYw/WjU4PzywtCmVprcFg9Pie45Y9EQug3A8BbA5Dgxm5Yu/BjLOjc2JZ52JNz9OH5diDAgDwLl0xO5KH3AD68Y8ZuWwaK5/iZAABrLX4+ISGM7tbe3crxMg84n2B5FrTH73Cx6I8G+0h8zwbwFmtsvge8E4zdguPZd8sDa9HF7wjYGi4aCIScLo/eZJZp9fMixcj8WjN7roI5/pLc86C88xmVXcicGl5SrOodujBiRpAplbuwYai8mT0vNzuDINzHbv9RmXBJ0m6q96UcnW9JBgBIBKzvRPfaDETBPM+Y0Py6ZqiofXJBa1O6ggK9v2NKWdI086S093FpV0HDGGNwtndmeVYqlW1ojGaT3+1B/BFw049tg4prXCrGo1cCLsw6TgAAIABJREFUFuVj/QLQNgofSsNnM2Dhae7vF/QAPrxjzf8ZAABrTFqZhDB6CAP9bs1JsHw3tozLYayJVccCD3ocv9OPr3KBZ2P39+jJ2O0ojPK4km086MtQsWXsYGl8wO92uRybZotSq18QK4dnBc2DM5Utwx8oHS/Lm9+R2ovqBlu5ihltZFTqLWrivKxoreublusdAfRlWrD9GbjhBc+NwedmtunazYZvKQfPPOAST6AKLMkJw614UN2IK4wo7UhV7+K1fGZ++1L30mYbT1bVzvtA6npb1lpI6aptHx+aWF5eVSjUOovV7vF4QoEgMB02ILZxXtxCrAt28zbsKhDW46OF2JKtGDhiYI3EtojI+NLIVfyBPZADgG2dlxBGcwAAvQODTGyuBn9/DeMLGlnin6xCa8D9ihOC1F6HaJCCnyaGe0Ej4PXfUNAbDPhcHrfeZJVp9QK5dmpZ0sGeqmoZLKT1PS5hPinr+lg/VcWSlXatPCX251H7WLNSvQN8DB2OT9AvqIDv2KBxMM2b570M3iEK3mTH79NRX4HPuSBIKBDyBxDE6EV659ZfUUf+KR/+0Cr60DT/kjr4tIz5gdRW3To4NLmwsiqRSxUWg9Frt0f9frBDKjQA/VxkLJ+6SVjPQQAAKSiC31bAxMR6KxKA7Ln0V/PALw0AMNzjgz4+DwJdwv7puAqH7UJJsHx/zYPxIgYAWPCAGRBZgpFoAAAAFhXRr7VASAA3wluvC0Swwh2ZKG6xfHzKIhpG9zZAQuGoy+01Wh1qnWFVIucurnWOr1C75grqJx8RWA+rxh/RZm6UsG6XDXxqnBxdM5nD4EExOhIIRcHbA74oEtyhEXyRYJ8o9tpVJAI+4AI3LA0iYfBGFhLxRCMuBFnUOAobJ2596btF4N6pmrtbOfqMNlLeM93OW+Hw+atKodGs9jr1iNeGBHzoh9GAE6Lo1xJCQGrcJ7tncG1JuHDRywEFpyA6nwSfFsQ+1Aw6CH6Sc3+vmpy0H8ADvygA4CJ5LAv7KiGMYgCwG//h6eEEy/fdMOxRKnofiUV6dI9oED5iz1rhRDjcvsaPfq8cS+G7r9ghPuPDfdk8gEYjEEPRYBqA38SKgplwSDZfcMPqWVFZJtbMzCnNl07+s9qFf8hT54tHLxYPXf3SU9a7uqyPWtH9owEmoS8SB7cbg9e+L/lQBAmh73bBT7R7EQSSB33Sq7CH60b4Dyp6r+T3XSvlXi+ffsxYet+2VDetnFq3Su0Og9/hjaBfzwSfTQZwEg6D9kIh0D/QgYHtDUnqVd/WrtnoF8UgJqEOgdWhk+F6XBShcwCw77+YH0PgLwoAWOdgkR2WJIRRDAB248fKv3smwfJ9t2fr7h4TjRbBG3ywcU0EMbqCKqNbuumXWyJyW0hmByR3hDFSOCNYPiGjdCJSByKzIXI7orAhMnNYbgwpTGG1OaoyhxXGoNzkV1lDGntIbvKuaW0So29SpKcNrnxsnnlA512rnDxXNvHnl9HzhUP/VXGapvSLWkRujOgskU2zf9MWUNuCCRr38VBhD2ssiNaMaCyI2ooobVGlLay0B5V2v8joFpuD3bPyN1TWjYKOS/n9l75MXCPM3acuPaTwPjDnm2c103qn0O6TWH1ig1dpjigNiNKAyA2I1IhIzWGpzS+z++SO5PYnuDTmc1tIbY2qrVENoHCcQInCFJIZfeu2kCsce76QAwDsiv4FM786ACR0eUIY3QkACfyH5zDB8oMwDB0LAL3oZ8o3Hf556WbvlJjJkTKnVMxpNXNaCdPWGU3rjGrPVNPEUzVOqZu5aiZvvW1ay5zSMCfVHdx15riyg6vunNK0cxVMjoTJEbVNSjqnpQ3DC1W9U6+q++8T+6+XD5wt6DtbPHzq08C5gsHTb9qe06boQ8qWMVX3pLqHo+jlKtt5qq/ZsLeFe51tm1Z1TSl7ppRdU8pOHkbyTp68Y0bRMC7+VDd2q6jt3Hvm6Xedf34cPPOJff4T+2rB4L3KkYKOZfqEvIGnbOAqWqd1LVx9y4SxhWNunTC1cTdbeeut04q2GTlqPLAB8+pO3+J93jal7JhSdnKVnVwFntomxB0cIYev0VjBOwVgeg6MkHIjgIP4xRxCHXsBAD787dxn8TtEnEPov1/IJHQOOjYBtNXsKDrb4EfA3jWMgbmKjrmKHmHloKqCBUmDZlJIB+UVg3ICS05gKQksZeWAqnJARepHaUBJAiSvZMkrWVKUxOX9gk/M6ceUoX9Ku68Wdl0q6Lzwuf38h/aL79v//jLwhDLxqXmlrEdBZK0TBzYq+7WEgRRsYGXIQ2ApySwJeVBIZomqBkVVg5KqQQkoYUmqBsTF7Ssv6ZP/lAxc/NT514euPz/2nctnXf488HfR8APS5NuGhcIeSdmgqnxovYylLWPpy1j6igEDoV9PGNACP6BNJrCUqXoSbQXqyZjHqlgyQMAkEamXT+icpvfNzMlMLvR5QHwN61af7m/uYALFwWjZX88cBmk5ADgMvXD4bUBXi4P1OfHVg3GTIQC4o4hA56b0L5b3iUjjJtqMl87zJSXalDcZuWk8B41no/Ns9CkHfcqFkps+5WZwQRovcaBsgJM8YSobVH1oE7yom31eMwWIxn1O476i8/IaF4s6JJVDOjLHTuH6KLwgeSpAnfIn05vUmPQLeS4Gz8zgGVEyM6YsjClbLdcBiTJiLOlV5bWsPa9bfFw7/7hu6VnD0uu6pbyG5c9twrJ+DWncVD3lpPLclCkPheen8PxUnpfK89Km3DSeCzoE5JO7Lqm1birPTZ12Vc+46dNu+rSzhuesmbbX8qw0jo7Uv0bpXZgQbpoD4FF5/C02uM9HvF/37//BhOaD0bJ/XjksknIAcFh64nDbsRcAhBDwgd8FtZPQu1Q+pKbOBmv5SO18tH4+vJPq5kLJKFA/56+f86LkR/OB+lnACdO6uRBjfhvRZwPUSTdh2FjSry3pVZX1Kgn9YNxAHNKQRzYoEyYaz0Wb89EXItULSPUCwpiLJNOb1Ji0CxnzgZp5D33BRV/w1Mz7aub8NXPB2tlw7Wy4YS5aOx2iTXpIY1bCiLGCrS8b2SCMaolsVRVbTRnV0SbMddMurOF1817GAkZ+IHkBNDwt4xnzITra6urFCH0BEGMhylgM1y4GGhY8ZLaS2LPE5us2vTkAONw/u+xb98sBAH5eC3Nv0kLsbC6D3vjDj42g63+2PALmhcLoQpcFtbO8e6l0UEOcCVHmkeqZYM20dyfReZ6kVMNz48hTE2OLDSOqeQFI1OlYpoYXpnGDVI6natROGbVSx6y0CSt90lbDtdO4dhoP3PxSZzzUOS95zk+d9VdPJ9eb1Jh0C6unPZRZd9WcmzLrocz4qNMB6nSomheq5oVp0xH6VIjOC9CmvNVTzuopezXPTJsy1UyZ6FwjfdJSw7XXTrnreN46nqdu2lXDc9Kn7fRpe/WME22Cjzodok6H0OFUqk2onvZVzYRIs2HSbLhqBhB5NkydDVfP+mvnfKRhDaGHP7Si3/TCnTPAQl50ImirX/cxdzD35gejZR/dckhE7QoADocDHxZjL/fjlhcfTo9Dq/CWJzg66amkhQkVf/lD3DOA2JMAdEM38OFCsFpxQWmr6JwvGVBVTPoqeeHqaU/NtD1V4jmxOR9swgfcwk+547E4jgTTPjovAIgbZEwGGZN+OhcQbQqdNkGDL5hFmfZSpsEcCHU6NrOUqiWp24zjpE87KdNuMlDqBRM4UxgFKdwAhQsmoOCUTvWUE+AThCiuizbpoXP9aEOCtZP+2kl37ZSndgpgIZ3nqeYFqLwwlYdQeVE6L7k/waTZDqLxXJRpL3k6iCfKTIg646PwnIQhFaGHP8w3bo0AcgDwq/68YehLCIBgK4gEAAiH0R1WDjcAYNE/oT34zt2JWztL8Py5fMwD2ONfuCAUvCYXAQ+AwUukIX8EWVKYKjpmSvvklZNe0nSIMuWqngKRLrXUWc11VXM9KLlAHtwsOyk8WI6WbDH4qrk+2mSANhnYiv5TfgrXR57yVfECVbwAeSpAnvJVc100rrOGa6/hWlO2JHWb8ZxOMs9DnvKBRw5cH5jKxwi1ChaC1k06ayadNK6LzHVXcb0oPARp3BBtIoi2yEeb9NCA2bDJPsAwGaZwg6hP8Bq/kq/muqAN5CnglhjxPJRJe8WgktDDH1ze3HBFvaBb4c6suWcAv+JvPQcA4HXfrwIG5MGnv+LFgm4CgcV/9POzQSTqRaKBYCjCl+uJ7VOlPSIix0GZDpM4btKEk8xxppRy3CSOFyU3rEiasJMmbcRJGwnShB2UTEBpKM+kj8j1ESfcVZMuyoSDOumkTDjIHJSH466a8FE4gKgcD43jonFcqVqSus14zrj9ZI6bzHGSOXbyhI08YSFN2shcZ9Wkg8R1QT9Qxp00jovKcREnnZWTbiLXA1rB9ZEmfaRJD2nSQ5x0oi2FEmxAVIxS8yRqFZljr+ZYAI3bKGh1yoQr5qgJK1hQ1L3CWtrYcEV94DoOIdFAbgro1/xFfwUAsMj4y44A8EEfn/9FL5f4K8Bo89ERQNSPRAKhUGhVuUnqmC7uFJWPmKq4fuIEDOiJKXHck5wmvMQYuYkTbuKkkzhpJ07aKydslRM2IsdG5DhiNO4ijruIXF/lpLeCYydwrJUTNggPgAE9WzXugkQe81DGveRxL6oUrTjuqhoDNsA0bkzsFFodWghKKjmeSo4HyoynsGSLhzgOSiB6QQCgcGwUjoUyYaJwLFXjwPJKjqtyAthfNe4gjznIHHflhKOCCzCgfNJFmPCUcdyECRdKjsoJR6zJE9YqjrWKY67iWHGGbXNgHDi3+ZnMcVI4tjgAAAygTDiqJgEGVI3byvoVFd0rQ8taoxvdHhqJRMEwLjcC+BV/018BAGw/HPgMAH50CUOFbDgMBtlsSM7J/CYPoFNAW7f/4B0idLMzdGv6UCjAl+tK2hcKehTlIyYQwjiubyUQB3GEExiPhq7KCRthElD5pKt8wkvg+AkcPwjZHBtxwkqcsFaN29BA760YcxA4dtKYHQ3BAAPIYwAkKsZchHEnkWMDQRbCTAxCQLwmTHgIEx40dgOGqnFbJQfE60oOgIeqcRDQKzkxHrTVIDqTx23UcTN11EAZtVDGvaTxAJEDBitgTDNhhlpQOcBFhImtFByOOwEBYAOEwV66ziRyAHBCB2IaKye9ZRx3EUtb3rU8vKS2uYPoLxpu1vRNV0eu8g/qgRwA/KAdd+Bmxx/8olsdA+3oRsXoawFRJBQKLCv0xe0rn7pVpSNGAscaC2QwnOHSijFHWpRUTuWYkzjiIo46KsYt5RxzKcdWwnGVjPtLx4LlY/7yMXfFuIUwvkkYNxLGzYRRV8Wou2zCWcGxV47biaM2UBclwqiLMO6u4DgrORbAOWYpH7OWj9oJow7CmKVi3FY67iodd1WM2wjjZuIYkFY+7igdd5WPg1YQRy2EMVv5mLt03F0+bgM05q0YdRNHbaRRM3l0kzRqrhzzEMYChDEfGtYtFePminFbxZgrLScA9ML5EJ/fVQ7HXsGxx0wdtxHAobN0wl0y7i1kbZR2rbAX1XaXH3wXIKs3dAd+neYUpuWBVAEA8uVGAGk596diTg0APnapS9gGEJdH7VmlihFnxYizfMxcNm4qGbeWjDlLRn0lo4GyUV/ZqKt8zFw+bigfM4HMiKts1FM87iwet5eO2spGHOXD7vJhd8WICz3lKhtzlo1ZUbKXg+DuquC4ofFA7JgT5MesFaNmoG7MXgL40UK0jWWjrpIxT9ko0FI+ChAI4Me4mTC+WcExohI8xaPO4lFH6ailbNRSxnZXsD3lo1sS8I4qG7HhCTu1W6DHGBIysEWoqcD4ctBAewnH9WXUXTCghQBgc+cA4Kf6jWbQmMMIABk0I1cl6x7YEwDC4eCKcrO4fSWvU/llSF8+Zi1lZ5XspcOOUra9ZMRcMmr8Mmr+Mmr9MuL6wvaUsF0lbEfpiLl0xFg6YgQMbNeXEVfhiK1wxFLEthUP20uHXZBK2A4YmotHHYDGXSUccI9cPOb5MuLAqITtKBmxl4xYUS32rfIRmAfyUQzwlY0ESke8paOO0jHTlzFD0ZixcMxZMOoqGHUVjTq+jFpLRoD2siFPKduelovwqIDPJxVSMmLFWRtXNOr4ghrzuU9T0rnMXlTb3H50B2nc2r6sX0Y5BYfLA+kBAPYU9IAbAa08YKU5dds8sAcARKLhcHhFuVnYvvyuQ1HI0peMmIvZlmK2LYs0bC9m24pGTHGyFA/bi4edKNlR7aZitqmIbStiO4vYTlgCIzgI6GxX8bCziG0vHnUWjToKRh35Y678UU/+qOcT2/Nx2J3P9uaPuAvZMcofceePOCEVsp2Q0EI3ygZEAWnD7uJhd+GwtYBt/jxi/jxi/Tzi/TziR1N34YitaMRSOuwoG3aUDGfTOcD5liIU8IrYtpJhC6ARe9Go49Ow/WOfurhjKQcA2y7vX/VgLwCAPsFzfBcAyD0WPhQXJwoA6EPg2HZAW88AUADgK02F7fzXbbLP/RvFbMuXYWtSKhqypEVJhYAIO2TNH7YUDJsKhg0omYoGrUWD9i9Dji9Dti/D1kK2GdCwtXDIVTjsKGYDPEDHASBSFw7bCoaAkC+DpsJB48chy4dh22e24zPb8WnY+XHQ9XnYUzAMKhYOOwqGHZ/ZLpQcBWxbjEAhoALAY4PqgOohGwQAgAFs26ch9+dh3ye27xPblT8K2IqHrMVD1t2cANu729nUy1EXWfKBoyxFQ6Yvw2bQZLbt45Dtfbf6S/sieAbgQT/jk7u9OhQ/sO9jBD68YxZs+yYwLMX4Dj4cH7xGzBG5TIIH8ACAfrYEBYM4ABS081+1yj/2bhSyzfmD5vxBy076zDKnRTslwJIPg9YPg+ZPg6bPg4bPg/oClqGAZSoYMOcP2lCyfB4yo2SJHQ4aPg0a8gYteSzbxwHLpwHTZ5a5cNBYxtIVD2jyBzY/sTYLB43Fw8aSISNABZalkGX5MmD8MmAsBG2BzTEXDW5CKhw05g+aCwdjJRCHiliAv2hws4ClL2DpP7NM+f2WggF7PsuRP2T/xLbkDwO8KRwwFbCAATspob0YQ0I5dogxbM+YUIPNnwbNn1mmApYBtdbyedD2nmXL61IVtS3kACDh2v41D7HAjm9+DgDw3sjltzyQBADQj62Hw2GBylzQzn/JlL3v2ygYAhE2e/SRZXrPsuQNmt4PGj+yQOzOH9jMHzDmDxg/s6yfMALhD1DhgCG/W/mxW/G2S/ume+N99/rH3vWCAV0Ja4M2pq9ia4sHDQBCBnRFAxtFAxuF/brCfnNhv7mo31TUD6Dlcyxeo8GUpS8E8R2twjIUDYDDz4OGT6zNot6Noh5NQZf8c5fkQ5f4faekqEdT1LtR0L+ZP2j+OGz+MGTK7zd97jPu5hx8HMfz4MvxeTzP9rzxI8v4kWX6yDLlDxgh3nwYtL4bsL7rVBa1Lg0vaOwesL0r+H79Vg/ncr+WB3YFgIStIKBXIHc2PPRdJpey0ZBvl3mYRzzJASCKBMMhvtpc0L76rEma16P7MGD4MGBMSu/7DZCSnk2xMG/A+I5lfscy5wEtho/9hs9xet9r/NBv/tBvfd8Hbng/9hvyOtTFfepqlrRxQtMw6yBPWKo5hsphdUG3tGnOMa9HhsXR8jFrXt/m+179hx5d/gAanVlAwodey8cBy8cBcOP8rt/0us/wadj+nmV606v/yDJ9GDC+7zfkD1o+9Bnyes2feg3FvbryXiWdo6uf2aRNKmun1+ljivLutcIeWcGA9l2/4d2A9VO/62O3/WO/OaGxMFgnFH718H1/EldvFaJaPvcDF30YMOYNmN/0mV+2ywralkaWN2LvASTs7/e1K3jv6zN7IeJrdmVyfu+2JJWYQZWkcr5amG1FUH6qAJCU76ttSIsh2w1Oy5jvyHyY/bAdACJhJALeBosDQH6b4HGj5G3Pxvv+TSzQJ2Ty+jbxhJ3FF341/7Zv802/8XW/8W2fEQ3cmx979R979e97N9/1GN72md/2Wt/2md/3br7v1BSxtM1ztkWlX2xAJD5kxY0sWhGW2E+b0PYIXJsRZFqDlLHNb7s3P/Yb33VvvOnUvupcf99net9nyeu3v+21vuzafN1jhADwosfwosfwus/wYdCc17f5skPzrlf/pkufN2DN69wgDRl6lv3zRmTNi6w4EZEPWdhEehaN5f3S952y1z26t/2O973Ot52WvF5QHaOv+gFjSMhACfhCTObbvs23fcBFwA+9m3m9xjf9xjd95hdt8gQAAPt8pfy39/WZFACSFqasMIuMe7clqeIMqiSV89XCbCuC8pMG9m1TQHiObHdktuV/1emHgSHbHf8tbdwVAEIRvtr6uW31caP0TfcGCNC9hqT0umcTUtKzqRe+6tW97AWi3nZvvgOke9e98bZH96p382W34XWv5W2f+U2bJq9dVjdtm9MjzgiyYUfWbMiyE5EFkXkT0rZkY4nc1iiyqEVKhw3PWzVvu7RvuzXve/UfB/R5XRogsM/8stv0om39bZf2fd/G6671NwOm533G510bb7q1r9tkbzsUH1nGV90brzo1n/s0/WthqQtRBZA1B7JgRSR+ZCOIcOXhqiHNu3bJy56NVwO2dz2Wd10AbzBX4DOpewBy7nTm9hLTm15DXo8+r0f/rsfwutf0qsf8vFWW37qIHwHsIwAkvboO7e86g99aBlWS+uSrhdlWBOXjwztm0q4AgHHkMtnzAL5jsqolPeHxVUARsAcEqBrbCgKOAFAA+NQqeNAgftG5/rpH96pbnz162aN/0bsB4mm34U2X4W2n4W2X/k33xqvujZe9xhc9plc91rfdxtdM5Zde1aAsogwg606EvWioYq9XcYzdQl+v0Fs3begV2A1+hL8eJg7r33aoiGPm+nl3y0qgbcVP42yW9ilftyletau/sHSMGUcH39+2GiZMud7269+0yyvY+uY5W89aoIUf/sLezOuT06YtAiuiC4EhRSNXSxlRtMyYOdJIz7yLMKB526F43rf5rN/4skv3vncze87BJL/s0b/sNrzqBp5BnQMOn3cbn7ZIPjMX2EtabAooqwCQ7UCW3mW8nTsD29Ktki4/ZmDGFTEJe2eg/BwA7O2l73AW65i07puwWilanDZ/fBu43QBgRWX51Cq4Xy961r7+olv3omszi9Ste96jfdGtBZMzncY3HcbXnZsvu3QvunVPuvVPu43POk0v23WvmsWUMf2CGVGHEJbAU9avecTUPGjbeD+g/dwvz++Tdy7brSFEoHRRWErauGlej6j8iNqHqD2IUBfqnVkvbF8u6ZH08+1CE6L1INogMqlHqJNG0pCcI/VpHIjOg4idCFuN0GZ0PXKvxI3wN5FGrq6wQ/iOKfrUoSrrXi/v0X5q175s1z7uMzzs3XjWIXvXo37Zpd0X/zzv1O+UAwq7gTfgqdedutddWuCfrs2nnZtPmsWfWubZS1qrJwQuA/TT8CleNnBzsAyuzNTlZ8aZ7vUMtcBaaWlMt0q6/JgxaVWEzBn0C6ySUHHXEUACH2ZrBpl9FJWB9sNcBevLzK6AFB2L15KKN9DJH/BF4GgUjADgvygSgs8AQqHIksrykcn/t074tE3zrFP7rEOXRerUPutef961/qJT/6rD8Lrd8KrD8KJT/6xL/6hD/7jT+LjN8Iy5/rJprZ5nErsRsRtp4Brft6vvd5rvdlsftSsfNQvedEhalx2OKLIss5L6JQyueV6HLGnDs3LH6obH4UdWlPaaUUU9d2PVhOh9iHjdNi02TKwj9Al9x5xh3YOYHMiKSMeVuEYVwbq5dY4+ovAhHJGrrFec1yp+3qZ60bbxtkmd17L+gql90qF/0Gd+0Kt/3il/3Sl70bn+vFOPp312F9oFTzs3n3XoXrZrX3ZonqM98rhd96hR+KllEQWA2BKgn2AEkO71DK/5hJ9YKr+dhCp7/3YysyqpbXsoykwLVgvb8RNTAQAgYRUQdE0qDsKk7J1Jy497i/rJzmIdk5aL8LVScUja/OgIIB75ESQCcGAnANytXXvMVD1p1zxu1yalJx0bkJKeTblQ86Rd9aRd9bRV95y5+Zy5+bR180mb9mGH9kGH7mGn4SFT/7RF86phtWl6U+lFRJZow5gqr0V8v1X3X6fhUav8cTP/VaekacFujSBLSndJt/xjl5LBNVUPS6tYgtYpudGHiI3R+hkjY8YqcoLbf86ivHFwsWxA+q59rXXRrgsjG+bw8ISA1i8s7hIQh8XTBjBEYK1Y89sEz5ji+22ae226F236F0zdk3bj/U7znW7rvR7jq07N6zbZs/b1fXIF8DMm6knHBvThkzbtkzbt43bdkzbt0zbN8zbVU7TkUdvGg4a1j81gCsjqyToAYJdZKtfkt/BgitKKUVgtqDqVurBKiqZi8lORnCAzdUWZacFqpQQAqTsooRm7HeLV78bza5ZjnoGZFJ2Ar5VKFTx/KlcnHAHETEKXjkcBAMRWAYVCkRWVJY+5crd27VGr6nGb+lHbelJ63K5NWp5+ofpxm/pJ6/oz5sazFv0Tph6EtraNe52b9zoM91t1T9s0rxoF9Ty9wo8IrQiVJXpVz3/YChDiacva08al5+1ixpxdH0CWNMGCLvmLZlEdz8QSudnywLw+qvMiEjNSPbFZxFJNGxFdFFnd8PAk1kqW+EOboGbKIHAgG14wUzTIt1V0r1Sx1uY3wfRR97zpc7vgZaf8Qaf2347Ne0zdf836+53We92Ov1tNd9p0L9rVz1tlCS562KqBlL4fkvs5LmfjUdvGk1b1k1b149b1R20b91u1DxpEGACADt3XZaAJ1x52mSWU7/shpiiVixlq31kllbqwVor271SRYsW0ptoy04LVSg4ATqcTbyt0zR4OwovDVzwnYILiAAAbJ0lEQVRs+aRNSFqYbcuhx3bTkq4/Mf69xWLqEvixQ4wheQa9749GwbtD+MARDoeXFIYPbfy/6SsPWhQPmcoHTPUD5voD5vrDVm0q9KgNhKqdtHtdEDEfMTWPUXrE1Nxv1d5r0/3D1N3vNt1p1T5sUzxtWKFy1qU+ROxBGqaNjxgLt+tED5ny57XTj2mT95slVfN+TRBZ0IY/dYqJE2aJG5HakRltaFkfNXgRmRmhjK4/b+RXjhoGZRGJFTGGkBVdtH5c/rZxnjplGt9ARC5E50fmFfZOrpIn92vDyKjU/4G5+KxZcK9FeqNBca1Oc7PJcKvF8g/TfKfVeL9d/5ipeNwsfdgKDE6ddvdDcvc+alt/0L7+AAXFx63rMPo/aNP/16L9t37tfdP80LLW7o6Afk8TAJJfGLuXpnhB7i7gcJ1Jtznp8mfc2nQVQX4Y+hIC4LZnANCgpHx4W9NVj697kPmEpuJbd5BmfBXh8d2TimEYf9IG7pSA58fnd3LGS9CPwoOl/0BDJP7yKAwfEADet/Nv0pbvN8sfNKvut2jwBMHgAXMdX5hx/r8WDaT7LSqAN82KB82q/1q0d5gbt1v1t9s2/2nR/NsivVe3UDqkXLQiagQZUUQKeyQP65aeNi6VtM6WtC/k9a8z+JGNCDKv8RGGVL2SsCGEzIp1jIG55uFlnQ2RGKK0EfXrpuUP7eLPrXzmmFhtRcwBZGzNVNCx/KZtpaBb3LZg1DiRdVtkYF7HWrZLPWABaCNP+6F19nHd9Mt2yYdh24s+28M2078tIPj+x1TdZ8rutUj/Y6qwVqSSSddXUP6/TO1/sY5Q3W/W/teivduyfrduFQ8A4FKM93E2/sOrKxuSv4vMdJuTLn/GjUpXEeRPGtgzBICMTT/IiknjY9LCbFu1d4fhuycVSzD+rLUlFQAQ3KAv32uS3W9S/tekutukuduk+bd5PTVS/9ucBoFA1rJ+r1l9r1l5vwnQv83rd5u1t1v1N5rW/wF5xV3G4rv2tS6hT+JHNH5kROhgcDTNPN2S2jOv9DTMWNpWnKYQMi8xkvtXRyQeewRZUxj6JgQjczK7F1Eaw80cJZmtbF92N0yuD/Dkejti8yNzclszd50xtUEfU/Uvbeqc0Q0H0rVgoI2rudqoDkGE1ihrSdE6sTK0alg2Ix0rroIe2aM6/r/1a3eaxHeZ0tut8rtM5d0WdeqUlnMw5rst6/8CFwEv3WsCHXG7SX2nVpDXOIeNAHIAkMrvC+PZ+2eLsWGZdPmxiulm0lWERYz9mQJK19zvxZ80PiYtPAAL99D7Ld2ZHctRAEAn/eH8D9SCHwHktfGvVS/+2yC52yC706i806hOne4CwEhCqBxlQnq7SX2rSXOrSXOnUf1vo/K/BuW/jcp/G9S3G7X/tGxer1+/3aq/06y5Xbv6qH65qE/RJwoofchmFFFHEVUIMYaReXWAxtE1L1g3gsis3EFmidrnTTo/Yo2CKR1TBLEGEJE+3DyhYS7YVn2gotqDGAOI1Bhh8zeHJF5hEFEgYIGpMYisGYLl/fJXLQLGlH7RgugiQIIhgFgR8FrA0Korv01wnzZ7t271brPsFlN1s0V5q1l5uykNSuqcu02qBM9gh+BUs+pOs+ZOs+a/JhXE4zvNmlsNytsMPgoAOjgFlAOAtH4vmf0w01KRGXNmhsEQlBCIMhkBZGb0wddKaCo0IGnh/tqWrops86ffupQA4Cp14U69+Had5J96+a0G5T+NqhTp73pFUtqt+s2m9ZtN6/80qG83qO42KADVq/5pWP+7ceNaneY20/B3o/p2nexu7do9+mJhr7J+2sxWIWN6ZECJ9IkCVWz185a1/CFdy5KbytE/b1p9xRQ1zjsG5ciADOmXICy+o5m7XtQpLB5QNfJDbC3C0yMjEl/dmCK/ZbaoV9ImibB14A2AQaGNPiJ/0iC+Xb32oklCHNX38D3TWmR2HZmQh1pnLaU9iid0/l3aKoCoFt2Npo1rwE71bk1LWp7UOX/XK5Iy/9Oo+rtehhLw6u062e062a06xd91ypu1ilu0lXcN80PLOQBI/0eAgAXQaf020+XPxCa0TrqKID9sS0KL9g0AEuRm3LZ9rJjUpKSF+6gUDrIOQMv+2rxdWhwA0FIwaxyfOY6CLSUjSwpDXhv/Cnnxn1rxTYYkacC61aBMWv53veJmnTwpJeW/Ua+81qC+1qC+Ua8GAa4WxLhYgGvQXq1dv9m4ca0WBLs79fKb1JX7dYIHNQuvmMInzcKHDYJXbeKHDYKbdMG/jfJHTZJHTZJbDNEthugxU/GqU/OkVfmMKX3RtPKkZu4effF+/ep/tauPmkR53YqXTMHzxuW71dN3GYuPW8UvOiR53fIPHauPGAv/NShv1Sj/oYnvMdae1fPftgjfNa++qF95XLv6X43wNl12q1Z9s0F7tV57pW79WsP6jfpdXZG0yUmdc7NOnpQZ9af0er38ep3ier3871rp37XSm3Xg8EqN9CZt+W1jDADgw5x4T27v8H06Sjcw7ZPabIlJtznp8mdsd7qKID8MSgmhaX8AIF2DMm55WhUTmgrrJi1MS+xXmQ+nN75qNsYAVnzGCJQlAEA4GllQGt60rVyiLN5gCK/TRTdqZddq5RiBSIQSVpKQAdEqGV2rk+2kq3XyS/XKS/XKq3XKa3WymwzZTYbkJkN2gyG/Xqe5ylBdrV2/wlBdZShu1ipu1IhBfK/h/9sgulMv/qdWeIPGv0xduVYjuV6nuFwtvEoXX2UoUJJdo0sv0cTXGdLrNWvXa9Zu1EpuNauv1cku0oRXa6WX6GvXakRXa8U3GmRXGKIrdME1huB6zcqV6uUbtbKbtYqbDNnftdIbNWLogat18su1qsv12isNusv12gu1yvMM2ZVa2XWwOihJu/YoTOqc6/Xy3apA/mv1imsouP5dC/DgWr3iUo3kRvXSm4a52AggjG7rgXVzFjI/+pWf4JJ0m5Muf4K61A/TVQT5swUAeOmpt+EAOJPG+qSF+2tMut2zv9q/XVps1T/cBggDAPTWEewlEI0sKExvWgUXyUs3asRoSAWR7ioa71JOpVdrpVdqU0llF+sUF+sUl+tkV2ql1xniGzXiGzXS6wzptVrllRrl5Rrl1Vr15RrlZQYKQnWyG7WSK7S1y9Wr1xniyzXiqwzZzQbVRbr0ar3mSp36ej0AjFgthvwyQ34BnFJdoEsv1sgu1yrO0mXna9UX69cv1KnOMRQXauWX62RXGxSX66Tn6aJrjcpLNZJrtfIrNdKrDNllhvQCXXq+VnmGoT5bv3GmfuNMnfYvhvJ8nfxKvexanegKY+0q2szU02t1sqsoZiSkST0GxV6pBZYDvGEAz1ypBT1ykS6+Vr34qmFucFln9USiOQBI87eR7g85Xf40zdliT1cR5P86AOA5DiBQbjUoy7nM/JWBUekqykDFAVSJrxaP3TDGRwDgMBqNhsLRJZXldZvgLGn+Cm3tWo3kUo3kYo3sUo0spZSB8qeTnmfIzjNkF0EV8eUa4VU6JPFluuQyHepVXKyBBA5B0Ed5LteIL6HmXaUD5kuokVdpki2ii6/SgPGo5cAw2JbzDMU5Boj+mN5LQJT4IkOCmgHYLgNjAMWryM6BWorzsVriyzWrV2v4V2tWMTOg/FRSqCWVFFjCkF5mSC8x5JcYAJauMEDJJRTYLpHmn9dOD63obd7Yet6f6Xd9AL+Fn0kFPrxj7do2BYTn+JkulHTjcrr8mDczrohJOAyZFADA9qp19UzlwiXq2iWa+CId3AWnQTXiCynTuRrxWYb0LEN8DlQRXaSLLtHXLoFUhKoWQ73nauQYgXt5uhgSPHuJJr5EE1+gyy/S5FeqxVerRVeqxbEMTQTtv0gXX6KLYK1zNfKzNfKzdNlZuuQCTXSBJrxIW71AE56ni87TJKh8MH2EI+lFuvQ8TQLpAk10kSa8XL16pZp/pZp/kSZEhcSEY7YlzaTuGYwTwFKNDAIPhmEXa2RgaEKae1aXA4DD8Kv6/jbgwztmTQ4AMFdsZTKO4xlX3NJ9CHJfBYBFpfUFU3CKMHeOIjhHXTtXLT5DyyL9RRf+RReeoQnPoXS+eu18tRAjWHiGJv6LLv6LJj1Nl/5Fk6MkRQ9B/gxNeq5aeqZafqZafr5afIEqPl8N6AJVfIEaE3Wheg3S+Wqg6AxNfK5afI4mPB8rF1xA9YLCaul5qvQCSpcoUkgXqKAQikUlCy9RhJdRgi5CK6IygYSvUEb+lJ6hQQOEWI+cI84+BSMAg80bPYApoENw8eZM2NUDOQDY1TUJJzKO4xlXTDDg+x4mAAAwBkwDbU0BQQA4WTF/tkpwlrJ6hiL8k5oG/VUtSkq7CTldvXq6evVP6ipkOEMRbhF19QxKf1KFp6uFp6nik9Xik1TZSarsNFWK0Z9UMUZnKMKzcQlnsTx19SwlRlAgSCnCM7hy0FJYiFY/SxafJYvPkcXnqqRnydKzZPEZijhmIVrrHHn1QhUgTB1m9lmq6CxVhB3iM7s54WvlYrSxYmgzxny2ciYHAN/313R4tOcAINW+yDiOZ1wxVcsOhG9vAAhHkAUVGAGcrJj/q4r/F3ntNEV0KhmdJAuTUlLmXQupa6fI/FNk/knKKpR2iiyEdJoi+ou8Buk0Ze0UdQ0KQctFCWdPU9bOkAVnyALIH8tTwOFpCtYEySmK5BQF1IWFaEaEFuLKqfzT1OXTVP5pigCre4IqOl4tOl69drxacKKaf5rK/4vCP0MGBF0ERaWY7uqNZH7GGYk6BLXqFEV0omrtTwIGAEg0jAI5+jD/QK6jnJLD5YEcAKTaHxnH8YwrpmpZ9vlg9EejBG7VIBwBgPWhYCIBAsCJ8rk/SSt/Vq2erFo7kQ4lRYWTZOFuQk5WCU5WCdCzohNVohNVYpREJ0mik1Vrp0lrp0mAAaU1tERwmiSA5cBC0srJqrWTVYI/Sct/kpbRPDg8WbUCxJJjwo+RRceqxMeAcChW8GfV6imAYeLjZAkgihhYTlk9Rlk+Rlk8QV45QQbVodnHyIJj1NWj1fyj1fxjVP5xKv8khX+KvHqKDPyDJwzA8IX4/G5+2K0c+v8YGUR82K6YSUTB6YrpJwzeMN9o8+YAIPs/nsOtIQcAqfZPxnE844qpWpZ9vhQB4HkL/3jZ7KnKlZOVghOk1ePZpBMk/gkS/zhJeJwkOkqSQDpOlJwgik4QhaeIq5BOkFYhwcPjJOEJ0uopIv8UkX+UJDpaJYRy/qgSHamSHK0SHq0SHiGL/oiXHycJARtJdJwkPEXknyYunyYunyICvVh5TAKZ/wd59WjVKlARNwBYWMU/Sl4+Sl7+g8wH8oE02VGS5Bhx7RhRcIwoSNFLkHlnunf1o1XC48AD/BOk5eMkYN7vlSsnynmPanksviEHANn/6Rx2DTkASLWHMo7jGVdM1bID4YtPAQFlsQkDOAJADwNRZE5pfd68dLxk8kTFwvGKlaOVfJRWE9J44IPhbyv9g7T2B0mwMz1CXD1C5CekRyv58VC49gdReIQkBkSU/kEUH61cO1q5doyweqySD9OjlcCGY4TVo5WrRyrXjhDBqaOV/N+Ja78T16CdvxFF/0cS/UZa+420BjOgSuXyEeLq78S1eK3lE5WLJ4lLx4krf5DWjpCEfxCFf5DWjqNx/Hfi6m+kGPPRytWYAZX8Y6SVY6SVP0iCI1WCIyTUVKL8CFGKyuQDk4gg/YMkOEYEHsBKYDlME3wIW7R3eowoiPsTiI0fCv6oXDpZNvmoljfAN1p8SPZfAziQqzOnJFMPZAsAYNSD0jO17Yesd8BNPkA/wzeBQafgwADMCIUQxIMgM2rXm+a5k0VDR0umjxJWjlTwfyPwf6sQpJj+jyD4H4GfTsqP8wv+rxIlwhpaXRBPt0n7nbD6O2H1t0pAv1cKfq8UJOT/rzJWMZ6JyY8fAvNAW4CRQDK+/H8EfsyGuJB4Q/i/AUWA/kcU/I+4CqhS+Bug1d8qBahJ29LfKlBF29PfCPwjFYIjFWmkaANBG6FS2Oo/KpeOV8yc+jL8tJY3sGrRBxAfggTQTzv8kD+2nNHf7IFsAQB8P+iAo+E3e+OHFHBQI4wYAOCmg8AqoGg0HEQQVwSZVtjyGifPfO46VjD8RzH3eNls6nSsbPZo6cwfZUno9xLevtCRYl5SOlo6k5SOFCfXm9TIPQp3Mz6pMUeKeUmNOVY6c6x05kRJqnSslPdHMfdICSDUgOnfS6aPFPOOFY8fL2D9+bHtaTW7f1mv9yF+gN9gM6cf8tLPGf3NHkgbALBbzoRMUktyAJDULfteeBB+jt/27wSAKIJ4wsiy2kromLpb3n21bOgKYfR6Bft6xdC3081K9r7Q3wR2UrpRPoSn62WD18sGr5UP7qY03RbtJiepMX8T2HhjviV/kzB4A9DwdcLIdcLYdcLYDcLITcLg7bKe/0rbSxrZEwI1eA8A3KkFECSYw4B9/1X+EAKzCwA/hAuyaiQGk1nVcmDCwbY/cUKfBETQGaBIKBxVbtq6uYKKdm5+y/Qn5nQhc+oLk5M6FbdwDoBKmoEWfFraMlHCnChtmUgoPwBjEjTirdqZT9ue5rEvLWNfmseLWiaKmrmQvjRPlLdwSK0jnaOzIqXe5w8ikSASdiMRTw4ADuxHdKgUpQ0Ah8r6w2/MzwQA8N5/OwCEwP1jJBAJeM0WG1+iGV2Q9s1Ie3ji/mn+IG8pdRriLh4ADaNaUkkPwJgh7mIqlkCetO2ZnBsCtDA4uTgwuTwwyYc0xF0am1leEUoNRnMw4EPCfhD9o94cABz+YJINC/cNAA5iFiIbDsiyzH0HgO/lZ3z0D6GDAHQEEEKiQSTqR4K+gMdptdrXN61SrUWybpZrNhQadeqkVKuS/mn270+9DmQlpGq1WqVRq9VqaABmxm5qkxq5R+FucnZaAktUKhXeEiyvVIPy1CmuV6vWaNUanVKjV2oMSo1eodZpNwxmi83j8YRDASTiB92XmwLKchzYL/FZiicJUSWTvYCgZfvVzp1ysJYnZHZy7l2SUB073K0WxpCQSYV/N55vKYdmfIuEzOriAQAOAmJTQNEQmEZAMSAaDAR8fo836PWFAuDPlzoFA76k5Pd59oUCfq/f792ZhoL+YNAP0yBqMDRjN6VJjdyjMIAqTZomtQezIYA6BEtT9yRaxeP3uVBCvef1+b0+ny/g8wX8/qA/EAqGwKxdJAKf/YIn+ZldFblaB+kBfAjaL71pjwDwRiTN75dlCXKS6koAroQqSQ/TlfMt/EkN+MZCzJ5vlJNBdTwGwDwQEg6AQQCYSg4g0RASDkUjITCfEA2DsJJaCl5IzT5FUWP2TiOREKRDYk+CtSn7M4iOzGAa920EbP4MvuccBcv/AQBEY090grmVoBn8Hg68CvbbzyDu7Wbs1wEA1kzKhxeKNy4V+zB+vJBU8rBiKpyQB1OUkNlNQgIbdrgbP7bgFXLuVLpHxR/qFFgGCuM+lgL7wUEEpVAsE/9wGDpEiL01tnc+237ADE49k1WTUjcjgRP6O5UUrbj16kZCc6DYMPoEP4SmsIMS2HKHP70HkgZ2MAXkcDhg4/Ece0R2LFDuwYP3JsaPL0wlj4+zqfAnBOhUqmO24TN76ErKloqiPWQeslMwlIBb+50hKfZiGDwB7v1jtu8d9BPOJojd90Ps2XWKmX03IEFgimZgbAnVv3oIK0K2bdcSrncgD+6JzjbG3MGv4AF8eMfaGwMA/DmYj08aYpxbmaRBcOv0jhzGv+PMVwoyCKyYrhTrJvB/tRaeH7P+q7Uwzh8hswUA2HIRLAbtZX9CmN/93hWTlssk9cBeTt5xDlutC0WhXQZ7EB2rxYZouZe/djju1yvAB3ms9VsAgIU2GPpTAQBMyt6ZjONjZhWxhuxtFXYW409RHcaPSfjpMvEIgntrNGmoit1i7nZut/L4FkMpQ0ZKk0s/h7QMriWIAbG+gBF/a6YuBJ7WRNFHNTkwyMC5P1GV/QSAtNwCFadVBTKnGJGTSk5X6bfoSmrAD16Ix4CtqR54W48F9lgbQeyBPLn0O3gA/drv9v7aivWRGABAGABIAMHgB788c+an74GvAACcQMfSPUYA6avOsEY2gnK6wLCH6UlFJS3cQ8ghPIWL77iwAktRBMCyqPE4HnzcyeUPygMQAOIp9lwGu7LwHQQBADuVy/xCHtgLAKAb8ByHIZDtOwDsr8CkLkpa+ANdZfg55diEcuzmcds4ALQI3vijYS716ZeDcAWGYClmsm1TimZgbGlOkUWRSBjQ1tYd+DwmNT5HlO3W5uQfUg/gwztm4rYXwWBpUj6swkFm9j1eZ0Mg3iH7Kx8v+cDy2wEAzu3EF33CWAJNieXh3SXAgtQp621J3ZRYK7JsUVr2oLakVQMCANZx+OiP5fECs9zanPhD6oGkgX0bAOA5YB42JcW4BtmSpjtdkoH8nUJ+0JIU/fm9WrcjKqL3/rkbyP3rj32/ALARGD7Q4/P7Z3tO0pYH0u3HdPmhpsxqbVkZz+HDe7wMyQEA5oqDy+xXjx6cxTlN++qB3AWwr+78bsLS7cd0+WHDMqu10ylZB4CdKrEG7DyVGwHs9Emu5BfxwH79pH8Rdx3aZqbbj+nyw4ZnVmun03IAsNMn36dkv3r0+1if0/rNHshdAN/swkMhIN1+TJcfNjKzWjsdlAOAnT75PiX71aPfx/qc1m/2QO4C+GYXHgoB6fZjuvywkZnV2umgHADs9Mn3KdmvHv0+1ue0frMHchfAN7vwUAhItx/T5YeNzKzWTgflAGCnT75PyX716PexPqf1mz2QuwC+2YWHQkC6/ZguP2xkZrV2OigHADt98n1K9qtHv4/1Oa3f7IHcBfDNLjwUAtLtx3T5YSMzq7XTQbsCgN1uBy/8xL4ZtLNiriTngZwHch7IeeCn8gAM+A6H4/9BAAiHwbfiIErAcxH0D+JPKmkkAr5ClPCXtBDy4E/hde1WniAZO8Tz712InY1GwUfy8BXxeTwbBpsJ/FBCAuduhTvZfoUSvEvhpfUrtDrXxpwHDqcHsLt8+MOEAd9ut/8/t9v9U0FbrjE5D+Q8kPNAzgMpeMDtdv8/vV7v8/kcDofT6bTb7fjUjv454n8Jh/Hi2H941m63w+OEQ4fDkVAdf4hn3q08QR12iK+LacHMwNjwmaRV8AwJeYwfE7tHCVYX8mCHX82ky/9VgbsxHIyidLWky4+1LuOKmIRDkvlpGgL9mW5z0uXPuNcORtHBaEnLCfjw7nA4vF6vTqf7/5yxA97o0p+CAAAAAElFTkSuQmCC)"
      ]
    },
    {
      "cell_type": "markdown",
      "metadata": {
        "id": "y5M9b-UHDI6q"
      },
      "source": [
        "## ABC &mdash; Abstract Base Classes\n",
        "\n",
        "Бывает так, что мы хотим обозначить какой-то список методов, которые должны реализовывать все классы одного семейства, но не можем предоставить дефолтной реализации для этих методов. Например, нам нужно написать код, который вычислял бы сумму площадей или периметров списка фигур, но для каждого типа фигуры эти величины вычисляются по-своему, а всё же хотелось бы как-то объединить их всех в один родительский класс и показать, какими методами должна обладать фигура.\n",
        "\n",
        "В таком случае нам на помощь приходит модуль `abc` и декоратор `@abstractmethod`. Если мы отнаследуем наш класс от класса `abc.ABC` и добавим к методам декоратор `@abc.abstractmethod`, все классы, наследующиеся от нашего будут обязаны объявить эти методы, а иначе питон выдаст ошибку.\n",
        "\n",
        "Давайте поробуем:"
      ]
    },
    {
      "cell_type": "code",
      "execution_count": 33,
      "metadata": {
        "id": "VjKu_B2dDI6r"
      },
      "outputs": [],
      "source": [
        "import abc\n",
        "\n",
        "\n",
        "class Shape(abc.ABC):\n",
        "    \"\"\"\n",
        "    Shape class capable of calculating its area and perimeter\n",
        "    \"\"\"\n",
        "\n",
        "    @abc.abstractmethod\n",
        "    def get_area(self) -> float:\n",
        "        \"\"\"\n",
        "        Method for getting the area of the shape\n",
        "        \"\"\"\n",
        "        pass\n",
        "\n",
        "    @abc.abstractmethod\n",
        "    def get_perimeter(self) -> float:\n",
        "        \"\"\"\n",
        "        Method for getting the perimeter of the shape\n",
        "        \"\"\"\n",
        "        pass"
      ]
    },
    {
      "cell_type": "code",
      "execution_count": null,
      "metadata": {
        "colab": {
          "base_uri": "https://localhost:8080/"
        },
        "id": "52k0ELeymbBa",
        "outputId": "81758418-3ac8-4074-ec2d-687778275a6b"
      },
      "outputs": [
        {
          "data": {
            "text/plain": [
              "Ellipsis"
            ]
          },
          "execution_count": 30,
          "metadata": {},
          "output_type": "execute_result"
        }
      ],
      "source": [
        "..."
      ]
    },
    {
      "cell_type": "markdown",
      "metadata": {
        "id": "LrG8z_O9DI6r"
      },
      "source": [
        "Попробуем создать класс, который наследуется от `Shape`, но не реализует эти методы:"
      ]
    },
    {
      "cell_type": "code",
      "execution_count": 34,
      "metadata": {
        "id": "UPePamX8DI6r"
      },
      "outputs": [],
      "source": [
        "class BadShape(Shape):\n",
        "    pass"
      ]
    },
    {
      "cell_type": "code",
      "execution_count": 35,
      "metadata": {
        "colab": {
          "base_uri": "https://localhost:8080/",
          "height": 143
        },
        "id": "ZHExnqlHUIku",
        "outputId": "4da53ec0-e612-481a-d127-96456e3d58d5"
      },
      "outputs": [
        {
          "ename": "TypeError",
          "evalue": "Can't instantiate abstract class BadShape with abstract methods get_area, get_perimeter",
          "output_type": "error",
          "traceback": [
            "\u001b[1;31m---------------------------------------------------------------------------\u001b[0m",
            "\u001b[1;31mTypeError\u001b[0m                                 Traceback (most recent call last)",
            "Cell \u001b[1;32mIn[35], line 1\u001b[0m\n\u001b[1;32m----> 1\u001b[0m bad_shape \u001b[38;5;241m=\u001b[39m \u001b[43mBadShape\u001b[49m\u001b[43m(\u001b[49m\u001b[43m)\u001b[49m\n",
            "\u001b[1;31mTypeError\u001b[0m: Can't instantiate abstract class BadShape with abstract methods get_area, get_perimeter"
          ]
        }
      ],
      "source": [
        "bad_shape = BadShape()"
      ]
    },
    {
      "cell_type": "markdown",
      "metadata": {
        "id": "HUVv30kzDI6s"
      },
      "source": [
        "Как видим питон не дал нам создать объект такого класса (но сам класс создать дал!)\n",
        "\n",
        "Так же мы не сможем создать объект самого абстрактного класса `Shape`:"
      ]
    },
    {
      "cell_type": "code",
      "execution_count": 37,
      "metadata": {
        "colab": {
          "base_uri": "https://localhost:8080/",
          "height": 177
        },
        "id": "4wNvuIx9DI6s",
        "outputId": "6c3576fb-38c3-4c63-ad98-4a5bf85fe658"
      },
      "outputs": [
        {
          "ename": "TypeError",
          "evalue": "Can't instantiate abstract class Shape with abstract methods get_area, get_perimeter",
          "output_type": "error",
          "traceback": [
            "\u001b[1;31m---------------------------------------------------------------------------\u001b[0m",
            "\u001b[1;31mTypeError\u001b[0m                                 Traceback (most recent call last)",
            "Cell \u001b[1;32mIn[37], line 1\u001b[0m\n\u001b[1;32m----> 1\u001b[0m shape \u001b[38;5;241m=\u001b[39m \u001b[43mShape\u001b[49m\u001b[43m(\u001b[49m\u001b[43m)\u001b[49m\n",
            "\u001b[1;31mTypeError\u001b[0m: Can't instantiate abstract class Shape with abstract methods get_area, get_perimeter"
          ]
        }
      ],
      "source": [
        "shape = Shape()"
      ]
    },
    {
      "cell_type": "markdown",
      "metadata": {
        "id": "vrYjLxHGDI6s"
      },
      "source": [
        "Теперь реализуем нормальные фигуры:"
      ]
    },
    {
      "cell_type": "code",
      "execution_count": 38,
      "metadata": {
        "id": "cUyS3dowDI6s"
      },
      "outputs": [],
      "source": [
        "import math\n",
        "\n",
        "\n",
        "class Circle(Shape):\n",
        "    \"\"\"\n",
        "    A circle with a some radius\n",
        "    \"\"\"\n",
        "\n",
        "    def __init__(self, radius: float) -> None:\n",
        "        self.radius = radius\n",
        "\n",
        "    def get_area(self) -> float:\n",
        "        return math.pi * self.radius**2\n",
        "\n",
        "    def get_perimeter(self) -> float:\n",
        "        return 2 * math.pi * self.radius\n",
        "\n",
        "\n",
        "class Rectangle(Shape):\n",
        "    \"\"\"\n",
        "    A rectangle with some width and height\n",
        "    \"\"\"\n",
        "\n",
        "    def __init__(self, width: float, height: float) -> None:\n",
        "        self.width = width\n",
        "        self.height = height\n",
        "\n",
        "    def get_area(self) -> float:\n",
        "        return self.width * self.height\n",
        "\n",
        "    def get_perimeter(self) -> float:\n",
        "        return 2 * (self.width + self.height)"
      ]
    },
    {
      "cell_type": "markdown",
      "metadata": {
        "id": "AIKL7kN8DI6t"
      },
      "source": [
        "Теперь мы можем написать функции, которая будет работать с нашими объектами `Shape`, и они могут быть уверены, что все классы, наследующиеся от `Shape` будут реализовывать нужные им методы:"
      ]
    },
    {
      "cell_type": "code",
      "execution_count": 39,
      "metadata": {
        "id": "2g8KaBvlDI6t"
      },
      "outputs": [],
      "source": [
        "def get_areas_sum(shapes):\n",
        "    # Проверяем, что все наши объекты наследуются от Shape:\n",
        "    for shape in shapes:\n",
        "        if not isinstance(shape, Shape):\n",
        "            raise ValueError(\n",
        "                f\"Only Shape objects are allowed, you tried to pass object of type {type(shape)}\"\n",
        "            )\n",
        "    # if not all(isinstance(shape, Shape) for shape in shapes):\n",
        "    #   raise ValueError(\"Only Shape objects are allowed\")\n",
        "    return sum(shape.get_area() for shape in shapes)\n",
        "\n",
        "\n",
        "def get_perimeters_sum(shapes):\n",
        "    # Проверяем, что все наши объекты наследуются от Shape:\n",
        "    if not all(isinstance(shape, Shape) for shape in shapes):\n",
        "        raise ValueError(\"Only Shape objects are allowed\")\n",
        "    return sum(shape.get_perimeter() for shape in shapes)"
      ]
    },
    {
      "cell_type": "markdown",
      "metadata": {
        "id": "OjBSNNdBDI6u"
      },
      "source": [
        "Попробуем использовать наши функции по назначению:"
      ]
    },
    {
      "cell_type": "code",
      "execution_count": 40,
      "metadata": {
        "id": "XpUhqOqkAAu0"
      },
      "outputs": [],
      "source": [
        "my_circle = Circle(10)\n",
        "del my_circle.radius"
      ]
    },
    {
      "cell_type": "code",
      "execution_count": 41,
      "metadata": {
        "colab": {
          "base_uri": "https://localhost:8080/"
        },
        "id": "wpsL5gDSDI6u",
        "outputId": "2c7a6f8d-53ef-4870-bc84-89c7a970a292"
      },
      "outputs": [
        {
          "name": "stdout",
          "output_type": "stream",
          "text": [
            "4.141592653589793\n",
            "21.707963267948966\n",
            "10.283185307179586\n",
            "28.84955592153876\n"
          ]
        }
      ],
      "source": [
        "print(get_areas_sum([Circle(1.0), Rectangle(1.0, 1.0)]))\n",
        "print(get_areas_sum([Circle(1.0), Circle(2.0), Rectangle(3.0, 2.0)]))\n",
        "\n",
        "print(get_perimeters_sum([Circle(1.0), Rectangle(1.0, 1.0)]))\n",
        "print(get_perimeters_sum([Circle(1.0), Circle(2.0), Rectangle(3.0, 2.0)]))"
      ]
    },
    {
      "cell_type": "markdown",
      "metadata": {
        "id": "7ZK91JtIDI6u"
      },
      "source": [
        "Попробуем подать неправильные объекты:"
      ]
    },
    {
      "cell_type": "code",
      "execution_count": 42,
      "metadata": {
        "colab": {
          "base_uri": "https://localhost:8080/",
          "height": 299
        },
        "id": "Qu6_wxojDI6u",
        "outputId": "213b223a-e914-4987-dac1-71ee89a59b20"
      },
      "outputs": [
        {
          "ename": "ValueError",
          "evalue": "Only Shape objects are allowed, you tried to pass object of type <class 'str'>",
          "output_type": "error",
          "traceback": [
            "\u001b[1;31m---------------------------------------------------------------------------\u001b[0m",
            "\u001b[1;31mValueError\u001b[0m                                Traceback (most recent call last)",
            "Cell \u001b[1;32mIn[42], line 1\u001b[0m\n\u001b[1;32m----> 1\u001b[0m \u001b[38;5;28mprint\u001b[39m(\u001b[43mget_areas_sum\u001b[49m\u001b[43m(\u001b[49m\u001b[43m[\u001b[49m\u001b[43mCircle\u001b[49m\u001b[43m(\u001b[49m\u001b[38;5;241;43m1.0\u001b[39;49m\u001b[43m)\u001b[49m\u001b[43m,\u001b[49m\u001b[43m \u001b[49m\u001b[43mRectangle\u001b[49m\u001b[43m(\u001b[49m\u001b[38;5;241;43m1.0\u001b[39;49m\u001b[43m,\u001b[49m\u001b[43m \u001b[49m\u001b[38;5;241;43m1.0\u001b[39;49m\u001b[43m)\u001b[49m\u001b[43m,\u001b[49m\u001b[43m \u001b[49m\u001b[38;5;124;43m\"\u001b[39;49m\u001b[38;5;124;43mSTRING\u001b[39;49m\u001b[38;5;124;43m\"\u001b[39;49m\u001b[43m]\u001b[49m\u001b[43m)\u001b[49m)\n",
            "Cell \u001b[1;32mIn[39], line 5\u001b[0m, in \u001b[0;36mget_areas_sum\u001b[1;34m(shapes)\u001b[0m\n\u001b[0;32m      3\u001b[0m \u001b[38;5;28;01mfor\u001b[39;00m shape \u001b[38;5;129;01min\u001b[39;00m shapes:\n\u001b[0;32m      4\u001b[0m     \u001b[38;5;28;01mif\u001b[39;00m \u001b[38;5;129;01mnot\u001b[39;00m \u001b[38;5;28misinstance\u001b[39m(shape, Shape):\n\u001b[1;32m----> 5\u001b[0m         \u001b[38;5;28;01mraise\u001b[39;00m \u001b[38;5;167;01mValueError\u001b[39;00m(\n\u001b[0;32m      6\u001b[0m             \u001b[38;5;124mf\u001b[39m\u001b[38;5;124m\"\u001b[39m\u001b[38;5;124mOnly Shape objects are allowed, you tried to pass object of type \u001b[39m\u001b[38;5;132;01m{\u001b[39;00m\u001b[38;5;28mtype\u001b[39m(shape)\u001b[38;5;132;01m}\u001b[39;00m\u001b[38;5;124m\"\u001b[39m\n\u001b[0;32m      7\u001b[0m         )\n\u001b[0;32m      8\u001b[0m \u001b[38;5;66;03m# if not all(isinstance(shape, Shape) for shape in shapes):\u001b[39;00m\n\u001b[0;32m      9\u001b[0m \u001b[38;5;66;03m#   raise ValueError(\"Only Shape objects are allowed\")\u001b[39;00m\n\u001b[0;32m     10\u001b[0m \u001b[38;5;28;01mreturn\u001b[39;00m \u001b[38;5;28msum\u001b[39m(shape\u001b[38;5;241m.\u001b[39mget_area() \u001b[38;5;28;01mfor\u001b[39;00m shape \u001b[38;5;129;01min\u001b[39;00m shapes)\n",
            "\u001b[1;31mValueError\u001b[0m: Only Shape objects are allowed, you tried to pass object of type <class 'str'>"
          ]
        }
      ],
      "source": [
        "print(get_areas_sum([Circle(1.0), Rectangle(1.0, 1.0), \"STRING\"]))"
      ]
    },
    {
      "cell_type": "markdown",
      "metadata": {
        "id": "S47Y7IOcDI6u"
      },
      "source": [
        "Питон так же имеет множество встроенных абстрактных классов, которые вы можете использовать, для проверки того, что объект удовлетворяет определённому интерфейсу: https://docs.python.org/3/library/collections.abc.html"
      ]
    },
    {
      "cell_type": "code",
      "execution_count": 43,
      "metadata": {
        "id": "U64s8X-X7vVj"
      },
      "outputs": [],
      "source": [
        "from collections.abc import *\n",
        "\n",
        "\n",
        "class MyStorage(Sequence):\n",
        "    def __getitem__(self):\n",
        "        pass\n",
        "\n",
        "    def __len__(self):\n",
        "        pass\n",
        "\n",
        "\n",
        "storage = MyStorage()"
      ]
    },
    {
      "cell_type": "markdown",
      "metadata": {
        "id": "7HTzGbvDDI6u"
      },
      "source": [
        "### [Dataclasses](https://docs.python.org/3/library/dataclasses.html)"
      ]
    },
    {
      "cell_type": "markdown",
      "metadata": {
        "id": "OURss0OvDI6v"
      },
      "source": [
        "Зачастую нам нужен небольшой класс, который не имеет своих методов, но просто хранит в себе какие-то данные. Например, класс человека с именем, фамилией и возрастом.\n",
        "\n",
        "Если мы напишем для такой цели полноценный питоновский класс, мы получим громоздкую конструкцию с множеством повторений:"
      ]
    },
    {
      "cell_type": "code",
      "execution_count": 44,
      "metadata": {
        "colab": {
          "base_uri": "https://localhost:8080/"
        },
        "id": "DyDykQeQDI6v",
        "outputId": "75458d6f-fcce-4013-b0a7-bd263a89a425"
      },
      "outputs": [
        {
          "data": {
            "text/plain": [
              "<__main__.Person at 0x1fd09d62a40>"
            ]
          },
          "execution_count": 44,
          "metadata": {},
          "output_type": "execute_result"
        }
      ],
      "source": [
        "class Person:\n",
        "    def __init__(self, name, surname, age):\n",
        "        self.name = name\n",
        "        self.surname = surname\n",
        "        self.age = age\n",
        "\n",
        "\n",
        "person = Person(\"Stern\", \"Morgenov\", 13)\n",
        "person"
      ]
    },
    {
      "cell_type": "markdown",
      "metadata": {
        "id": "8IiIxWFwDI61"
      },
      "source": [
        "И это мы не ещё определили такие методы как `__repr__` и `__eq__` для понятного представления и сравнения людей.\n",
        "\n",
        "Чтобы не заниматься всей этой ерундой питон предоставляет удобный способ создания классов, нужных исключительно для хранения данных, определённый во встроенном модуле `dataclasses`:"
      ]
    },
    {
      "cell_type": "code",
      "execution_count": 46,
      "metadata": {
        "colab": {
          "base_uri": "https://localhost:8080/"
        },
        "id": "SnizQo5EDI61",
        "outputId": "defa212d-ded9-44f9-cc45-5b779b23db82"
      },
      "outputs": [
        {
          "name": "stdout",
          "output_type": "stream",
          "text": [
            "Person(name='Stern', surname='Morgenov', age=13)\n",
            "Person(name='Stern', surname='Morgenov', age=14)\n"
          ]
        }
      ],
      "source": [
        "from dataclasses import dataclass\n",
        "\n",
        "\n",
        "@dataclass\n",
        "class Person:\n",
        "    name: str\n",
        "    surname: str\n",
        "    age: int\n",
        "\n",
        "    def birthday(self):\n",
        "        self.age += 1\n",
        "\n",
        "\n",
        "person = Person(\"Stern\", \"Morgenov\", 13)\n",
        "print(person)\n",
        "person.birthday()\n",
        "print(person)"
      ]
    },
    {
      "cell_type": "markdown",
      "metadata": {
        "id": "_BHChG0IDI62"
      },
      "source": [
        "Стоит отметить, что аннотация типов тут является обязательной частью синтаксиса.\n",
        "Данная конструкция автоматически создаёт для нас класс `Person` с определёнными методами `__init__`, `__repr__` и даже `__eq__`.\n",
        "\n",
        "При создании объекта параметры будут подаваться в том же порядке, в котором они объявлены в классе.\n",
        "\n",
        "Более тонко настроить, какие именно методы будут автоматически добавляться можно при помощи параметров самого декоратора. Например, если мы не хотим, чтобы за нас создавали `__repr__`, мы можем сделать так:"
      ]
    },
    {
      "cell_type": "code",
      "execution_count": 48,
      "metadata": {
        "id": "G9mwjRLPDI62",
        "outputId": "4fda06ee-d709-4cc2-8932-587f7b1cb438"
      },
      "outputs": [
        {
          "data": {
            "text/plain": [
              "<__main__.PersonWORepr at 0x1fd09d6ae90>"
            ]
          },
          "execution_count": 48,
          "metadata": {},
          "output_type": "execute_result"
        }
      ],
      "source": [
        "@dataclass(repr=False)\n",
        "class PersonWORepr:\n",
        "    name: str\n",
        "    surname: str\n",
        "    age: int\n",
        "\n",
        "\n",
        "person_wo_repr = PersonWORepr(\"Stern\", \"Morgenov\", 13)\n",
        "person_wo_repr"
      ]
    },
    {
      "cell_type": "markdown",
      "metadata": {
        "id": "2J3raCHSDI62"
      },
      "source": [
        "Как видим, метод `__repr__` не добавился, и информация об объекте красиво не вывелась."
      ]
    },
    {
      "cell_type": "markdown",
      "metadata": {
        "id": "dGxyQc9RDI62"
      },
      "source": [
        "dataclass'ы поддерживают значения по умолчанию:"
      ]
    },
    {
      "cell_type": "code",
      "execution_count": 49,
      "metadata": {
        "colab": {
          "base_uri": "https://localhost:8080/"
        },
        "id": "SrtFJJrwDI62",
        "outputId": "a567719d-3b4c-4e98-ea64-4127e9ad7040"
      },
      "outputs": [
        {
          "data": {
            "text/plain": [
              "PersonWithDefaultAge(name='Stern', surname='Morgenov', age=28)"
            ]
          },
          "execution_count": 49,
          "metadata": {},
          "output_type": "execute_result"
        }
      ],
      "source": [
        "@dataclass\n",
        "class PersonWithDefaultAge:\n",
        "    name: str\n",
        "    surname: str\n",
        "    age: int = 28\n",
        "\n",
        "\n",
        "person_with_default_age = PersonWithDefaultAge(\"Stern\", \"Morgenov\")\n",
        "person_with_default_age"
      ]
    },
    {
      "cell_type": "markdown",
      "metadata": {
        "id": "qU8QUoP-DI62"
      },
      "source": [
        "Как и в аргументах функций, все переменные со значениями по умолчанию должны стоять после всех переменных без них."
      ]
    },
    {
      "cell_type": "markdown",
      "metadata": {
        "id": "nHfqsn05DI63"
      },
      "source": [
        "Last but not least, иногда вам может быть нужна дополнительная логика при задании полей dataclass'а. Например, вы хотите добавить изменяемый объект в качестве значения по умолчанию. Для таких случаев в модуле `dataclasses` есть `field`:"
      ]
    },
    {
      "cell_type": "code",
      "execution_count": 50,
      "metadata": {
        "id": "Wx4CfV83DI63"
      },
      "outputs": [],
      "source": [
        "from dataclasses import field\n",
        "from typing import List\n",
        "\n",
        "\n",
        "@dataclass\n",
        "class Student:\n",
        "    name: str\n",
        "    surname: str\n",
        "    age: int = 28\n",
        "    classes: List[int] = field(default_factory=lambda: [1, 2, 3])\n",
        "\n",
        "\n"
      ]
    },
    {
      "cell_type": "code",
      "execution_count": 51,
      "metadata": {
        "colab": {
          "base_uri": "https://localhost:8080/"
        },
        "id": "JL-eu9gwfwXP",
        "outputId": "b2d5d3fe-5257-43fc-b7ff-83e6b944c361"
      },
      "outputs": [
        {
          "name": "stdout",
          "output_type": "stream",
          "text": [
            "Student(name='Stern', surname='Morgenov', age=28, classes=[1, 2, 3])\n",
            "{'name': 'Stern', 'surname': 'Morgenov', 'age': 28, 'classes': [1, 2, 3], 'somename': 100}\n"
          ]
        }
      ],
      "source": [
        "student = Student(\"Stern\", \"Morgenov\")\n",
        "print(student)\n",
        "student.somename = 100\n",
        "print(student.__dict__)\n",
        "# del student.name\n",
        "# print(student)"
      ]
    },
    {
      "cell_type": "markdown",
      "metadata": {
        "id": "7LSLxDulDI63"
      },
      "source": [
        "Параметр `default_factory` в `field` принимает функцию, которая создаёт дефолтное значение.\n",
        "(Подробнее, почему изменяемые объекты в дефолтах &mdash; это плохо, спросите у семинариста или почитайте [тут](https://docs.quantifiedcode.com/python-anti-patterns/correctness/mutable_default_value_as_argument.html))"
      ]
    },
    {
      "cell_type": "markdown",
      "metadata": {
        "id": "2ivq4RUtDI63"
      },
      "source": [
        "dataclass'ы также поддерживают наследование.\n",
        "\n",
        "Подробнее о dataclass'ах можно почитать [в документации](https://docs.python.org/3/library/dataclasses.html) или [тут](https://habr.com/ru/post/415829/)."
      ]
    },
    {
      "cell_type": "markdown",
      "metadata": {
        "id": "n0FTk_gZMdf9"
      },
      "source": [
        "## Слоты\n",
        "\n",
        "Чтобы сделать наши классы ещё более управляемыми, мы можем жёстко ограничить используемые имена атрибутов!\n"
      ]
    },
    {
      "cell_type": "code",
      "execution_count": 52,
      "metadata": {
        "id": "qqr71tVHDI63"
      },
      "outputs": [],
      "source": [
        "class SlotsClass:\n",
        "\n",
        "    __slots__ = (\"foo\", \"bar\")"
      ]
    },
    {
      "cell_type": "code",
      "execution_count": 53,
      "metadata": {
        "colab": {
          "base_uri": "https://localhost:8080/"
        },
        "id": "pz7WLnZshHaF",
        "outputId": "052f4d93-c0df-4e66-998e-70ded2b43d09"
      },
      "outputs": [
        {
          "name": "stdout",
          "output_type": "stream",
          "text": [
            "5\n"
          ]
        },
        {
          "data": {
            "text/plain": [
              "100"
            ]
          },
          "execution_count": 53,
          "metadata": {},
          "output_type": "execute_result"
        }
      ],
      "source": [
        "obj = SlotsClass()\n",
        "obj.foo = 5\n",
        "print(obj.foo)\n",
        "obj.bar = 100\n",
        "obj.bar"
      ]
    }
  ],
  "metadata": {
    "colab": {
      "provenance": []
    },
    "kernelspec": {
      "display_name": "pp310 (env)",
      "language": "python",
      "name": "pp310"
    },
    "language_info": {
      "codemirror_mode": {
        "name": "ipython",
        "version": 3
      },
      "file_extension": ".py",
      "mimetype": "text/x-python",
      "name": "python",
      "nbconvert_exporter": "python",
      "pygments_lexer": "ipython3",
      "version": "3.10.11"
    },
    "toc": {
      "base_numbering": 1,
      "nav_menu": {},
      "number_sections": true,
      "sideBar": true,
      "skip_h1_title": false,
      "title_cell": "Table of Contents",
      "title_sidebar": "Contents",
      "toc_cell": false,
      "toc_position": {},
      "toc_section_display": true,
      "toc_window_display": true
    },
    "varInspector": {
      "cols": {
        "lenName": 16,
        "lenType": 16,
        "lenVar": 40
      },
      "kernels_config": {
        "python": {
          "delete_cmd_postfix": "",
          "delete_cmd_prefix": "del ",
          "library": "var_list.py",
          "varRefreshCmd": "print(var_dic_list())"
        },
        "r": {
          "delete_cmd_postfix": ") ",
          "delete_cmd_prefix": "rm(",
          "library": "var_list.r",
          "varRefreshCmd": "cat(var_dic_list()) "
        }
      },
      "types_to_exclude": [
        "module",
        "function",
        "builtin_function_or_method",
        "instance",
        "_Feature"
      ],
      "window_display": false
    }
  },
  "nbformat": 4,
  "nbformat_minor": 0
}
